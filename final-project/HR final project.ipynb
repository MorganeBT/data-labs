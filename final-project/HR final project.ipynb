{
 "cells": [
  {
   "cell_type": "code",
   "execution_count": 1,
   "metadata": {
    "scrolled": true
   },
   "outputs": [
    {
     "data": {
      "text/html": [
       "        <script type=\"text/javascript\">\n",
       "        window.PlotlyConfig = {MathJaxConfig: 'local'};\n",
       "        if (window.MathJax) {MathJax.Hub.Config({SVG: {font: \"STIX-Web\"}});}\n",
       "        if (typeof require !== 'undefined') {\n",
       "        require.undef(\"plotly\");\n",
       "        requirejs.config({\n",
       "            paths: {\n",
       "                'plotly': ['https://cdn.plot.ly/plotly-latest.min']\n",
       "            }\n",
       "        });\n",
       "        require(['plotly'], function(Plotly) {\n",
       "            window._Plotly = Plotly;\n",
       "        });\n",
       "        }\n",
       "        </script>\n",
       "        "
      ]
     },
     "metadata": {},
     "output_type": "display_data"
    },
    {
     "name": "stderr",
     "output_type": "stream",
     "text": [
      "C:\\Users\\morga\\Anaconda3\\lib\\site-packages\\sklearn\\externals\\joblib\\__init__.py:15: DeprecationWarning:\n",
      "\n",
      "sklearn.externals.joblib is deprecated in 0.21 and will be removed in 0.23. Please import this functionality directly from joblib, which can be installed with: pip install joblib. If this warning is raised when loading pickled models, you may need to re-serialize those models with scikit-learn 0.21+.\n",
      "\n"
     ]
    }
   ],
   "source": [
    "import pandas as pd\n",
    "import pandas_profiling\n",
    "import pandas.io\n",
    "import cufflinks as cf\n",
    "from lifelines import KaplanMeierFitter\n",
    "import chart_studio.plotly as py\n",
    "cf.go_offline()\n",
    "import datetime\n",
    "import numpy as np\n",
    "import matplotlib.pyplot as plt\n",
    "import seaborn as sns\n",
    "from sklearn import datasets, utils, tree, pipeline, preprocessing\n",
    "from sklearn.model_selection import train_test_split, cross_val_score, GridSearchCV\n",
    "from sklearn.linear_model import LogisticRegression\n",
    "from sklearn.metrics import recall_score, precision_score, confusion_matrix, accuracy_score, f1_score, balanced_accuracy_score\n",
    "from sklearn.preprocessing import StandardScaler, MinMaxScaler, RobustScaler\n",
    "from sklearn.ensemble import RandomForestClassifier\n",
    "from sklearn.neighbors import KNeighborsClassifier\n",
    "from sklearn.feature_selection import SelectKBest, chi2\n",
    "from sklearn.externals import joblib"
   ]
  },
  {
   "cell_type": "markdown",
   "metadata": {},
   "source": [
    "This is a relational data set where you can practice your SQL joins as well as data wrangling, analysis, and machine learning. As far as applying machine learning to this data set, you can attempt to cluster employees together into similar groups, you can attempt to predict performance scores or pay rate, or you can attempt to predict whether an employee will be terminated within a certain amount of time. <font color=blue>Additionally, you can also analyze the relationship between pay and performance by position, department, and manager as well as employee demographics</font>.\n",
    "You should perform the steps below:\n",
    "* Create a new MySQL database where your data will eventually be stored.\n",
    "* Create a new Jupyter Notebook for your project.\n",
    "1. In the Jupyter Notebook, read the data files using Python.\n",
    "2. Perform any necessary data __wrangling__ and __cleaning__ using Python.\n",
    "3. Create a connection to your _MySQL_ database using `pymysql` and `sqlalchemy` and write the clean version of the data to the database."
   ]
  },
  {
   "cell_type": "code",
   "execution_count": 3,
   "metadata": {},
   "outputs": [],
   "source": [
    "hr = pd.read_csv('HR.csv')"
   ]
  },
  {
   "cell_type": "code",
   "execution_count": null,
   "metadata": {
    "scrolled": true
   },
   "outputs": [],
   "source": [
    "hr.info()"
   ]
  },
  {
   "cell_type": "code",
   "execution_count": 4,
   "metadata": {},
   "outputs": [
    {
     "data": {
      "text/html": [
       "<div>\n",
       "<style scoped>\n",
       "    .dataframe tbody tr th:only-of-type {\n",
       "        vertical-align: middle;\n",
       "    }\n",
       "\n",
       "    .dataframe tbody tr th {\n",
       "        vertical-align: top;\n",
       "    }\n",
       "\n",
       "    .dataframe thead th {\n",
       "        text-align: right;\n",
       "    }\n",
       "</style>\n",
       "<table border=\"1\" class=\"dataframe\">\n",
       "  <thead>\n",
       "    <tr style=\"text-align: right;\">\n",
       "      <th></th>\n",
       "      <th>Employee_Name</th>\n",
       "      <th>EmpID</th>\n",
       "      <th>MarriedID</th>\n",
       "      <th>MaritalStatusID</th>\n",
       "      <th>GenderID</th>\n",
       "      <th>EmpStatusID</th>\n",
       "      <th>DeptID</th>\n",
       "      <th>PerfScoreID</th>\n",
       "      <th>FromDiversityJobFairID</th>\n",
       "      <th>PayRate</th>\n",
       "      <th>...</th>\n",
       "      <th>Department</th>\n",
       "      <th>ManagerName</th>\n",
       "      <th>ManagerID</th>\n",
       "      <th>RecruitmentSource</th>\n",
       "      <th>PerformanceScore</th>\n",
       "      <th>EngagementSurvey</th>\n",
       "      <th>EmpSatisfaction</th>\n",
       "      <th>SpecialProjectsCount</th>\n",
       "      <th>LastPerformanceReview_Date</th>\n",
       "      <th>DaysLateLast30</th>\n",
       "    </tr>\n",
       "  </thead>\n",
       "  <tbody>\n",
       "    <tr>\n",
       "      <th>0</th>\n",
       "      <td>Brown, Mia</td>\n",
       "      <td>1.103024e+09</td>\n",
       "      <td>1.0</td>\n",
       "      <td>1.0</td>\n",
       "      <td>0.0</td>\n",
       "      <td>1.0</td>\n",
       "      <td>1.0</td>\n",
       "      <td>3.0</td>\n",
       "      <td>1.0</td>\n",
       "      <td>28.50</td>\n",
       "      <td>...</td>\n",
       "      <td>Admin Offices</td>\n",
       "      <td>Brandon R. LeBlanc</td>\n",
       "      <td>1.0</td>\n",
       "      <td>Diversity Job Fair</td>\n",
       "      <td>Fully Meets</td>\n",
       "      <td>2.04</td>\n",
       "      <td>2.0</td>\n",
       "      <td>6.0</td>\n",
       "      <td>1/15/2019</td>\n",
       "      <td>0.0</td>\n",
       "    </tr>\n",
       "    <tr>\n",
       "      <th>1</th>\n",
       "      <td>LaRotonda, William</td>\n",
       "      <td>1.106027e+09</td>\n",
       "      <td>0.0</td>\n",
       "      <td>2.0</td>\n",
       "      <td>1.0</td>\n",
       "      <td>1.0</td>\n",
       "      <td>1.0</td>\n",
       "      <td>3.0</td>\n",
       "      <td>0.0</td>\n",
       "      <td>23.00</td>\n",
       "      <td>...</td>\n",
       "      <td>Admin Offices</td>\n",
       "      <td>Brandon R. LeBlanc</td>\n",
       "      <td>1.0</td>\n",
       "      <td>Website Banner Ads</td>\n",
       "      <td>Fully Meets</td>\n",
       "      <td>5.00</td>\n",
       "      <td>4.0</td>\n",
       "      <td>4.0</td>\n",
       "      <td>1/17/2019</td>\n",
       "      <td>0.0</td>\n",
       "    </tr>\n",
       "    <tr>\n",
       "      <th>2</th>\n",
       "      <td>Steans, Tyrone</td>\n",
       "      <td>1.302053e+09</td>\n",
       "      <td>0.0</td>\n",
       "      <td>0.0</td>\n",
       "      <td>1.0</td>\n",
       "      <td>1.0</td>\n",
       "      <td>1.0</td>\n",
       "      <td>3.0</td>\n",
       "      <td>0.0</td>\n",
       "      <td>29.00</td>\n",
       "      <td>...</td>\n",
       "      <td>Admin Offices</td>\n",
       "      <td>Brandon R. LeBlanc</td>\n",
       "      <td>1.0</td>\n",
       "      <td>Internet Search</td>\n",
       "      <td>Fully Meets</td>\n",
       "      <td>3.90</td>\n",
       "      <td>5.0</td>\n",
       "      <td>5.0</td>\n",
       "      <td>1/18/2019</td>\n",
       "      <td>0.0</td>\n",
       "    </tr>\n",
       "    <tr>\n",
       "      <th>3</th>\n",
       "      <td>Howard, Estelle</td>\n",
       "      <td>1.211051e+09</td>\n",
       "      <td>1.0</td>\n",
       "      <td>1.0</td>\n",
       "      <td>0.0</td>\n",
       "      <td>1.0</td>\n",
       "      <td>1.0</td>\n",
       "      <td>3.0</td>\n",
       "      <td>0.0</td>\n",
       "      <td>21.50</td>\n",
       "      <td>...</td>\n",
       "      <td>Admin Offices</td>\n",
       "      <td>Brandon R. LeBlanc</td>\n",
       "      <td>1.0</td>\n",
       "      <td>Pay Per Click - Google</td>\n",
       "      <td>Fully Meets</td>\n",
       "      <td>3.24</td>\n",
       "      <td>3.0</td>\n",
       "      <td>4.0</td>\n",
       "      <td>NaN</td>\n",
       "      <td>NaN</td>\n",
       "    </tr>\n",
       "    <tr>\n",
       "      <th>4</th>\n",
       "      <td>Singh, Nan</td>\n",
       "      <td>1.307060e+09</td>\n",
       "      <td>0.0</td>\n",
       "      <td>0.0</td>\n",
       "      <td>0.0</td>\n",
       "      <td>1.0</td>\n",
       "      <td>1.0</td>\n",
       "      <td>3.0</td>\n",
       "      <td>0.0</td>\n",
       "      <td>16.56</td>\n",
       "      <td>...</td>\n",
       "      <td>Admin Offices</td>\n",
       "      <td>Brandon R. LeBlanc</td>\n",
       "      <td>1.0</td>\n",
       "      <td>Website Banner Ads</td>\n",
       "      <td>Fully Meets</td>\n",
       "      <td>5.00</td>\n",
       "      <td>3.0</td>\n",
       "      <td>5.0</td>\n",
       "      <td>1/15/2019</td>\n",
       "      <td>0.0</td>\n",
       "    </tr>\n",
       "  </tbody>\n",
       "</table>\n",
       "<p>5 rows × 35 columns</p>\n",
       "</div>"
      ],
      "text/plain": [
       "          Employee_Name         EmpID  MarriedID  MaritalStatusID  GenderID  \\\n",
       "0            Brown, Mia  1.103024e+09        1.0              1.0       0.0   \n",
       "1  LaRotonda, William    1.106027e+09        0.0              2.0       1.0   \n",
       "2      Steans, Tyrone    1.302053e+09        0.0              0.0       1.0   \n",
       "3       Howard, Estelle  1.211051e+09        1.0              1.0       0.0   \n",
       "4           Singh, Nan   1.307060e+09        0.0              0.0       0.0   \n",
       "\n",
       "   EmpStatusID  DeptID  PerfScoreID  FromDiversityJobFairID  PayRate  ...  \\\n",
       "0          1.0     1.0          3.0                     1.0    28.50  ...   \n",
       "1          1.0     1.0          3.0                     0.0    23.00  ...   \n",
       "2          1.0     1.0          3.0                     0.0    29.00  ...   \n",
       "3          1.0     1.0          3.0                     0.0    21.50  ...   \n",
       "4          1.0     1.0          3.0                     0.0    16.56  ...   \n",
       "\n",
       "      Department         ManagerName ManagerID       RecruitmentSource  \\\n",
       "0  Admin Offices  Brandon R. LeBlanc       1.0      Diversity Job Fair   \n",
       "1  Admin Offices  Brandon R. LeBlanc       1.0      Website Banner Ads   \n",
       "2  Admin Offices  Brandon R. LeBlanc       1.0         Internet Search   \n",
       "3  Admin Offices  Brandon R. LeBlanc       1.0  Pay Per Click - Google   \n",
       "4  Admin Offices  Brandon R. LeBlanc       1.0      Website Banner Ads   \n",
       "\n",
       "   PerformanceScore EngagementSurvey EmpSatisfaction SpecialProjectsCount  \\\n",
       "0       Fully Meets             2.04             2.0                  6.0   \n",
       "1       Fully Meets             5.00             4.0                  4.0   \n",
       "2       Fully Meets             3.90             5.0                  5.0   \n",
       "3       Fully Meets             3.24             3.0                  4.0   \n",
       "4       Fully Meets             5.00             3.0                  5.0   \n",
       "\n",
       "  LastPerformanceReview_Date DaysLateLast30  \n",
       "0                  1/15/2019            0.0  \n",
       "1                  1/17/2019            0.0  \n",
       "2                  1/18/2019            0.0  \n",
       "3                        NaN            NaN  \n",
       "4                  1/15/2019            0.0  \n",
       "\n",
       "[5 rows x 35 columns]"
      ]
     },
     "execution_count": 4,
     "metadata": {},
     "output_type": "execute_result"
    }
   ],
   "source": [
    "hr.head()"
   ]
  },
  {
   "cell_type": "code",
   "execution_count": null,
   "metadata": {},
   "outputs": [],
   "source": [
    "pandas_profiling.ProfileReport(hr)"
   ]
  },
  {
   "cell_type": "code",
   "execution_count": null,
   "metadata": {},
   "outputs": [],
   "source": [
    "#The last 91 lines of the dataset seem contain nan values. Let's check it!\n",
    "hr.tail(91).isna().count()"
   ]
  },
  {
   "cell_type": "code",
   "execution_count": 4,
   "metadata": {},
   "outputs": [],
   "source": [
    "# I drop all these nan values rows.\n",
    "hr.dropna(how='all', inplace=True)"
   ]
  },
  {
   "cell_type": "code",
   "execution_count": null,
   "metadata": {
    "scrolled": true
   },
   "outputs": [],
   "source": [
    "hr.columns"
   ]
  },
  {
   "cell_type": "code",
   "execution_count": null,
   "metadata": {},
   "outputs": [],
   "source": [
    "hr.dtypes"
   ]
  },
  {
   "cell_type": "code",
   "execution_count": 5,
   "metadata": {},
   "outputs": [],
   "source": [
    "# To respect the anonymity, I delete the Employee_Name & ManagerName features\n",
    "hr.drop(columns =['Employee_Name','ManagerName'], inplace=True)"
   ]
  },
  {
   "cell_type": "code",
   "execution_count": null,
   "metadata": {
    "scrolled": true
   },
   "outputs": [],
   "source": [
    "# It seems that the Termd feature is highly correlated to EmpStatusID feature\n",
    "# First I look at the values in both of them\n",
    "print(\"The Termd values are : \\n\", hr.Termd.values)\n",
    "print(\"The EmpStatusID values are : \\n\", hr.EmpStatusID.values)"
   ]
  },
  {
   "cell_type": "code",
   "execution_count": 6,
   "metadata": {},
   "outputs": [],
   "source": [
    "# I decide to drop the Termd feature as the EmpStatusID gathers more complete information \n",
    "hr.drop(columns = 'Termd', inplace = True)"
   ]
  },
  {
   "cell_type": "code",
   "execution_count": null,
   "metadata": {},
   "outputs": [],
   "source": [
    "# I look at the date columns \n",
    "print(hr.DOB.values)\n",
    "print(hr.DateofHire.values)\n",
    "print(hr.DateofTermination.values)"
   ]
  },
  {
   "cell_type": "code",
   "execution_count": 7,
   "metadata": {},
   "outputs": [],
   "source": [
    "# I modify them in the right datetime format type\n",
    "from datetime import datetime\n",
    "hr['DOB']= pd.to_datetime(hr['DOB'], format= '%m/%d/%y') \n",
    "hr['DateofHire']= pd.to_datetime(hr['DateofHire']) \n",
    "hr['DateofTermination']= pd.to_datetime(hr['DateofTermination'], format='%m/%d/%y') \n",
    "hr['LastPerformanceReview_Date']= pd.to_datetime(hr['LastPerformanceReview_Date'])"
   ]
  },
  {
   "cell_type": "code",
   "execution_count": null,
   "metadata": {},
   "outputs": [],
   "source": [
    "hr.dtypes"
   ]
  },
  {
   "cell_type": "code",
   "execution_count": null,
   "metadata": {},
   "outputs": [],
   "source": [
    "print(hr.DOB)"
   ]
  },
  {
   "cell_type": "code",
   "execution_count": null,
   "metadata": {},
   "outputs": [],
   "source": [
    "hr.DaysLateLast30.value_counts()"
   ]
  },
  {
   "cell_type": "code",
   "execution_count": 8,
   "metadata": {},
   "outputs": [],
   "source": [
    "# In the DaysLateLast30 feature, values in 0 are missing, so I decide to delete it\n",
    "hr.drop(columns = 'DaysLateLast30', inplace = True)"
   ]
  },
  {
   "cell_type": "code",
   "execution_count": null,
   "metadata": {
    "scrolled": true
   },
   "outputs": [],
   "source": [
    "# I focus on ethnic origin features\n",
    "print(hr.HispanicLatino.value_counts())\n",
    "print(hr.RaceDesc.value_counts())"
   ]
  },
  {
   "cell_type": "code",
   "execution_count": 9,
   "metadata": {},
   "outputs": [],
   "source": [
    "# I decide to delete the HispanicLatino feature as the RaceDesc one gathers all ethnic origins\n",
    "hr.drop(columns = 'HispanicLatino', inplace = True)"
   ]
  },
  {
   "cell_type": "markdown",
   "metadata": {},
   "source": [
    "Then, you will start with the clean data set you stored in your database on the previous day. You will explore, analyze, and visualize the data using Python and Tableau, applying the variety of techniques you learned throughout the program.\n",
    "\n",
    "* In your Jupyter Notebook, read the clean data from your MySQL database.\n",
    "* Using Pandas, generate summaries of the data and calculate descriptive statistics.\n",
    "* Practice generating a few basic charts and graphs using `matplotlib` or `seaborn` as well."
   ]
  },
  {
   "cell_type": "code",
   "execution_count": null,
   "metadata": {
    "scrolled": true
   },
   "outputs": [],
   "source": [
    "hr.describe()"
   ]
  },
  {
   "cell_type": "code",
   "execution_count": null,
   "metadata": {},
   "outputs": [],
   "source": [
    "sns.heatmap(hr.corr(), cmap = 'RdYlGn',linewidth = .3)"
   ]
  },
  {
   "cell_type": "code",
   "execution_count": null,
   "metadata": {
    "scrolled": true
   },
   "outputs": [],
   "source": [
    "#your code here\n",
    "corr = hr.corr()\n",
    "# Generate a mask for the upper triangle\n",
    "mask = np.zeros_like(corr, dtype=np.bool)\n",
    "mask[np.triu_indices_from(mask)] = True\n",
    "# Set up the matplotlib figure\n",
    "f, ax = plt.subplots(figsize=(15, 9))\n",
    "# Draw the heatmap with the mask and correct aspect ratio\n",
    "sns.heatmap(corr, mask=mask, cmap='RdYlGn', vmax=1, center=0, annot = True,\n",
    "           square=True, linewidths=.5, cbar_kws={\"shrink\": .5})"
   ]
  },
  {
   "cell_type": "code",
   "execution_count": null,
   "metadata": {},
   "outputs": [],
   "source": [
    "#What is the overall diversity profile of the organization?"
   ]
  },
  {
   "cell_type": "code",
   "execution_count": null,
   "metadata": {
    "scrolled": true
   },
   "outputs": [],
   "source": [
    "plt.rcParams['figure.figsize'] = (5,4)\n",
    "sns.countplot(x='Sex', data = hr).set_title('Gender distribution')"
   ]
  },
  {
   "cell_type": "code",
   "execution_count": null,
   "metadata": {},
   "outputs": [],
   "source": [
    "plt.rcParams['figure.figsize'] = (10,6)\n",
    "sns.countplot(x='RaceDesc', data = hr).set_title('Ethnic origins distribution')"
   ]
  },
  {
   "cell_type": "code",
   "execution_count": null,
   "metadata": {},
   "outputs": [],
   "source": [
    "hr.RaceDesc.groupby(hr['Sex']).value_counts().plot(kind='barh', color = 'g').set_title('Ethnic origins by gender')"
   ]
  },
  {
   "cell_type": "code",
   "execution_count": null,
   "metadata": {},
   "outputs": [],
   "source": [
    "# I look at the distribution of where employees are sourced\n",
    "hr.RecruitmentSource.value_counts().plot(kind = 'bar', color = 'orange', figsize=(10, 6)).set_title('The 2 most common sources are: \\n Employee referral and Diversity Job Fair')"
   ]
  },
  {
   "cell_type": "code",
   "execution_count": null,
   "metadata": {},
   "outputs": [],
   "source": [
    "#plt.rcParams['figure.figsize'] = (10,5)\n",
    "#sns.countplot(x='PayGrade', data = hr).sort_values(ascending = False).set_title('Pay Grade distribution')\n",
    "#hr.PayGrade.value_counts().plot(kind = 'bar', color = 'orange', figsize=(10,4)).set_title('Pay Grade distribution')"
   ]
  },
  {
   "cell_type": "code",
   "execution_count": null,
   "metadata": {
    "scrolled": true
   },
   "outputs": [],
   "source": [
    "# I look at the distribution of performance score among the employees\n",
    "hr['PerformanceScore'].value_counts().plot(kind = 'bar', color = 'green',figsize=(7,3))\n",
    "plt.title('Performance is on majority fully met.') #performance improvement plan : PIP"
   ]
  },
  {
   "cell_type": "code",
   "execution_count": null,
   "metadata": {
    "scrolled": false
   },
   "outputs": [],
   "source": [
    "hr.PerformanceScore.unique()"
   ]
  },
  {
   "cell_type": "code",
   "execution_count": null,
   "metadata": {},
   "outputs": [],
   "source": [
    "#Is there any relationship between who a person works for and their performance score?\n",
    "hr.ManagerID.corr(hr.PerfScoreID)"
   ]
  },
  {
   "cell_type": "code",
   "execution_count": null,
   "metadata": {},
   "outputs": [],
   "source": [
    "#Is there any relationship between who a person pay rate and their performance score?\n",
    "hr.PayRate.corr(hr.PerfScoreID)"
   ]
  },
  {
   "cell_type": "code",
   "execution_count": null,
   "metadata": {
    "scrolled": false
   },
   "outputs": [],
   "source": [
    "# I look at the correlation between the pay rate and the performance score\n",
    "sns.boxplot(x=\"PerformanceScore\", y=\"PayRate\", color = 'cyan', data=hr).set_title('Performance is not linked to pay rate')"
   ]
  },
  {
   "cell_type": "code",
   "execution_count": null,
   "metadata": {
    "scrolled": true
   },
   "outputs": [],
   "source": [
    "plt.rcParams['figure.figsize'] = (10,4)\n",
    "sns.scatterplot(x=\"EngagementSurvey\", y=\"PayRate\", color = 'c', data=hr).set_title('Engagement rated by pay rate')"
   ]
  },
  {
   "cell_type": "code",
   "execution_count": null,
   "metadata": {
    "scrolled": true
   },
   "outputs": [],
   "source": [
    "#Are there areas of the company where pay is not equitable?\n",
    "PayRate_mean = hr[\"PayRate\"].groupby(hr[\"Department\"]).agg(\"mean\").sort_values(ascending = True) \n",
    "#hr.groupby(['Department'])['PayRate'].mean().sort_values(ascending = True)\n",
    "display(PayRate_mean)\n",
    "PayRate_mean.plot.barh(color = 'm',figsize=(8,2)).set_title('Admin Offices and Production areas are paid lower')"
   ]
  },
  {
   "cell_type": "code",
   "execution_count": 10,
   "metadata": {},
   "outputs": [],
   "source": [
    "# Here is a function to calculate tenure from a date\n",
    "def calculate_age(birthdayDate, today):\n",
    "    if pd.isnull(birthdayDate):\n",
    "        return np.nan\n",
    "    else:\n",
    "        return today.year - birthdayDate.year - ((today.month, today.day) < (birthdayDate.month, birthdayDate.day))"
   ]
  },
  {
   "cell_type": "code",
   "execution_count": 11,
   "metadata": {},
   "outputs": [],
   "source": [
    "# I create new columns regarding age and seniority\n",
    "import datetime\n",
    "today = datetime.date.today()\n",
    "hr['age'] = hr['DOB'].apply(lambda x: abs(calculate_age(x, today)))\n",
    "hr['seniority'] = hr['DateofHire'].apply(lambda x: abs(calculate_age(x, today)))"
   ]
  },
  {
   "cell_type": "code",
   "execution_count": null,
   "metadata": {},
   "outputs": [],
   "source": [
    "# I check if ages are displayed in the new column\n",
    "hr['age'].values"
   ]
  },
  {
   "cell_type": "code",
   "execution_count": null,
   "metadata": {
    "scrolled": true
   },
   "outputs": [],
   "source": [
    "hr['age'].hist(bins = 23, color = 'y', figsize = (6,4)).set_title('Age distribution')"
   ]
  },
  {
   "cell_type": "code",
   "execution_count": null,
   "metadata": {},
   "outputs": [],
   "source": [
    "hr['seniority'].hist(bins = 12, color = 'g').set_title('Seniority distribution')"
   ]
  },
  {
   "cell_type": "code",
   "execution_count": null,
   "metadata": {
    "scrolled": true
   },
   "outputs": [],
   "source": [
    "# Now I want to focuss on termination reason\n",
    "# I identify the values of the TermReason feature\n",
    "hr.TermReason.unique()"
   ]
  },
  {
   "cell_type": "code",
   "execution_count": null,
   "metadata": {},
   "outputs": [],
   "source": [
    "#I subset the data of every employee in termination\n",
    "Termination = hr[hr['TermReason']!='N/A - still employed'][hr['DateofTermination']!='NaT']\n",
    "Termination.head()"
   ]
  },
  {
   "cell_type": "code",
   "execution_count": null,
   "metadata": {
    "scrolled": false
   },
   "outputs": [],
   "source": [
    "# I look at the pay rate of employees who terminated\n",
    "Termination.boxplot(column = 'PayRate',figsize=(3,8)).set_title('Pay rate of Termination people')\n",
    "Termination.PayRate.describe()"
   ]
  },
  {
   "cell_type": "code",
   "execution_count": null,
   "metadata": {
    "scrolled": true
   },
   "outputs": [],
   "source": [
    "# I look at the distribution of TermReason feature values\n",
    "Termination.TermReason.value_counts().plot(kind = 'barh', color = 'y', figsize=(10,4))\n",
    "plt.title('After internal mobility, unhapiness is the main reason of termination.')"
   ]
  },
  {
   "cell_type": "code",
   "execution_count": null,
   "metadata": {
    "scrolled": true
   },
   "outputs": [],
   "source": [
    "#sns.scatterplot(x=\"RecruitmentSource\", y=\"PayRate\", color = 'r', data=Termination) #recupérer le top 3 pour regarder les salaires"
   ]
  },
  {
   "cell_type": "code",
   "execution_count": 12,
   "metadata": {},
   "outputs": [],
   "source": [
    "# I create a feature to show attrition\n",
    "hr['Attrition'] = np.where(hr['TermReason']!='N/A - still employed', 1, 0)"
   ]
  },
  {
   "cell_type": "code",
   "execution_count": null,
   "metadata": {
    "scrolled": true
   },
   "outputs": [],
   "source": [
    "cols=['age','seniority','PayRate','EngagementSurvey']\n",
    "df=Termination[cols]\n",
    "fig,axes = plt.subplots(figsize = (11,4), nrows = 1, ncols = 3)\n",
    "for i in range(3):\n",
    "    plt.sca(axes[i])\n",
    "    plt.scatter(df.iloc[:,i],Termination['EngagementSurvey'], alpha = 0.4, color = 'c')\n",
    "    plt.xlabel(df.iloc[:,i].name)\n",
    "    plt.ylabel('EngagementSurvey')\n",
    "plt.title('Termination Engagement survey rating, \\n by age, seniority and pay rate')"
   ]
  },
  {
   "cell_type": "code",
   "execution_count": null,
   "metadata": {},
   "outputs": [],
   "source": [
    "# Most employees who terminated have had 8-year seniority, were paid under 30€/hour and from all ages."
   ]
  },
  {
   "cell_type": "code",
   "execution_count": null,
   "metadata": {},
   "outputs": [],
   "source": [
    "hr.head()"
   ]
  },
  {
   "cell_type": "code",
   "execution_count": null,
   "metadata": {},
   "outputs": [],
   "source": [
    "\"\"\"#What are our best recruiting sources if we want to ensure a diverse organization?\n",
    "BestRecrSources = pd.pivot_table(hr, index = ['RecruitmentSource','Sex','RaceDesc'], values=['PayRate','GenderID'], aggfunc = {'GenderID':'sum', 'PayRate':np.sum})\n",
    "BestRecrSources.sort_values('RecruitmentSource', ascending=True)\n",
    "\n",
    "TOPRecrSources = hr.sort_values('RecruitmentSource', ascending=False)[['RaceDesc', 'GenderID', 'PayRate']].head()\n",
    "TOPRecrSources\n",
    "#hr.GenderID.groupby(hr['RecruitmentSource']).plot(kind = 'bar').agg('count')\"\"\""
   ]
  },
  {
   "cell_type": "code",
   "execution_count": null,
   "metadata": {},
   "outputs": [],
   "source": [
    "\"\"\"table5 = pd.pivot_table(hr, index = ['RecruitmentSource','RaceDesc', 'Sex'], values = 'PayRate', aggfunc={'PayRate': [np.median, min, max, np.std]}, fill_value='only one employee')#.sort_values(ascending = False)\n",
    "table5.plot(kind = 'barh')\"\"\""
   ]
  },
  {
   "cell_type": "code",
   "execution_count": null,
   "metadata": {},
   "outputs": [],
   "source": [
    "table1 = pd.pivot_table(hr, index = ['Sex', 'RaceDesc'], values = 'PayRate', aggfunc={'PayRate': [np.median, min, max, np.std]}, fill_value='only one employee')\n",
    "display(table1)\n",
    "table1.plot(figsize = (18,4))"
   ]
  },
  {
   "cell_type": "code",
   "execution_count": null,
   "metadata": {
    "scrolled": true
   },
   "outputs": [],
   "source": [
    "table2 = pd.pivot_table(hr, index = ['Department','Sex'], values = 'PayRate', aggfunc={'PayRate': [np.median, min, max, np.std]}, fill_value='only one employee')\n",
    "display(table2)\n",
    "table2.plot(figsize = (18,4))"
   ]
  },
  {
   "cell_type": "code",
   "execution_count": null,
   "metadata": {
    "scrolled": true
   },
   "outputs": [],
   "source": [
    "table3 = pd.pivot_table(hr, index = ['RecruitmentSource'], values=['RaceDesc','GenderID'], aggfunc ={'RaceDesc':'unique','GenderID':'unique'})\n",
    "table3"
   ]
  },
  {
   "cell_type": "code",
   "execution_count": null,
   "metadata": {},
   "outputs": [],
   "source": [
    "# I generate and plot a survival function that shows how employee retention rates vary by feature.\n",
    "\n",
    "def survival(data, group_field, time_field, event_field):\n",
    "    kmf = KaplanMeierFitter()\n",
    "    results = []\n",
    "\n",
    "    for i in data[group_field].unique():\n",
    "        group = data[data[group_field]==i]\n",
    "        T = group[time_field]\n",
    "        E = group[event_field]\n",
    "        kmf.fit(T, E, label=str(i))\n",
    "        results.append(kmf.survival_function_)\n",
    "\n",
    "    survival = pd.concat(results, axis=1)\n",
    "    front_fill = survival.fillna(method='ffill')\n",
    "    back_fill = survival.fillna(method='bfill')\n",
    "    smoothed = (front_fill + back_fill) / 2\n",
    "    return smoothed"
   ]
  },
  {
   "cell_type": "code",
   "execution_count": null,
   "metadata": {
    "scrolled": true
   },
   "outputs": [],
   "source": [
    "Attrition = survival(hr, 'Sex','age','Attrition' )\n",
    "Attrition.iplot(kind='line', xTitle='Tenure (Age)', yTitle='Attrition Rate',\n",
    "            title='Retention rates by gender and employee age')"
   ]
  },
  {
   "cell_type": "code",
   "execution_count": null,
   "metadata": {
    "scrolled": true
   },
   "outputs": [],
   "source": [
    "Attrition = survival(hr, 'Sex','seniority','Attrition' )\n",
    "Attrition.iplot(kind='line', xTitle='Tenure (Years at Company)', yTitle='Attrition Rate',\n",
    "            title='Retention rates by gender and Seniority')"
   ]
  },
  {
   "cell_type": "code",
   "execution_count": null,
   "metadata": {
    "scrolled": true
   },
   "outputs": [],
   "source": [
    "Attrition = survival(hr,'MaritalDesc','seniority','Attrition' )\n",
    "Attrition.iplot(kind='line', xTitle='Tenure(YearsAtCompany)', yTitle='Attrition Rate',\n",
    "            title='Retention rates by Marital Status and Seniority')"
   ]
  },
  {
   "cell_type": "code",
   "execution_count": null,
   "metadata": {
    "scrolled": true
   },
   "outputs": [],
   "source": [
    "Attrition = survival(hr,'MaritalDesc','age','Attrition' )\n",
    "Attrition.iplot(kind='line', xTitle='Tenure(Age)', yTitle='Attrition Rate',\n",
    "            title='Retention rates by Marital Status and Age')"
   ]
  },
  {
   "cell_type": "code",
   "execution_count": null,
   "metadata": {
    "scrolled": true
   },
   "outputs": [],
   "source": [
    "Attrition = survival(hr,'EmpSatisfaction','seniority','Attrition' )\n",
    "Attrition.iplot(kind='line', xTitle='Tenure(Years at Company)', yTitle='Attrition Rate',\n",
    "            title='Retention rates by Employement satisfaction and Seniority')"
   ]
  },
  {
   "cell_type": "code",
   "execution_count": null,
   "metadata": {},
   "outputs": [],
   "source": [
    "hr['PayGrade'] = pd.qcut(hr['PayRate'], 5, labels=['Very Low', 'Low', 'Moderate', 'High', 'Very High'])\n",
    "rates = survival(hr, 'PayGrade', 'age', 'Attrition')\n",
    "rates.iplot(kind='line', xTitle='age', yTitle='Retention', title='Retention Rates by Age and Pay Grade')"
   ]
  },
  {
   "cell_type": "code",
   "execution_count": null,
   "metadata": {},
   "outputs": [],
   "source": []
  },
  {
   "cell_type": "markdown",
   "metadata": {},
   "source": [
    "* Export your clean data set to a CSV file.\n",
    "* Open <font color = green>Tableau Public</font> and load the CSV file.\n",
    "* Explore the data in Tableau and *look for interesting <font color=green>insights</font>*.\n",
    "* Put together an annotated <font color=green>Tableau Story</font> __communicating__ the insights you have discovered."
   ]
  },
  {
   "cell_type": "code",
   "execution_count": null,
   "metadata": {},
   "outputs": [],
   "source": [
    "# Store the clean data set\n",
    "#hr = hr.to_csv('clean_HR.csv', index=False)"
   ]
  },
  {
   "cell_type": "markdown",
   "metadata": {},
   "source": [
    "Then, you will be using the analysis you performed and the <font color=green>insights</font> you discovered the previous day to help frame your machine learning problem, select and engineer appropriate features, train your models, and evaluate performance.\n",
    "\n",
    "* If you are planning on doing supervised machine learning, identify the <font color=red>target</font> target variable you would like to train a model to predict. Also determine whether you will be doing regression (target variable is continuous) or classification (target variable is discrete).\n",
    "* Perform <font color=red>feature selection/engineering </font> to arrive at the features you feel best represent the problem you are trying to solve. During this stage, you may need to <font color=red>normalize or scale</font> your variables.\n",
    "* Train a couple machine learning models on the data.\n",
    "* Evaluate the performance of the models.\n",
    "* Prepare a presentation of your findings and results."
   ]
  },
  {
   "cell_type": "code",
   "execution_count": null,
   "metadata": {},
   "outputs": [],
   "source": [
    "#Can we predict who is going to terminate and who isn't? What level of accuracy can we achieve on this?"
   ]
  },
  {
   "cell_type": "code",
   "execution_count": null,
   "metadata": {
    "scrolled": true
   },
   "outputs": [],
   "source": []
  },
  {
   "cell_type": "code",
   "execution_count": 13,
   "metadata": {},
   "outputs": [
    {
     "data": {
      "text/plain": [
       "Index(['EmpID', 'MarriedID', 'MaritalStatusID', 'GenderID', 'EmpStatusID',\n",
       "       'DeptID', 'PerfScoreID', 'FromDiversityJobFairID', 'PayRate',\n",
       "       'PositionID', 'Position', 'State', 'Zip', 'DOB', 'Sex', 'MaritalDesc',\n",
       "       'CitizenDesc', 'RaceDesc', 'DateofHire', 'DateofTermination',\n",
       "       'TermReason', 'EmploymentStatus', 'Department', 'ManagerID',\n",
       "       'RecruitmentSource', 'PerformanceScore', 'EngagementSurvey',\n",
       "       'EmpSatisfaction', 'SpecialProjectsCount', 'LastPerformanceReview_Date',\n",
       "       'age', 'seniority', 'Attrition'],\n",
       "      dtype='object')"
      ]
     },
     "execution_count": 13,
     "metadata": {},
     "output_type": "execute_result"
    }
   ],
   "source": [
    "hr.columns"
   ]
  },
  {
   "cell_type": "code",
   "execution_count": null,
   "metadata": {},
   "outputs": [],
   "source": [
    "hr[['PerfScoreID', 'PerformanceScore']].groupby(['PerfScoreID']).min()"
   ]
  },
  {
   "cell_type": "code",
   "execution_count": null,
   "metadata": {
    "scrolled": false
   },
   "outputs": [],
   "source": [
    "hr[['MarriedID', 'MaritalStatusID']].groupby(['MaritalStatusID']).min()"
   ]
  },
  {
   "cell_type": "code",
   "execution_count": null,
   "metadata": {},
   "outputs": [],
   "source": [
    "hr[['MaritalDesc', 'MaritalStatusID']].groupby(['MaritalStatusID']).min()"
   ]
  },
  {
   "cell_type": "code",
   "execution_count": null,
   "metadata": {
    "scrolled": false
   },
   "outputs": [],
   "source": [
    "hr[['GenderID', 'Sex']].groupby(['GenderID']).min()"
   ]
  },
  {
   "cell_type": "code",
   "execution_count": null,
   "metadata": {},
   "outputs": [],
   "source": [
    "hr[['RecruitmentSource', 'FromDiversityJobFairID']].groupby(['RecruitmentSource']).sum()"
   ]
  },
  {
   "cell_type": "code",
   "execution_count": null,
   "metadata": {
    "scrolled": true
   },
   "outputs": [],
   "source": [
    "hr[['PositionID', 'Position']].groupby(['PositionID']).min()"
   ]
  },
  {
   "cell_type": "code",
   "execution_count": null,
   "metadata": {
    "scrolled": false
   },
   "outputs": [],
   "source": [
    "Position_mean = hr[[\"Position\", \"PayRate\"]].groupby([\"Position\"]).agg(\"mean\").sort_values(by=['PayRate'], ascending = False)\n",
    "Position_mean.plot.bar().set_title('Means of pay rate per position')"
   ]
  },
  {
   "cell_type": "code",
   "execution_count": null,
   "metadata": {
    "scrolled": true
   },
   "outputs": [],
   "source": [
    "set(hr.Position.value_counts())"
   ]
  },
  {
   "cell_type": "code",
   "execution_count": null,
   "metadata": {},
   "outputs": [],
   "source": [
    "hr.Position.value_counts(ascending = True)"
   ]
  },
  {
   "cell_type": "code",
   "execution_count": null,
   "metadata": {},
   "outputs": [],
   "source": [
    "hr[hr.Position == 'Data Analyst ']['PayRate'].mean()\n",
    "hr[hr.Position == 'Data Analyst ']['PayRate'].value_counts()"
   ]
  },
  {
   "cell_type": "code",
   "execution_count": null,
   "metadata": {
    "scrolled": true
   },
   "outputs": [],
   "source": [
    "hr[hr.Position == 'Data Analyst']['PayRate'].mean()\n",
    "hr[hr.Position == 'Data Analyst']['PayRate'].value_counts()"
   ]
  },
  {
   "cell_type": "code",
   "execution_count": null,
   "metadata": {},
   "outputs": [],
   "source": [
    "hr['Position'] = hr['Position'].str.replace('Data Analyst ','Data Analyst')\n",
    "hr[hr.Position == 'Data Analyst']['PayRate'].value_counts()"
   ]
  },
  {
   "cell_type": "code",
   "execution_count": null,
   "metadata": {
    "scrolled": true
   },
   "outputs": [],
   "source": [
    "hr[['DeptID', 'Department']].groupby(['DeptID']).min()"
   ]
  },
  {
   "cell_type": "code",
   "execution_count": null,
   "metadata": {
    "scrolled": true
   },
   "outputs": [],
   "source": [
    "hr.EmploymentStatus.value_counts()"
   ]
  },
  {
   "cell_type": "code",
   "execution_count": null,
   "metadata": {
    "scrolled": true
   },
   "outputs": [],
   "source": [
    "hr.EmpStatusID.value_counts()"
   ]
  },
  {
   "cell_type": "code",
   "execution_count": null,
   "metadata": {},
   "outputs": [],
   "source": [
    "hr.SpecialProjectsCount.value_counts()"
   ]
  },
  {
   "cell_type": "code",
   "execution_count": 15,
   "metadata": {},
   "outputs": [
    {
     "data": {
      "text/plain": [
       "\"\\nTarget : 'Attrition'\\n\""
      ]
     },
     "execution_count": 15,
     "metadata": {},
     "output_type": "execute_result"
    }
   ],
   "source": [
    "\n",
    "hr.drop(columns = ['EmpID', 'MarriedID', 'EmpStatusID', 'DeptID', 'PerfScoreID', 'FromDiversityJobFairID', 'PositionID', 'Position', 'State', 'Zip', 'DOB', 'Sex',\n",
    "       'CitizenDesc', 'DateofHire', 'DateofTermination', 'TermReason', 'EmploymentStatus', 'ManagerID','RecruitmentSource', \n",
    "       'EmpSatisfaction', 'SpecialProjectsCount', 'LastPerformanceReview_Date'], inplace = True)\n",
    "\n",
    "\"\"\"\n",
    "Target : 'Attrition'\n",
    "\"\"\""
   ]
  },
  {
   "cell_type": "code",
   "execution_count": 16,
   "metadata": {},
   "outputs": [
    {
     "data": {
      "text/html": [
       "<div>\n",
       "<style scoped>\n",
       "    .dataframe tbody tr th:only-of-type {\n",
       "        vertical-align: middle;\n",
       "    }\n",
       "\n",
       "    .dataframe tbody tr th {\n",
       "        vertical-align: top;\n",
       "    }\n",
       "\n",
       "    .dataframe thead th {\n",
       "        text-align: right;\n",
       "    }\n",
       "</style>\n",
       "<table border=\"1\" class=\"dataframe\">\n",
       "  <thead>\n",
       "    <tr style=\"text-align: right;\">\n",
       "      <th></th>\n",
       "      <th>MaritalStatusID</th>\n",
       "      <th>GenderID</th>\n",
       "      <th>PayRate</th>\n",
       "      <th>MaritalDesc</th>\n",
       "      <th>RaceDesc</th>\n",
       "      <th>Department</th>\n",
       "      <th>PerformanceScore</th>\n",
       "      <th>EngagementSurvey</th>\n",
       "      <th>age</th>\n",
       "      <th>seniority</th>\n",
       "      <th>Attrition</th>\n",
       "    </tr>\n",
       "  </thead>\n",
       "  <tbody>\n",
       "    <tr>\n",
       "      <th>0</th>\n",
       "      <td>1.0</td>\n",
       "      <td>0.0</td>\n",
       "      <td>28.50</td>\n",
       "      <td>Married</td>\n",
       "      <td>Black or African American</td>\n",
       "      <td>Admin Offices</td>\n",
       "      <td>Fully Meets</td>\n",
       "      <td>2.04</td>\n",
       "      <td>32</td>\n",
       "      <td>11</td>\n",
       "      <td>0</td>\n",
       "    </tr>\n",
       "    <tr>\n",
       "      <th>1</th>\n",
       "      <td>2.0</td>\n",
       "      <td>1.0</td>\n",
       "      <td>23.00</td>\n",
       "      <td>Divorced</td>\n",
       "      <td>Black or African American</td>\n",
       "      <td>Admin Offices</td>\n",
       "      <td>Fully Meets</td>\n",
       "      <td>5.00</td>\n",
       "      <td>35</td>\n",
       "      <td>5</td>\n",
       "      <td>0</td>\n",
       "    </tr>\n",
       "    <tr>\n",
       "      <th>2</th>\n",
       "      <td>0.0</td>\n",
       "      <td>1.0</td>\n",
       "      <td>29.00</td>\n",
       "      <td>Single</td>\n",
       "      <td>White</td>\n",
       "      <td>Admin Offices</td>\n",
       "      <td>Fully Meets</td>\n",
       "      <td>3.90</td>\n",
       "      <td>33</td>\n",
       "      <td>5</td>\n",
       "      <td>0</td>\n",
       "    </tr>\n",
       "    <tr>\n",
       "      <th>3</th>\n",
       "      <td>1.0</td>\n",
       "      <td>0.0</td>\n",
       "      <td>21.50</td>\n",
       "      <td>Married</td>\n",
       "      <td>White</td>\n",
       "      <td>Admin Offices</td>\n",
       "      <td>Fully Meets</td>\n",
       "      <td>3.24</td>\n",
       "      <td>34</td>\n",
       "      <td>4</td>\n",
       "      <td>1</td>\n",
       "    </tr>\n",
       "    <tr>\n",
       "      <th>4</th>\n",
       "      <td>0.0</td>\n",
       "      <td>0.0</td>\n",
       "      <td>16.56</td>\n",
       "      <td>Single</td>\n",
       "      <td>White</td>\n",
       "      <td>Admin Offices</td>\n",
       "      <td>Fully Meets</td>\n",
       "      <td>5.00</td>\n",
       "      <td>31</td>\n",
       "      <td>4</td>\n",
       "      <td>0</td>\n",
       "    </tr>\n",
       "  </tbody>\n",
       "</table>\n",
       "</div>"
      ],
      "text/plain": [
       "   MaritalStatusID  GenderID  PayRate MaritalDesc                   RaceDesc  \\\n",
       "0              1.0       0.0    28.50     Married  Black or African American   \n",
       "1              2.0       1.0    23.00    Divorced  Black or African American   \n",
       "2              0.0       1.0    29.00      Single                      White   \n",
       "3              1.0       0.0    21.50     Married                      White   \n",
       "4              0.0       0.0    16.56      Single                      White   \n",
       "\n",
       "      Department PerformanceScore  EngagementSurvey  age  seniority  Attrition  \n",
       "0  Admin Offices      Fully Meets              2.04   32         11          0  \n",
       "1  Admin Offices      Fully Meets              5.00   35          5          0  \n",
       "2  Admin Offices      Fully Meets              3.90   33          5          0  \n",
       "3  Admin Offices      Fully Meets              3.24   34          4          1  \n",
       "4  Admin Offices      Fully Meets              5.00   31          4          0  "
      ]
     },
     "execution_count": 16,
     "metadata": {},
     "output_type": "execute_result"
    }
   ],
   "source": [
    "hr.head()"
   ]
  },
  {
   "cell_type": "code",
   "execution_count": 17,
   "metadata": {},
   "outputs": [
    {
     "data": {
      "text/plain": [
       "Index(['MaritalStatusID', 'GenderID', 'PayRate', 'EngagementSurvey', 'age',\n",
       "       'seniority', 'Attrition', 'MaritalDesc_Divorced', 'MaritalDesc_Married',\n",
       "       'MaritalDesc_Separated', 'MaritalDesc_Single', 'MaritalDesc_Widowed',\n",
       "       'PerformanceScore_Exceeds', 'PerformanceScore_Fully Meets',\n",
       "       'PerformanceScore_Needs Improvement', 'PerformanceScore_PIP',\n",
       "       'Department_Admin Offices', 'Department_Executive Office',\n",
       "       'Department_IT/IS', 'Department_Production       ', 'Department_Sales',\n",
       "       'Department_Software Engineering',\n",
       "       'RaceDesc_American Indian or Alaska Native', 'RaceDesc_Asian',\n",
       "       'RaceDesc_Black or African American', 'RaceDesc_Hispanic',\n",
       "       'RaceDesc_Two or more races', 'RaceDesc_White'],\n",
       "      dtype='object')"
      ]
     },
     "execution_count": 17,
     "metadata": {},
     "output_type": "execute_result"
    }
   ],
   "source": [
    "# get_dummies on numerical categorical variables \n",
    "hr = pd.get_dummies(data=hr, columns=['MaritalDesc', 'PerformanceScore', 'Department', 'RaceDesc'], drop_first= False)\n",
    "hr.columns"
   ]
  },
  {
   "cell_type": "code",
   "execution_count": 18,
   "metadata": {},
   "outputs": [],
   "source": [
    "from sklearn.preprocessing import minmax_scale\n",
    "hr[['age','PayRate','seniority','EngagementSurvey',]] = minmax_scale(hr[['age','PayRate','seniority','EngagementSurvey']])"
   ]
  },
  {
   "cell_type": "code",
   "execution_count": 19,
   "metadata": {},
   "outputs": [],
   "source": [
    "x_columns = [col for col in hr.columns.values if col != \"Attrition\"]\n",
    "hr_variables = hr[x_columns]\n",
    "\n",
    "X, y = hr[x_columns], hr.Attrition\n",
    "X_train, X_test, y_train, y_test = train_test_split(X, y, test_size=0.20)"
   ]
  },
  {
   "cell_type": "code",
   "execution_count": 20,
   "metadata": {
    "scrolled": true
   },
   "outputs": [
    {
     "data": {
      "text/plain": [
       "((248, 27), (62, 27), (248,), (62,))"
      ]
     },
     "execution_count": 20,
     "metadata": {},
     "output_type": "execute_result"
    }
   ],
   "source": [
    "X_train.shape, X_test.shape, y_train.shape, y_test.shape"
   ]
  },
  {
   "cell_type": "code",
   "execution_count": 52,
   "metadata": {},
   "outputs": [
    {
     "name": "stdout",
     "output_type": "stream",
     "text": [
      "27\n",
      "27\n"
     ]
    },
    {
     "name": "stderr",
     "output_type": "stream",
     "text": [
      "C:\\Users\\morga\\Anaconda3\\lib\\site-packages\\sklearn\\ensemble\\forest.py:245: FutureWarning:\n",
      "\n",
      "The default value of n_estimators will change from 10 in version 0.20 to 100 in 0.22.\n",
      "\n"
     ]
    }
   ],
   "source": [
    "clf = RandomForestClassifier()\n",
    "clf.fit(hr_variables, hr.Attrition) # targets/labels\n",
    "\n",
    "print(len(clf.feature_importances_))\n",
    "print(len(x_columns))"
   ]
  },
  {
   "cell_type": "code",
   "execution_count": 70,
   "metadata": {},
   "outputs": [
    {
     "data": {
      "image/png": "[encoded data removed]",
      "text/plain": [
       "<Figure size 698.976x432 with 1 Axes>"
      ]
     },
     "metadata": {
      "needs_background": "light"
     },
     "output_type": "display_data"
    }
   ],
   "source": [
    "plt.figure(figsize=(6 * 1.618, 6))\n",
    "index = np.arange(len(x_columns))\n",
    "\n",
    "        \n",
    "bar_width = 0.1\n",
    "plt.bar(index, clf.feature_importances_, color='green', alpha=0.8)\n",
    "plt.xlabel('features')\n",
    "plt.ylabel('importance')\n",
    "plt.title('Feature importance')\n",
    "plt.xticks(index + bar_width, x_columns, rotation = 90)\n",
    "plt.tight_layout()\n",
    "plt.show()"
   ]
  },
  {
   "cell_type": "code",
   "execution_count": 67,
   "metadata": {
    "scrolled": true
   },
   "outputs": [
    {
     "name": "stdout",
     "output_type": "stream",
     "text": [
      "Feature ranking:\n",
      "1. feature 5 (0.244069)\n",
      "2. feature 2 (0.157003)\n",
      "3. feature 3 (0.150004)\n",
      "4. feature 4 (0.124448)\n",
      "5. feature 18 (0.032067)\n",
      "6. feature 26 (0.026469)\n",
      "7. feature 1 (0.025185)\n",
      "8. feature 12 (0.025054)\n",
      "9. feature 0 (0.023586)\n",
      "10. feature 6 (0.020726)\n",
      "11. feature 9 (0.020650)\n",
      "12. feature 23 (0.020505)\n",
      "13. feature 22 (0.017903)\n",
      "14. feature 17 (0.017551)\n",
      "15. feature 13 (0.016799)\n",
      "16. feature 25 (0.014975)\n",
      "17. feature 7 (0.013545)\n",
      "18. feature 11 (0.010273)\n",
      "19. feature 14 (0.008240)\n",
      "20. feature 19 (0.007583)\n",
      "21. feature 21 (0.005708)\n",
      "22. feature 8 (0.005629)\n",
      "23. feature 20 (0.003786)\n",
      "24. feature 10 (0.003682)\n",
      "25. feature 15 (0.003195)\n",
      "26. feature 24 (0.001172)\n"
     ]
    }
   ],
   "source": [
    "importances = clf.feature_importances_\n",
    "indices = np.argsort(importances)[::-1]\n",
    "\n",
    "# Print the feature ranking\n",
    "print(\"Feature ranking:\")\n",
    "\n",
    "for f in range(X_train.shape[1] - 1) :\n",
    "    print(\"%d. feature %d (%f)\" % (f + 1, indices[f], importances[indices[f]]))"
   ]
  },
  {
   "cell_type": "code",
   "execution_count": 21,
   "metadata": {},
   "outputs": [
    {
     "name": "stdout",
     "output_type": "stream",
     "text": [
      "[[26  2]\n",
      " [23 11]]\n",
      "Accuracy: 0.5967741935483871\n",
      "Precision score: [0.53061224 0.84615385]\n",
      "Recall score: [0.92857143 0.32352941]\n",
      "f1 score: [0.67532468 0.46808511]\n"
     ]
    },
    {
     "name": "stderr",
     "output_type": "stream",
     "text": [
      "C:\\Users\\morga\\Anaconda3\\lib\\site-packages\\sklearn\\linear_model\\logistic.py:432: FutureWarning:\n",
      "\n",
      "Default solver will be changed to 'lbfgs' in 0.22. Specify a solver to silence this warning.\n",
      "\n"
     ]
    }
   ],
   "source": [
    "from sklearn.preprocessing import RobustScaler \n",
    "\n",
    "scaler = RobustScaler() \n",
    "X_train_transformed = scaler.fit_transform(X_train)\n",
    "X_test_transformed = scaler.transform(X_test)\n",
    "\n",
    "scaled_logreg = LogisticRegression()\n",
    "scaled_logreg.fit(X_train_transformed, y_train)\n",
    "y_pred = scaled_logreg.predict(X_test_transformed)\n",
    "\n",
    "print(confusion_matrix(y_test, y_pred))\n",
    "print(\"Accuracy:\", accuracy_score(y_test, y_pred))\n",
    "print(\"Precision score:\", precision_score(y_test, y_pred,average=None))\n",
    "print(\"Recall score:\", recall_score(y_test, y_pred,average=None))\n",
    "print(\"f1 score:\", f1_score(y_test, y_pred,average=None))"
   ]
  },
  {
   "cell_type": "code",
   "execution_count": 23,
   "metadata": {
    "scrolled": true
   },
   "outputs": [
    {
     "name": "stdout",
     "output_type": "stream",
     "text": [
      "[[27  1]\n",
      " [22 12]]\n",
      "Accuracy: 0.6290322580645161\n",
      "Precision score: [0.55102041 0.92307692]\n",
      "Recall score: [0.96428571 0.35294118]\n",
      "f1 score: [0.7012987 0.5106383]\n"
     ]
    },
    {
     "name": "stderr",
     "output_type": "stream",
     "text": [
      "C:\\Users\\morga\\Anaconda3\\lib\\site-packages\\sklearn\\ensemble\\forest.py:245: FutureWarning:\n",
      "\n",
      "The default value of n_estimators will change from 10 in version 0.20 to 100 in 0.22.\n",
      "\n"
     ]
    }
   ],
   "source": [
    "from sklearn.preprocessing import RobustScaler \n",
    "\n",
    "scaler = RobustScaler() \n",
    "X_train_transformed = scaler.fit_transform(X_train)\n",
    "X_test_transformed = scaler.transform(X_test)\n",
    "\n",
    "\n",
    "scaled_rfc = RandomForestClassifier()\n",
    "scaled_rfc.fit(X_train_transformed, y_train)\n",
    "y_pred = scaled_rfc.predict(X_test_transformed)\n",
    "\n",
    "print(confusion_matrix(y_test, y_pred))\n",
    "print(\"Accuracy:\", accuracy_score(y_test, y_pred))\n",
    "print(\"Precision score:\", precision_score(y_test, y_pred,average=None))\n",
    "print(\"Recall score:\", recall_score(y_test, y_pred,average=None))\n",
    "print(\"f1 score:\", f1_score(y_test, y_pred,average=None))"
   ]
  },
  {
   "cell_type": "code",
   "execution_count": 24,
   "metadata": {},
   "outputs": [
    {
     "name": "stdout",
     "output_type": "stream",
     "text": [
      "[0.6        0.8        0.68       0.69387755 0.65306122]\n",
      "Mean CV accuracy= 0.685388\n",
      "Precision score: [0.51219512 0.66666667]\n",
      "Recall score: [0.75       0.41176471]\n",
      "f1 score: [0.60869565 0.50909091]\n",
      "[[21  7]\n",
      " [20 14]]\n"
     ]
    }
   ],
   "source": [
    "neighbor = KNeighborsClassifier(n_neighbors=3)\n",
    "neighbor.fit(X_train, y_train)\n",
    "y_pred = neighbor.predict(X_test)\n",
    "scores = cross_val_score(neighbor, X_train, y_train, cv=5)\n",
    "print(scores)\n",
    "meanCvAccuracy = scores.mean()\n",
    "print(\"Mean CV accuracy= %f\" % meanCvAccuracy)\n",
    "\n",
    "print(\"Precision score:\", precision_score(y_test, y_pred,average=None))\n",
    "print(\"Recall score:\", recall_score(y_test, y_pred,average=None))\n",
    "print(\"f1 score:\", f1_score(y_test, y_pred,average=None))\n",
    "print(confusion_matrix(y_test, y_pred))"
   ]
  },
  {
   "cell_type": "markdown",
   "metadata": {},
   "source": [
    "### Finally, you should spend the day <font color=blue>refining </font> your machine learning models and your presentation. \n",
    "If you have time, you may also go back and perform additional data exploration and analysis.\n",
    "\n",
    "* Continue <font color=blue>iterating</font> on your machine learning models with the objective of optimizing their performance.\n",
    "* Organize your machine learning steps into a <font color=blue>pipeline</font> that performs feature selection/engineering, model training, model evaluation, and model storage.\n",
    "* Further refine your presentation based on additional findings and results."
   ]
  },
  {
   "cell_type": "code",
   "execution_count": 3,
   "metadata": {},
   "outputs": [
    {
     "data": {
      "text/plain": [
       "0             NaN\n",
       "1             NaN\n",
       "2             NaN\n",
       "3      2015-04-15\n",
       "4             NaN\n",
       "          ...    \n",
       "305           NaN\n",
       "306           NaN\n",
       "307           NaN\n",
       "308           NaN\n",
       "309           NaN\n",
       "Name: DateofTermination, Length: 310, dtype: object"
      ]
     },
     "execution_count": 3,
     "metadata": {},
     "output_type": "execute_result"
    }
   ],
   "source": [
    "pd.read_csv('clean_HR.csv').DateofTermination"
   ]
  },
  {
   "cell_type": "code",
   "execution_count": null,
   "metadata": {},
   "outputs": [],
   "source": []
  }
 ],
 "metadata": {
  "kernelspec": {
   "display_name": "Python 3",
   "language": "python",
   "name": "python3"
  },
  "language_info": {
   "codemirror_mode": {
    "name": "ipython",
    "version": 3
   },
   "file_extension": ".py",
   "mimetype": "text/x-python",
   "name": "python",
   "nbconvert_exporter": "python",
   "pygments_lexer": "ipython3",
   "version": "3.7.4"
  }
 },
 "nbformat": 4,
 "nbformat_minor": 2
}
