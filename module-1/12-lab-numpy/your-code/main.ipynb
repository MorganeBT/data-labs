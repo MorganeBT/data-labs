{
 "cells": [
  {
   "cell_type": "code",
   "execution_count": 1,
   "metadata": {},
   "outputs": [],
   "source": [
    "#1. Import the NUMPY package under the name np.\n",
    "import numpy as np\n",
    "import pandas as pd\n",
    "from pprint import pprint\n"
   ]
  },
  {
   "cell_type": "code",
   "execution_count": 2,
   "metadata": {},
   "outputs": [
    {
     "name": "stdout",
     "output_type": "stream",
     "text": [
      "1.16.2\n",
      "<module 'numpy.__config__' from 'C:\\\\Users\\\\Paul\\\\Anaconda3\\\\lib\\\\site-packages\\\\numpy\\\\__config__.py'>\n"
     ]
    }
   ],
   "source": [
    "#2. Print the NUMPY version and the configuration.\n",
    "print(np.version.version)\n",
    "print(np.__config__)"
   ]
  },
  {
   "cell_type": "code",
   "execution_count": 3,
   "metadata": {},
   "outputs": [],
   "source": [
    "#3. Generate a 2x3x5 3-dimensional array with random values. Assign the array to variable \"a\"\n",
    "# Challenge: there are at least three easy ways that use numpy to generate random arrays. How many ways can you find?\n",
    "\n",
    "a = np.random.rand(2,3,5)\n",
    "aa = np.random.random((2,3,5))\n",
    "aaa = np.random.random_sample((2,3,5))"
   ]
  },
  {
   "cell_type": "code",
   "execution_count": 4,
   "metadata": {},
   "outputs": [
    {
     "name": "stdout",
     "output_type": "stream",
     "text": [
      "dim 1 : 2\n",
      "dim 2 : 3\n",
      "dim 3 : 5\n",
      "First element : 0.5115798026343797\n",
      "array([[[0.5115798 , 0.13121158, 0.10855777, 0.46581629, 0.62329065],\n",
      "        [0.33892771, 0.61203983, 0.14275697, 0.70757377, 0.45202328],\n",
      "        [0.33147804, 0.95042679, 0.40122156, 0.97604713, 0.53690917]],\n",
      "\n",
      "       [[0.28884592, 0.95794605, 0.8387822 , 0.79927861, 0.98708892],\n",
      "        [0.22177947, 0.7960151 , 0.93101034, 0.05086602, 0.49037903],\n",
      "        [0.20664418, 0.63699047, 0.25709667, 0.21666443, 0.99256374]]])\n",
      "dim 1 : 2\n",
      "dim 2 : 3\n",
      "dim 3 : 5\n",
      "First element : 4\n",
      "array([[[4, 1, 0, 4, 0],\n",
      "        [0, 3, 4, 2, 4],\n",
      "        [0, 1, 4, 1, 1]],\n",
      "\n",
      "       [[1, 3, 2, 1, 3],\n",
      "        [1, 3, 3, 4, 4],\n",
      "        [2, 2, 3, 0, 2]]])\n",
      "dim 1 : 2\n",
      "dim 2 : 3\n",
      "dim 3 : 5\n",
      "First element : 0.9661861769692041\n",
      "array([[[0.96618618, 0.74239945, 0.09888874, 0.52169778, 0.80091919],\n",
      "        [0.84591692, 0.44424619, 0.94926405, 0.0131731 , 0.60893473],\n",
      "        [0.39452078, 0.37842593, 0.86395673, 0.42697368, 0.87945528]],\n",
      "\n",
      "       [[0.06069599, 0.84167874, 0.80928765, 0.09146951, 0.91654376],\n",
      "        [0.92819317, 0.8460059 , 0.69670959, 0.86708517, 0.10422073],\n",
      "        [0.35973276, 0.53745615, 0.10918127, 0.37876555, 0.70036288]]])\n"
     ]
    }
   ],
   "source": [
    "# Challenge: there are at least three easy ways that use numpy to generate random arrays. How many ways can you find?\n",
    "\n",
    "# Méthode 1 : Distribution uniforme entre 0 et 1\n",
    "a_1 = np.random.rand(2,3,5)\n",
    "print(\"dim 1 :\",len(a_1))\n",
    "print(\"dim 2 :\",len(a_1[0]))\n",
    "print(\"dim 3 :\",len(a_1[0][0]))\n",
    "print(\"First element :\", ((a_1[0][0][0])))\n",
    "# On affiche le tableau\n",
    "pprint((a_1))\n",
    "\n",
    "\n",
    "# Méthode 2 : On ne génère que des entiers (distributoion uniforme)\n",
    "# On génère des entiers entre 0 et 5 (exclus), contenus dans une matrice de taille\n",
    "# 2 * 3 * 5\n",
    "a_2 = np.random.randint(5, size=(2,3,5))\n",
    "print(\"dim 1 :\",len(a_2))\n",
    "print(\"dim 2 :\",len(a_2[0]))\n",
    "print(\"dim 3 :\",len(a_2[0][0]))\n",
    "print(\"First element :\", ((a_2[0][0][0])))\n",
    "# On affiche le tableau\n",
    "pprint((a_2))\n",
    "\n",
    "\n",
    "# Méthode 3 : Distribution uniforme entre 0 et 1\n",
    "a_3 = np.random.random_sample(size=(2, 3, 5))\n",
    "print(\"dim 1 :\",len(a_3))\n",
    "print(\"dim 2 :\",len(a_3[0]))\n",
    "print(\"dim 3 :\",len(a_3[0][0]))\n",
    "print(\"First element :\", ((a_3[0][0][0])))\n",
    "# On affiche le tableau\n",
    "pprint(a_3)"
   ]
  },
  {
   "cell_type": "code",
   "execution_count": 5,
   "metadata": {},
   "outputs": [
    {
     "name": "stdout",
     "output_type": "stream",
     "text": [
      "first option [[[0.31593869 0.18005401 0.84275044 0.47588753 0.45950711]\n",
      "  [0.97013272 0.72839242 0.08933816 0.22593354 0.37012492]\n",
      "  [0.03027076 0.33091787 0.74459611 0.83093714 0.85890721]]\n",
      "\n",
      " [[0.06473826 0.24978807 0.55377097 0.8836141  0.19400732]\n",
      "  [0.66475888 0.43855217 0.10581425 0.08086288 0.34417597]\n",
      "  [0.16587535 0.78443946 0.03512008 0.45173164 0.11644654]]]\n",
      "second option [[[0.35158243 0.08641451 0.24867629 0.34909161 0.75865535]\n",
      "  [0.76731957 0.23004065 0.26075339 0.09519276 0.6180807 ]\n",
      "  [0.05811317 0.39872551 0.49961645 0.44731988 0.34893873]]\n",
      "\n",
      " [[0.15983169 0.70284102 0.91921759 0.86759963 0.28164124]\n",
      "  [0.27903566 0.56765574 0.81438131 0.45047217 0.56177497]\n",
      "  [0.58947476 0.09984895 0.52690839 0.58762443 0.88564354]]]\n",
      "third option [[[0.51197096 0.21073374 0.86681293 0.58571618 0.33167423]\n",
      "  [0.42094186 0.8782299  0.5895975  0.71177487 0.09487034]\n",
      "  [0.54651159 0.25362647 0.12881923 0.73185966 0.1846416 ]]\n",
      "\n",
      " [[0.53140195 0.23609798 0.76295852 0.103654   0.42802092]\n",
      "  [0.57623168 0.00997044 0.77810047 0.50194732 0.01340267]\n",
      "  [0.1230028  0.25336976 0.14470078 0.56170132 0.41141644]]]\n"
     ]
    }
   ],
   "source": [
    "#4. Print a.\n",
    "\n",
    "print(\"first option\", a)\n",
    "print(\"second option\", aa)\n",
    "print(\"third option\", aaa)"
   ]
  },
  {
   "cell_type": "code",
   "execution_count": 10,
   "metadata": {},
   "outputs": [],
   "source": [
    "#5. Create a 5x2x3 3-dimensional array with all values equaling 1.\n",
    "#Assign the array to variable \"b\"\n",
    "#(b - a) * random_sample() + a\n",
    "\n",
    "b = np.ones((5, 2, 3))\n",
    "#b = np.random.random_sample((5,2,3))"
   ]
  },
  {
   "cell_type": "code",
   "execution_count": 11,
   "metadata": {},
   "outputs": [
    {
     "name": "stdout",
     "output_type": "stream",
     "text": [
      "[[[1. 1. 1.]\n",
      "  [1. 1. 1.]]\n",
      "\n",
      " [[1. 1. 1.]\n",
      "  [1. 1. 1.]]\n",
      "\n",
      " [[1. 1. 1.]\n",
      "  [1. 1. 1.]]\n",
      "\n",
      " [[1. 1. 1.]\n",
      "  [1. 1. 1.]]\n",
      "\n",
      " [[1. 1. 1.]\n",
      "  [1. 1. 1.]]]\n"
     ]
    }
   ],
   "source": [
    "#6. Print b.\n",
    "\n",
    "print(b)"
   ]
  },
  {
   "cell_type": "code",
   "execution_count": 12,
   "metadata": {},
   "outputs": [
    {
     "name": "stdout",
     "output_type": "stream",
     "text": [
      "shape of a : (2, 3, 5)\n",
      "shape of b : (5, 2, 3)\n",
      "False\n",
      "a shapes (2, 3, 5)\n",
      "b shapes (5, 2, 3)\n"
     ]
    }
   ],
   "source": [
    "#7. Do a and b have the same size? How do you prove that in Python code?\n",
    "#print(\"a lenghts\", len(a))\n",
    "#print(\"b lengths\", len(b))\n",
    "print(\"shape of a : {}\".format(a.shape))\n",
    "print(\"shape of b : {}\".format(b.shape))\n",
    "print(len(a)==len(b))\n",
    "print(\"a shapes\", a.shape)\n",
    "print(\"b shapes\", b.shape)"
   ]
  },
  {
   "cell_type": "code",
   "execution_count": 9,
   "metadata": {},
   "outputs": [
    {
     "ename": "ValueError",
     "evalue": "operands could not be broadcast together with shapes (2,3,5) (5,2,3) ",
     "output_type": "error",
     "traceback": [
      "\u001b[1;31m---------------------------------------------------------------------------\u001b[0m",
      "\u001b[1;31mValueError\u001b[0m                                Traceback (most recent call last)",
      "\u001b[1;32m<ipython-input-9-4c5a4dd4ec4f>\u001b[0m in \u001b[0;36m<module>\u001b[1;34m\u001b[0m\n\u001b[0;32m      1\u001b[0m \u001b[1;31m#8. Are you able to add a and b? Why or why not?\u001b[0m\u001b[1;33m\u001b[0m\u001b[1;33m\u001b[0m\u001b[1;33m\u001b[0m\u001b[0m\n\u001b[1;32m----> 2\u001b[1;33m \u001b[0mab\u001b[0m \u001b[1;33m=\u001b[0m \u001b[0ma\u001b[0m \u001b[1;33m+\u001b[0m \u001b[0mb\u001b[0m\u001b[1;33m\u001b[0m\u001b[1;33m\u001b[0m\u001b[0m\n\u001b[0m\u001b[0;32m      3\u001b[0m \u001b[0mprint\u001b[0m\u001b[1;33m(\u001b[0m\u001b[0mab\u001b[0m\u001b[1;33m)\u001b[0m \u001b[1;31m#not able to add a and b as operands could not be broadcast together with different shapes here (2,3,5) and (5,2,3)\u001b[0m\u001b[1;33m\u001b[0m\u001b[1;33m\u001b[0m\u001b[0m\n",
      "\u001b[1;31mValueError\u001b[0m: operands could not be broadcast together with shapes (2,3,5) (5,2,3) "
     ]
    }
   ],
   "source": [
    "#8. Are you able to add a and b? Why or why not?\n",
    "ab = a + b\n",
    "print(ab) #not able to add a and b as operands could not be broadcast together with different shapes here (2,3,5) and (5,2,3) "
   ]
  },
  {
   "cell_type": "code",
   "execution_count": 13,
   "metadata": {},
   "outputs": [],
   "source": [
    "#9. Transpose b so that it has the same structure of a (i.e. become a 2x3x5 array). Assign the transposed array to varialbe \"c\".\n",
    "c = b.reshape(2, 3, 5)"
   ]
  },
  {
   "cell_type": "code",
   "execution_count": 15,
   "metadata": {},
   "outputs": [
    {
     "name": "stdout",
     "output_type": "stream",
     "text": [
      "shape of b : (5, 2, 3)\n",
      "With swap 1st step : shape of c : (2, 5, 3)\n",
      "With swap 2nd step : shape of c : (2, 3, 5)\n",
      "With transpose in 1 step : shape of c : (2, 3, 5)\n"
     ]
    }
   ],
   "source": [
    "#9. correction from Selim\n",
    "print(\"shape of b : {}\".format(b.shape))\n",
    "# b has format (5, 2, 3) and a has format (2, 3, 5)\n",
    "# so we need to swap dim 0 and dim 1 in b, then we get (2, 5, 3)\n",
    "c = np.swapaxes(b, 0, 1).copy()\n",
    "print(\"With swap 1st step : shape of c : {}\".format(c.shape))\n",
    "# then we need to swap dim 1 and dim 2 in the c newly obtained and we get (2, 3, 5)\n",
    "c = np.swapaxes(c, 1, 2)\n",
    "print(\"With swap 2nd step : shape of c : {}\".format(c.shape))\n",
    "# Plus efficace : en 1 appel d'une fonction (merci Lauma)\n",
    "c = b.transpose([1,2,0])\n",
    "print(\"With transpose in 1 step : shape of c : {}\".format(c.shape))"
   ]
  },
  {
   "cell_type": "code",
   "execution_count": 16,
   "metadata": {},
   "outputs": [],
   "source": [
    "#10. Try to add a and c. Now it should work. Assign the sum to varialbe \"d\". But why does it work now?\n",
    "d = a + c # a and c have the same array structure (2,3,5)"
   ]
  },
  {
   "cell_type": "code",
   "execution_count": 17,
   "metadata": {},
   "outputs": [
    {
     "name": "stdout",
     "output_type": "stream",
     "text": [
      "a= [[[0.31593869 0.18005401 0.84275044 0.47588753 0.45950711]\n",
      "  [0.97013272 0.72839242 0.08933816 0.22593354 0.37012492]\n",
      "  [0.03027076 0.33091787 0.74459611 0.83093714 0.85890721]]\n",
      "\n",
      " [[0.06473826 0.24978807 0.55377097 0.8836141  0.19400732]\n",
      "  [0.66475888 0.43855217 0.10581425 0.08086288 0.34417597]\n",
      "  [0.16587535 0.78443946 0.03512008 0.45173164 0.11644654]]]\n",
      "d= [[[1.31593869 1.18005401 1.84275044 1.47588753 1.45950711]\n",
      "  [1.97013272 1.72839242 1.08933816 1.22593354 1.37012492]\n",
      "  [1.03027076 1.33091787 1.74459611 1.83093714 1.85890721]]\n",
      "\n",
      " [[1.06473826 1.24978807 1.55377097 1.8836141  1.19400732]\n",
      "  [1.66475888 1.43855217 1.10581425 1.08086288 1.34417597]\n",
      "  [1.16587535 1.78443946 1.03512008 1.45173164 1.11644654]]]\n"
     ]
    }
   ],
   "source": [
    "#11. Print a and d. Notice the difference and relation of the two array in terms of the values? Explain.\n",
    "print(\"a=\",a)\n",
    "print(\"d=\",d)"
   ]
  },
  {
   "cell_type": "code",
   "execution_count": 18,
   "metadata": {},
   "outputs": [
    {
     "name": "stdout",
     "output_type": "stream",
     "text": [
      "[[[0.31593869 0.18005401 0.84275044 0.47588753 0.45950711]\n",
      "  [0.97013272 0.72839242 0.08933816 0.22593354 0.37012492]\n",
      "  [0.03027076 0.33091787 0.74459611 0.83093714 0.85890721]]\n",
      "\n",
      " [[0.06473826 0.24978807 0.55377097 0.8836141  0.19400732]\n",
      "  [0.66475888 0.43855217 0.10581425 0.08086288 0.34417597]\n",
      "  [0.16587535 0.78443946 0.03512008 0.45173164 0.11644654]]]\n"
     ]
    }
   ],
   "source": [
    "#12. Multiply a and c. Assign the result to e.\n",
    "e = a*c\n",
    "print(e)"
   ]
  },
  {
   "cell_type": "code",
   "execution_count": 19,
   "metadata": {},
   "outputs": [
    {
     "name": "stdout",
     "output_type": "stream",
     "text": [
      "shape of e : (2, 3, 5)\n"
     ]
    }
   ],
   "source": [
    "print(\"shape of e : {}\".format(e.shape))"
   ]
  },
  {
   "cell_type": "code",
   "execution_count": 20,
   "metadata": {},
   "outputs": [
    {
     "name": "stdout",
     "output_type": "stream",
     "text": [
      "[[[ True  True  True  True  True]\n",
      "  [ True  True  True  True  True]\n",
      "  [ True  True  True  True  True]]\n",
      "\n",
      " [[ True  True  True  True  True]\n",
      "  [ True  True  True  True  True]\n",
      "  [ True  True  True  True  True]]]\n"
     ]
    }
   ],
   "source": [
    "#13. Does e equal to a? Why or why not?\n",
    "print(a==e) \n",
    "\n",
    "# Classical multiplication (with *) applied to 2 numpy darrays return \n",
    "# a vector of same shape than both a and c\n",
    "# this is pairwise multiplication meaning : e[i][j][k] = a[i][j][k] * c[i][j][k]\n",
    "# e = a because all elements of b are equal to 1"
   ]
  },
  {
   "cell_type": "code",
   "execution_count": 21,
   "metadata": {},
   "outputs": [
    {
     "name": "stdout",
     "output_type": "stream",
     "text": [
      "In d, the max value is 1.9701327192922173 , the min value is 1.0302707587295634 the mean value is 1.4195794848659509\n",
      "max : 1.97, min : 1.03, mean : 1.42\n"
     ]
    }
   ],
   "source": [
    "#14. Identify the max, min, and mean values in d. Assign those values to variables \"d_max\", \"d_min\", and \"d_mean\"\n",
    "d_max = np.max(d)\n",
    "d_min = np.min(d)\n",
    "d_mean = np.mean(d)\n",
    "print('In d, the max value is', d_max,', the min value is', d_min, 'the mean value is', d_mean)\n",
    "\n",
    "print(\"max : {0:.2f}, min : {1:.2f}, mean : {2:.2f}\".format(d_max, d_min, d_mean))\n",
    "# Meaning : 0th value with 2 decimals, then 1st then 2nd  \n",
    "# (from the 0th, 1st and 2nd value specified as an argument)"
   ]
  },
  {
   "cell_type": "code",
   "execution_count": 22,
   "metadata": {},
   "outputs": [],
   "source": [
    "#15. Now we want to label the values in d. \n",
    "#First create an empty array \"f\" with the same shape (i.e. 2x3x5) as d using `np.empty`.\n",
    "f = np.empty([2,3,5])"
   ]
  },
  {
   "cell_type": "code",
   "execution_count": 23,
   "metadata": {},
   "outputs": [
    {
     "name": "stdout",
     "output_type": "stream",
     "text": [
      "[[[0.31593869 0.18005401 0.84275044 0.47588753 0.45950711]\n",
      "  [0.97013272 0.72839242 0.08933816 0.22593354 0.37012492]\n",
      "  [0.03027076 0.33091787 0.74459611 0.83093714 0.85890721]]\n",
      "\n",
      " [[0.06473826 0.24978807 0.55377097 0.8836141  0.19400732]\n",
      "  [0.66475888 0.43855217 0.10581425 0.08086288 0.34417597]\n",
      "  [0.16587535 0.78443946 0.03512008 0.45173164 0.11644654]]]\n"
     ]
    }
   ],
   "source": [
    "#16. Populate the values in f. \n",
    "print(f)"
   ]
  },
  {
   "cell_type": "code",
   "execution_count": 27,
   "metadata": {},
   "outputs": [
    {
     "data": {
      "text/plain": [
       "\"\\n16. Populate the values in f. For each value in d, if it's larger than d_min but smaller than d_mean, assign 25 to the corresponding value in f.\\nIf a value in d is larger than d_mean but smaller than d_max, assign 75 to the corresponding value in f.\\nIf a value equals to d_mean, assign 50 to the corresponding value in f.\\nAssign 0 to the corresponding value(s) in f for d_min in d.\\nAssign 100 to the corresponding value(s) in f for d_max in d.\\nIn the end, f should have only the following values: 0, 25, 50, 75, and 100.\\nNote: you don't have to use Numpy in this question.\\n\\n\""
      ]
     },
     "execution_count": 27,
     "metadata": {},
     "output_type": "execute_result"
    }
   ],
   "source": [
    "\"\"\"\n",
    "16. Populate the values in f. For each value in d, if it's larger than d_min but smaller than d_mean, assign 25 to the corresponding value in f.\n",
    "If a value in d is larger than d_mean but smaller than d_max, assign 75 to the corresponding value in f.\n",
    "If a value equals to d_mean, assign 50 to the corresponding value in f.\n",
    "Assign 0 to the corresponding value(s) in f for d_min in d.\n",
    "Assign 100 to the corresponding value(s) in f for d_max in d.\n",
    "In the end, f should have only the following values: 0, 25, 50, 75, and 100.\n",
    "Note: you don't have to use Numpy in this question.\n",
    "\n",
    "\"\"\""
   ]
  },
  {
   "cell_type": "code",
   "execution_count": 24,
   "metadata": {},
   "outputs": [
    {
     "name": "stdout",
     "output_type": "stream",
     "text": [
      "We first iterate over the first dimension which is equal to 2\n",
      "We first iterate over the second dimension which is equal to 3\n",
      "We first iterate over the second dimension which is equal to 5\n",
      "[[[25. 25. 75. 75. 75.]\n",
      "  [50. 75. 25. 25. 25.]\n",
      "  [50. 25. 75. 75. 75.]]\n",
      "\n",
      " [[25. 25. 75. 75. 25.]\n",
      "  [75. 75. 25. 25. 25.]\n",
      "  [25. 75. 25. 75. 25.]]]\n"
     ]
    }
   ],
   "source": [
    "print(\"We first iterate over the first dimension which is equal to {}\".format(len(d)))\n",
    "print(\"We first iterate over the second dimension which is equal to {}\".format(len(d[0])))\n",
    "print(\"We first iterate over the second dimension which is equal to {}\".format(len(d[0][0])))\n",
    "\n",
    "# First dim = 2\n",
    "for i in range(len(f)):\n",
    "    # Second dim = 3\n",
    "    for j in range(len(f[0])):\n",
    "        # Third dim = 5\n",
    "        for k in range(len(f[0][0])):\n",
    "            if  d_min < d[i][j][k] < d_mean:\n",
    "                f[i][j][k] = 25\n",
    "            elif  d_mean < d[i][j][k] < d_max :\n",
    "                f[i][j][k] = 75\n",
    "            else:\n",
    "                f[i][j][k] = 50\n",
    "print(f)"
   ]
  },
  {
   "cell_type": "code",
   "execution_count": 28,
   "metadata": {},
   "outputs": [
    {
     "name": "stdout",
     "output_type": "stream",
     "text": [
      "[[[ 25  25  75  75  75]\n",
      "  [100  75  25  25  25]\n",
      "  [  0  25  75  75  75]]\n",
      "\n",
      " [[ 25  25  75  75  25]\n",
      "  [ 75  75  25  25  25]\n",
      "  [ 25  75  25  75  25]]]\n"
     ]
    }
   ],
   "source": [
    "# Beaucoup plus élégant : avec la fonction vectorize : \n",
    "# transforme une fonction qui prend en entrée un nombre, \n",
    "# en une fonction qui prend en entrée un vecteur et applique cette fonction a tous les éléments\n",
    "\n",
    "# d will be an element of d\n",
    "def f_fun(d_min, d_max, d_mean, d):\n",
    "    if  d_min < d < d_mean:\n",
    "        f = 25\n",
    "    elif  d_mean < d < d_max :\n",
    "        f = 75\n",
    "    elif d == d_mean :\n",
    "        f= 50\n",
    "    elif d == d_min :\n",
    "        f= 0\n",
    "    elif d == d_max :\n",
    "        f = 100\n",
    "    return f\n",
    "\n",
    "# python-function as ufunc\n",
    "import numpy as np\n",
    "vf= np.vectorize(lambda x :f_fun(d_min=d_min, d_max=d_max, d_mean=d_mean, d=x))\n",
    "## On récupère bien le même output\n",
    "f == vf(d)\n",
    "print(vf(d))"
   ]
  },
  {
   "cell_type": "code",
   "execution_count": 29,
   "metadata": {},
   "outputs": [],
   "source": [
    "#here is the numpy version\n",
    "f[np.where(d>d_min) and (d<d_mean)] = 25\n",
    "f[np.where(d>d_mean) and (d<d_max)] = 75\n",
    "f[np.where(d == d_mean)] = 50\n",
    "f[np.where(d_min == d)] = 0\n",
    "f[np.where(d_max == d)] = 100"
   ]
  },
  {
   "cell_type": "code",
   "execution_count": 30,
   "metadata": {},
   "outputs": [
    {
     "name": "stdout",
     "output_type": "stream",
     "text": [
      "[[[ 75.  75.  75.  75.  75.]\n",
      "  [100.  75.  75.  75.  75.]\n",
      "  [  0.  75.  75.  75.  75.]]\n",
      "\n",
      " [[ 75.  75.  75.  75.  75.]\n",
      "  [ 75.  75.  75.  75.  75.]\n",
      "  [ 75.  75.  75.  75.  75.]]]\n"
     ]
    }
   ],
   "source": [
    "#In the end, f should have only the following values: 0, 25, 50, 75, and 100.\n",
    "#Note: you don't have to use Numpy in this question.\n",
    "print(f)"
   ]
  },
  {
   "cell_type": "code",
   "execution_count": null,
   "metadata": {},
   "outputs": [],
   "source": [
    "\"\"\"\n",
    "#17. Print d and f. Do you have your expected f?\n",
    "For instance, if your d is:\n",
    "array([[[1.85836099, 1.67064465, 1.62576044, 1.40243961, 1.88454931],\n",
    "        [1.75354326, 1.69403643, 1.36729252, 1.61415071, 1.12104981],\n",
    "        [1.72201435, 1.1862918 , 1.87078449, 1.7726778 , 1.88180042]],\n",
    "\n",
    "       [[1.44747908, 1.31673383, 1.02000951, 1.52218947, 1.97066381],\n",
    "        [1.79129243, 1.74983003, 1.96028037, 1.85166831, 1.65450881],\n",
    "        [1.18068344, 1.9587381 , 1.00656599, 1.93402165, 1.73514584]]])\n",
    "\n",
    "Your f should be:\n",
    "array([[[ 75.,  75.,  75.,  25.,  75.],\n",
    "        [ 75.,  75.,  25.,  25.,  25.],\n",
    "        [ 75.,  25.,  75.,  75.,  75.]],\n",
    "\n",
    "       [[ 25.,  25.,  25.,  25., 100.],\n",
    "        [ 75.,  75.,  75.,  75.,  75.],\n",
    "        [ 25.,  75.,   0.,  75.,  75.]]])\n",
    "\"\"\""
   ]
  },
  {
   "cell_type": "code",
   "execution_count": null,
   "metadata": {},
   "outputs": [],
   "source": [
    "d = np.array([[[1.85836099, 1.67064465, 1.62576044, 1.40243961, 1.88454931],\n",
    "        [1.75354326, 1.69403643, 1.36729252, 1.61415071, 1.12104981],\n",
    "        [1.72201435, 1.1862918 , 1.87078449, 1.7726778 , 1.88180042]],\n",
    "       [[1.44747908, 1.31673383, 1.02000951, 1.52218947, 1.97066381],\n",
    "        [1.79129243, 1.74983003, 1.96028037, 1.85166831, 1.65450881],\n",
    "        [1.18068344, 1.9587381 , 1.00656599, 1.93402165, 1.73514584]]])\n",
    "\n",
    "d_max = np.max(d)\n",
    "d_min = np.min(d)\n",
    "d_mean = np.mean(d)\n",
    "\n",
    "print(\"max : {0:.2f}, min : {1:.2f}, mean : {2:.2f}\".format(d_max, d_min, d_mean))\n",
    "# Meaning : 0th value with 2 decimals, then 1st then 2nd  \n",
    "# (from the 0th, 1st and 2nd value specified as an argument)"
   ]
  },
  {
   "cell_type": "code",
   "execution_count": 32,
   "metadata": {},
   "outputs": [
    {
     "name": "stdout",
     "output_type": "stream",
     "text": [
      "We first iterate over the first dimension which is equal to 2\n",
      "We first iterate over the second dimension which is equal to 3\n",
      "We first iterate over the second dimension which is equal to 5\n",
      "[[[ 25  25  75  75  75]\n",
      "  [100  75  25  25  25]\n",
      "  [  0  25  75  75  75]]\n",
      "\n",
      " [[ 25  25  75  75  25]\n",
      "  [ 75  75  25  25  25]\n",
      "  [ 25  75  25  75  25]]]\n"
     ]
    }
   ],
   "source": [
    "## Avec une boucle\n",
    "\n",
    "print(\"We first iterate over the first dimension which is equal to {}\".format(len(d)))\n",
    "print(\"We first iterate over the second dimension which is equal to {}\".format(len(d[0])))\n",
    "print(\"We first iterate over the second dimension which is equal to {}\".format(len(d[0][0])))\n",
    "\n",
    "# First dim = 2\n",
    "for i in range(len(d)):\n",
    "    # Second dim = 3\n",
    "    for j in range(len(d[0])):\n",
    "        # Third dim = 5\n",
    "        for k in range(len(d[0][0])):\n",
    "            if  d_min < d[i][j][k] < d_mean:\n",
    "                f[i][j][k] = 25\n",
    "            elif  d_mean < d[i][j][k] < d_max :\n",
    "                f[i][j][k] = 75\n",
    "            elif d[i][j][k] == d_mean :\n",
    "                f[i][j][k] = 50\n",
    "            elif d[i][j][k] == d_min :\n",
    "                f[i][j][k] = 0\n",
    "            elif d[i][j][k] == d_max :\n",
    "                f[i][j][k] = 100\n",
    "# Beaucoup plus élégant : avec la fonction vectorize : \n",
    "# transforme une fonction qui prend en entrée un nombre, \n",
    "# en une fonction qui prend en entrée un vecteur et applique cette fonction a tous les éléments\n",
    "\n",
    "# d will be an element of d\n",
    "def f_fun(d_min, d_max, d_mean, d):\n",
    "    if  d_min < d < d_mean:\n",
    "        f = 25\n",
    "    elif  d_mean < d < d_max :\n",
    "        f = 75\n",
    "    elif d == d_mean :\n",
    "        f= 50\n",
    "    elif d == d_min :\n",
    "        f= 0\n",
    "    elif d == d_max :\n",
    "        f = 100\n",
    "    return f\n",
    "\n",
    "# python-function as ufunc\n",
    "import numpy as np\n",
    "vf= np.vectorize(lambda x :f_fun(d_min=d_min, d_max=d_max, d_mean=d_mean, d=x))\n",
    "## On récupère bien le même output\n",
    "f == vf(d)\n",
    "print(vf(d))"
   ]
  },
  {
   "cell_type": "code",
   "execution_count": null,
   "metadata": {
    "scrolled": true
   },
   "outputs": [],
   "source": [
    "#18. Bonus question: instead of using numbers (i.e. 0, 25, 50, 75, and 100), how to use string values \n",
    "\"\"\"\n",
    "(\"A\", \"B\", \"C\", \"D\", and \"E\") to label the array elements? You are expecting the result to be:\n",
    "array([[[ 'D',  'D',  'D',  'B',  'D'],\n",
    "        [ 'D',  'D',  'B',  'B',  'B'],\n",
    "        [ 'D',  'B',  'D',  'D',  'D']],\n",
    "\n",
    "       [[ 'B',  'B',  'B',  'B',  'E'],\n",
    "        [ 'D',  'D',  'D',  'D',  'D'],\n",
    "        [ 'B',  'D',   'A',  'D', 'D']]])\n",
    "Again, you don't need Numpy in this question.\n",
    "\"\"\""
   ]
  },
  {
   "cell_type": "code",
   "execution_count": 31,
   "metadata": {},
   "outputs": [
    {
     "name": "stdout",
     "output_type": "stream",
     "text": [
      "[[['B' 'B' 'D' 'D' 'D']\n",
      "  ['E' 'D' 'B' 'B' 'B']\n",
      "  ['A' 'B' 'D' 'D' 'D']]\n",
      "\n",
      " [['B' 'B' 'D' 'D' 'B']\n",
      "  ['D' 'D' 'B' 'B' 'B']\n",
      "  ['B' 'D' 'B' 'D' 'B']]]\n"
     ]
    }
   ],
   "source": [
    "# Beaucoup plus élégant : avec la fonction vectorize : \n",
    "# transforme une fonction qui prend en entrée un nombre, \n",
    "# en une fonction qui prend en entrée un vecteur et applique cette fonction a tous les éléments\n",
    "\n",
    "# d will be an element of d\n",
    "def f_fun(d_min, d_max, d_mean, d):\n",
    "    if  d_min < d < d_mean:\n",
    "        f = \"B\"\n",
    "    elif  d_mean < d < d_max :\n",
    "        f = \"D\"\n",
    "    elif d == d_mean :\n",
    "        f= \"C\"\n",
    "    elif d == d_min :\n",
    "        f= \"A\"\n",
    "    elif d == d_max :\n",
    "        f = \"E\"\n",
    "    return f\n",
    "\n",
    "# python-function as ufunc\n",
    "import numpy as np\n",
    "vf= np.vectorize(lambda x :f_fun(d_min=d_min, d_max=d_max, d_mean=d_mean, d=x))\n",
    "print(vf(d))"
   ]
  },
  {
   "cell_type": "code",
   "execution_count": null,
   "metadata": {},
   "outputs": [],
   "source": []
  }
 ],
 "metadata": {
  "kernelspec": {
   "display_name": "Python 3",
   "language": "python",
   "name": "python3"
  },
  "language_info": {
   "codemirror_mode": {
    "name": "ipython",
    "version": 3
   },
   "file_extension": ".py",
   "mimetype": "text/x-python",
   "name": "python",
   "nbconvert_exporter": "python",
   "pygments_lexer": "ipython3",
   "version": "3.7.3"
  }
 },
 "nbformat": 4,
 "nbformat_minor": 2
}
