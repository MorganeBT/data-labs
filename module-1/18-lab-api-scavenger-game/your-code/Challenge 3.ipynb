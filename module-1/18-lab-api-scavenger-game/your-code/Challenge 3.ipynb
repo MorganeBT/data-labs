{
 "cells": [
  {
   "cell_type": "code",
   "execution_count": null,
   "metadata": {},
   "outputs": [],
   "source": [
    "\"\"\"\n",
    "\n",
    "savoir dans quel dossier il se trouve\n",
    "recuperer le contenu de chaque fichier\n",
    "repos => json (liste de dictionnaire)\n",
    "normalize\n",
    "\n",
    "dans la df regarder la colonne path\n",
    "\n",
    "faire une boucle pour récreer un url pour rechercher les dossiers\n",
    "requete \n",
    "dossiers\n",
    "fichiers\n",
    "accéder\n",
    "\n",
    "\"\"\""
   ]
  },
  {
   "cell_type": "code",
   "execution_count": 1,
   "metadata": {},
   "outputs": [],
   "source": [
    "import pandas as pd"
   ]
  },
  {
   "cell_type": "code",
   "execution_count": 2,
   "metadata": {},
   "outputs": [
    {
     "data": {
      "text/plain": [
       "'\\ntrouver encodage de chaque fichier\\nget.contains\\nhttps//api.github.com/repos/:repo/:owner/contents\\nboucle sur chacun des elements , si dossier, appeler get.contain, recuperer le dossier scavenger pour le stocker\\nrecuperer le path et non le nom\\n\\nordre ascendant\\nregarder chaque fichier\\nafficher le message secret\\nget.contains\\n\\nstring en base 64\\nlibrary Base 64\\ncontenu = base64.b64\\n'"
      ]
     },
     "execution_count": 2,
     "metadata": {},
     "output_type": "execute_result"
    }
   ],
   "source": [
    "#Challenge 3\n",
    "\"\"\"\n",
    "trouver encodage de chaque fichier\n",
    "get.contains\n",
    "https//api.github.com/repos/:repo/:owner/contents\n",
    "boucle sur chacun des elements , si dossier, appeler get.contain, recuperer le dossier scavenger pour le stocker\n",
    "recuperer le path et non le nom\n",
    "\n",
    "ordre ascendant\n",
    "regarder chaque fichier\n",
    "afficher le message secret\n",
    "get.contains\n",
    "\n",
    "string en base 64\n",
    "library Base 64\n",
    "contenu = base64.b64\n",
    "\"\"\"\n"
   ]
  }
 ],
 "metadata": {
  "kernelspec": {
   "display_name": "Python 3",
   "language": "python",
   "name": "python3"
  },
  "language_info": {
   "codemirror_mode": {
    "name": "ipython",
    "version": 3
   },
   "file_extension": ".py",
   "mimetype": "text/x-python",
   "name": "python",
   "nbconvert_exporter": "python",
   "pygments_lexer": "ipython3",
   "version": "3.7.3"
  }
 },
 "nbformat": 4,
 "nbformat_minor": 2
}
