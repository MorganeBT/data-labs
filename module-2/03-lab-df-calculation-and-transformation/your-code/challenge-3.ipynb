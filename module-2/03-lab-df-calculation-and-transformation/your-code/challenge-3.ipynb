{
 "cells": [
  {
   "cell_type": "markdown",
   "metadata": {},
   "source": [
    "# Challenge 3\n",
    "\n",
    "In this challenge we will work on the `Orders.csv` data set in the previous [Subsetting and Descriptive Stats lab](../../lab-subsetting-and-descriptive-stats/your-code/main.ipynb). In your work you will apply the thinking process and workflow we showed you in Challenge 2.\n",
    "\n",
    "You are serving as a Business Intelligence Analyst at the headquarter of an international fashion goods chain store. Your boss today asked you to do two things for her:\n",
    "\n",
    "**First, identify two groups of customers from the data set.** The first group is **VIP Customers** whose **aggregated expenses** at your global chain stores are **above the 95th percentile** (aka. 0.95 quantile). The second group is **Preferred Customers** whose **aggregated expenses** are **between the 75th and 95th percentile**.\n",
    "\n",
    "**Second, identify which country has the most of your VIP customers, and which country has the most of your VIP+Preferred Customers combined.**"
   ]
  },
  {
   "cell_type": "markdown",
   "metadata": {},
   "source": [
    "# Q1: How to identify VIP & Preferred Customers?\n",
    "\n",
    "We start by importing all the required libraries:"
   ]
  },
  {
   "cell_type": "code",
   "execution_count": 1,
   "metadata": {},
   "outputs": [],
   "source": [
    "# import required libraries\n",
    "import numpy as np\n",
    "import pandas as pd"
   ]
  },
  {
   "cell_type": "markdown",
   "metadata": {},
   "source": [
    "Next, import `Orders.csv` from the \"subsetting\" lab folder into a dataframe variable called `orders`. Print the head of `orders` to overview the data:"
   ]
  },
  {
   "cell_type": "code",
   "execution_count": 2,
   "metadata": {},
   "outputs": [
    {
     "data": {
      "text/html": [
       "<div>\n",
       "<style scoped>\n",
       "    .dataframe tbody tr th:only-of-type {\n",
       "        vertical-align: middle;\n",
       "    }\n",
       "\n",
       "    .dataframe tbody tr th {\n",
       "        vertical-align: top;\n",
       "    }\n",
       "\n",
       "    .dataframe thead th {\n",
       "        text-align: right;\n",
       "    }\n",
       "</style>\n",
       "<table border=\"1\" class=\"dataframe\">\n",
       "  <thead>\n",
       "    <tr style=\"text-align: right;\">\n",
       "      <th></th>\n",
       "      <th>Unnamed: 0</th>\n",
       "      <th>InvoiceNo</th>\n",
       "      <th>StockCode</th>\n",
       "      <th>year</th>\n",
       "      <th>month</th>\n",
       "      <th>day</th>\n",
       "      <th>hour</th>\n",
       "      <th>Description</th>\n",
       "      <th>Quantity</th>\n",
       "      <th>InvoiceDate</th>\n",
       "      <th>UnitPrice</th>\n",
       "      <th>CustomerID</th>\n",
       "      <th>Country</th>\n",
       "      <th>amount_spent</th>\n",
       "    </tr>\n",
       "  </thead>\n",
       "  <tbody>\n",
       "    <tr>\n",
       "      <th>0</th>\n",
       "      <td>0</td>\n",
       "      <td>536365</td>\n",
       "      <td>85123A</td>\n",
       "      <td>2010</td>\n",
       "      <td>12</td>\n",
       "      <td>3</td>\n",
       "      <td>8</td>\n",
       "      <td>white hanging heart t-light holder</td>\n",
       "      <td>6</td>\n",
       "      <td>2010-12-01 08:26:00</td>\n",
       "      <td>2.55</td>\n",
       "      <td>17850</td>\n",
       "      <td>United Kingdom</td>\n",
       "      <td>15.30</td>\n",
       "    </tr>\n",
       "    <tr>\n",
       "      <th>1</th>\n",
       "      <td>1</td>\n",
       "      <td>536365</td>\n",
       "      <td>71053</td>\n",
       "      <td>2010</td>\n",
       "      <td>12</td>\n",
       "      <td>3</td>\n",
       "      <td>8</td>\n",
       "      <td>white metal lantern</td>\n",
       "      <td>6</td>\n",
       "      <td>2010-12-01 08:26:00</td>\n",
       "      <td>3.39</td>\n",
       "      <td>17850</td>\n",
       "      <td>United Kingdom</td>\n",
       "      <td>20.34</td>\n",
       "    </tr>\n",
       "    <tr>\n",
       "      <th>2</th>\n",
       "      <td>2</td>\n",
       "      <td>536365</td>\n",
       "      <td>84406B</td>\n",
       "      <td>2010</td>\n",
       "      <td>12</td>\n",
       "      <td>3</td>\n",
       "      <td>8</td>\n",
       "      <td>cream cupid hearts coat hanger</td>\n",
       "      <td>8</td>\n",
       "      <td>2010-12-01 08:26:00</td>\n",
       "      <td>2.75</td>\n",
       "      <td>17850</td>\n",
       "      <td>United Kingdom</td>\n",
       "      <td>22.00</td>\n",
       "    </tr>\n",
       "    <tr>\n",
       "      <th>3</th>\n",
       "      <td>3</td>\n",
       "      <td>536365</td>\n",
       "      <td>84029G</td>\n",
       "      <td>2010</td>\n",
       "      <td>12</td>\n",
       "      <td>3</td>\n",
       "      <td>8</td>\n",
       "      <td>knitted union flag hot water bottle</td>\n",
       "      <td>6</td>\n",
       "      <td>2010-12-01 08:26:00</td>\n",
       "      <td>3.39</td>\n",
       "      <td>17850</td>\n",
       "      <td>United Kingdom</td>\n",
       "      <td>20.34</td>\n",
       "    </tr>\n",
       "    <tr>\n",
       "      <th>4</th>\n",
       "      <td>4</td>\n",
       "      <td>536365</td>\n",
       "      <td>84029E</td>\n",
       "      <td>2010</td>\n",
       "      <td>12</td>\n",
       "      <td>3</td>\n",
       "      <td>8</td>\n",
       "      <td>red woolly hottie white heart.</td>\n",
       "      <td>6</td>\n",
       "      <td>2010-12-01 08:26:00</td>\n",
       "      <td>3.39</td>\n",
       "      <td>17850</td>\n",
       "      <td>United Kingdom</td>\n",
       "      <td>20.34</td>\n",
       "    </tr>\n",
       "  </tbody>\n",
       "</table>\n",
       "</div>"
      ],
      "text/plain": [
       "   Unnamed: 0  InvoiceNo StockCode  year  month  day  hour  \\\n",
       "0           0     536365    85123A  2010     12    3     8   \n",
       "1           1     536365     71053  2010     12    3     8   \n",
       "2           2     536365    84406B  2010     12    3     8   \n",
       "3           3     536365    84029G  2010     12    3     8   \n",
       "4           4     536365    84029E  2010     12    3     8   \n",
       "\n",
       "                           Description  Quantity          InvoiceDate  \\\n",
       "0   white hanging heart t-light holder         6  2010-12-01 08:26:00   \n",
       "1                  white metal lantern         6  2010-12-01 08:26:00   \n",
       "2       cream cupid hearts coat hanger         8  2010-12-01 08:26:00   \n",
       "3  knitted union flag hot water bottle         6  2010-12-01 08:26:00   \n",
       "4       red woolly hottie white heart.         6  2010-12-01 08:26:00   \n",
       "\n",
       "   UnitPrice  CustomerID         Country  amount_spent  \n",
       "0       2.55       17850  United Kingdom         15.30  \n",
       "1       3.39       17850  United Kingdom         20.34  \n",
       "2       2.75       17850  United Kingdom         22.00  \n",
       "3       3.39       17850  United Kingdom         20.34  \n",
       "4       3.39       17850  United Kingdom         20.34  "
      ]
     },
     "execution_count": 2,
     "metadata": {},
     "output_type": "execute_result"
    }
   ],
   "source": [
    "# enter your code here\n",
    "orders = pd.read_csv(\"../../01-lab-subsetting-and-descriptive-stats/your-code/Orders.zip\")\n",
    "orders.head()"
   ]
  },
  {
   "cell_type": "markdown",
   "metadata": {},
   "source": [
    "---\n",
    "\n",
    "\"Identify VIP and Preferred Customers\" is the non-technical goal of your boss. You need to translate that goal into technical languages that data analysts use:\n",
    "\n",
    "## How to label customers whose aggregated `amount_spent` is in a given quantile range?\n"
   ]
  },
  {
   "cell_type": "markdown",
   "metadata": {},
   "source": [
    "We break down the main problem into several sub problems:\n",
    "\n",
    "#### Sub Problem 1: How to aggregate the  `amount_spent` for unique customers?\n",
    "\n",
    "#### Sub Problem 2: How to select customers whose aggregated `amount_spent` is in a given quantile range?\n",
    "\n",
    "#### Sub Problem 3: How to label selected customers as \"VIP\" or \"Preferred\"?\n",
    "\n",
    "*Note: If you want to break down the main problem in a different way, please feel free to revise the sub problems above.*\n",
    "\n",
    "Now in the workspace below, tackle each of the sub problems using the iterative problem solving workflow. Insert cells as necessary to write your codes and explain your steps."
   ]
  },
  {
   "cell_type": "code",
   "execution_count": 3,
   "metadata": {
    "scrolled": true
   },
   "outputs": [
    {
     "name": "stdout",
     "output_type": "stream",
     "text": [
      "CustomerID\n",
      "12346    77183.60\n",
      "12347     4310.00\n",
      "12348     1797.24\n",
      "12349     1757.55\n",
      "12350      334.40\n",
      "12352     2506.04\n",
      "12353       89.00\n",
      "12354     1079.40\n",
      "12355      459.40\n",
      "12356     2811.43\n",
      "12357     6207.67\n",
      "12358     1168.06\n",
      "12359     6372.58\n",
      "12360     2662.06\n",
      "12361      189.90\n",
      "12362     5226.23\n",
      "12363      552.00\n",
      "12364     1313.10\n",
      "12365      641.38\n",
      "12367      168.90\n",
      "12370     3545.69\n",
      "12371     1887.96\n",
      "12372     1298.04\n",
      "12373      364.60\n",
      "12374      742.93\n",
      "12375      457.50\n",
      "12377     1628.12\n",
      "12378     4008.62\n",
      "12379      852.24\n",
      "12380     2724.81\n",
      "           ...   \n",
      "18242     2232.49\n",
      "18245     2567.06\n",
      "18246      596.10\n",
      "18248      804.02\n",
      "18249       95.34\n",
      "18250      349.27\n",
      "18251     4314.72\n",
      "18252      526.67\n",
      "18255      103.30\n",
      "18257     2337.63\n",
      "18259     2338.60\n",
      "18260     2643.20\n",
      "18261      324.24\n",
      "18262      149.48\n",
      "18263     1213.16\n",
      "18265      801.51\n",
      "18268       25.50\n",
      "18269      168.60\n",
      "18270      283.15\n",
      "18272     3078.58\n",
      "18273      204.00\n",
      "18274      175.92\n",
      "18276      335.86\n",
      "18277      110.38\n",
      "18278      173.90\n",
      "18280      180.60\n",
      "18281       80.82\n",
      "18282      178.05\n",
      "18283     2094.88\n",
      "18287     1837.28\n",
      "Name: amount_spent, Length: 4339, dtype: float64\n"
     ]
    }
   ],
   "source": [
    "# your code here\n",
    "#Sub Problem 1: How to aggregate the  amount_spent for unique customers?\n",
    "unique_customers = orders.groupby('CustomerID')['amount_spent'].sum()\n",
    "print(unique_customers)"
   ]
  },
  {
   "cell_type": "code",
   "execution_count": 4,
   "metadata": {},
   "outputs": [
    {
     "data": {
      "text/plain": [
       "count      4339.000000\n",
       "mean       2053.793018\n",
       "std        8988.248381\n",
       "min           0.000000\n",
       "25%         307.245000\n",
       "50%         674.450000\n",
       "75%        1661.640000\n",
       "max      280206.020000\n",
       "Name: amount_spent, dtype: float64"
      ]
     },
     "execution_count": 4,
     "metadata": {},
     "output_type": "execute_result"
    }
   ],
   "source": [
    "unique_customers.describe()"
   ]
  },
  {
   "cell_type": "code",
   "execution_count": 5,
   "metadata": {},
   "outputs": [
    {
     "data": {
      "text/plain": [
       "6"
      ]
     },
     "execution_count": 5,
     "metadata": {},
     "output_type": "execute_result"
    }
   ],
   "source": [
    "#Sub Problem 2: How to select customers whose aggregated amount_spent is in a given quantile range?\n",
    "#The first group is VIP Customers whose aggregated expenses at your global chain stores are above the 95th percentile. \n",
    "p_95 = unique_customers.quantile(0.95)\n",
    "p_75 = unique_customers.quantile(0.75)\n",
    "\n",
    "VIP = orders[orders['amount_spent']> unique_customers.quantile(0.95)].CustomerID#.value_counts()\n",
    "len(list(set(VIP)))"
   ]
  },
  {
   "cell_type": "code",
   "execution_count": 6,
   "metadata": {},
   "outputs": [
    {
     "data": {
      "text/plain": [
       "33"
      ]
     },
     "execution_count": 6,
     "metadata": {},
     "output_type": "execute_result"
    }
   ],
   "source": [
    "#Sub Problem 3: How to label selected customers as \"VIP\" or \"Preferred\"?\n",
    "#The second group is Preferred Customers whose aggregated expenses are between the 75th and 95th percentile.\n",
    "Preferred = orders[(orders['amount_spent'] >= p_75) & (orders['amount_spent'] <= p_95)].CustomerID\n",
    "len(list(set(Preferred)))"
   ]
  },
  {
   "cell_type": "code",
   "execution_count": 12,
   "metadata": {},
   "outputs": [
    {
     "name": "stdout",
     "output_type": "stream",
     "text": [
      "Preferred customers are 10784     18102\n",
      "10786     18102\n",
      "10787     18102\n",
      "10788     18102\n",
      "10794     18102\n",
      "10795     18102\n",
      "10797     18102\n",
      "10799     18102\n",
      "10800     18102\n",
      "12992     12755\n",
      "13607     18102\n",
      "14708     15061\n",
      "21714     16029\n",
      "27338     16532\n",
      "32186     17450\n",
      "32187     17450\n",
      "32188     17450\n",
      "32189     17450\n",
      "32730     15749\n",
      "32731     15749\n",
      "32792     15749\n",
      "32793     15749\n",
      "35326     14156\n",
      "52375     18102\n",
      "52379     18102\n",
      "54330     16029\n",
      "61586     18087\n",
      "76240     14911\n",
      "76241     14911\n",
      "80236     15769\n",
      "          ...  \n",
      "295254    12744\n",
      "295255    12744\n",
      "299486    18102\n",
      "299487    18102\n",
      "299488    18102\n",
      "299489    18102\n",
      "299490    18102\n",
      "299491    18102\n",
      "299492    18102\n",
      "306755    12798\n",
      "308097    14646\n",
      "308822    12536\n",
      "308846    12536\n",
      "320899    17450\n",
      "320906    16333\n",
      "320908    16333\n",
      "332682    12931\n",
      "334250    16986\n",
      "345074    12415\n",
      "360757    16532\n",
      "375742    17450\n",
      "378078    12798\n",
      "384664    13868\n",
      "393222    16000\n",
      "393227    16000\n",
      "393237    16000\n",
      "393298    15195\n",
      "394417    14646\n",
      "395597    16210\n",
      "397110    18102\n",
      "Name: CustomerID, Length: 125, dtype: int64\n",
      "\n",
      "\n",
      "VIP customers are 32732     15749\n",
      "37126     12346\n",
      "109624    15749\n",
      "118352    16029\n",
      "155418    15098\n",
      "248706    17450\n",
      "397451    16446\n",
      "Name: CustomerID, dtype: int64\n"
     ]
    }
   ],
   "source": [
    "print('Preferred customers are', Preferred)\n",
    "print('\\n')\n",
    "print('VIP customers are', VIP)"
   ]
  },
  {
   "cell_type": "code",
   "execution_count": null,
   "metadata": {},
   "outputs": [],
   "source": []
  },
  {
   "cell_type": "markdown",
   "metadata": {},
   "source": [
    "Now we'll leave it to you to solve Q2 & Q3, which you can leverage from your solution for Q1:\n",
    "\n",
    "# Q2: How to identify which country has the most VIP Customers?\n",
    "\n",
    "Provide your solution for Q2 below:"
   ]
  },
  {
   "cell_type": "code",
   "execution_count": 8,
   "metadata": {},
   "outputs": [
    {
     "name": "stdout",
     "output_type": "stream",
     "text": [
      "United Kingdom    7\n",
      "Name: Country, dtype: int64\n"
     ]
    }
   ],
   "source": [
    "# your code here\n",
    "\n",
    "VIP_country = orders[orders['amount_spent']>= unique_customers.quantile(0.95)].Country\n",
    "print(VIP_country.value_counts())"
   ]
  },
  {
   "cell_type": "markdown",
   "metadata": {},
   "source": [
    "# Q3: How to identify which country has the most VIP+Preferred Customers combined?"
   ]
  },
  {
   "cell_type": "code",
   "execution_count": 9,
   "metadata": {},
   "outputs": [
    {
     "data": {
      "text/plain": [
       "United Kingdom    116\n",
       "EIRE                4\n",
       "Singapore           4\n",
       "Japan               3\n",
       "France              2\n",
       "Netherlands         2\n",
       "Australia           1\n",
       "Name: Country, dtype: int64"
      ]
     },
     "execution_count": 9,
     "metadata": {},
     "output_type": "execute_result"
    }
   ],
   "source": [
    "abovep_75= orders[orders['amount_spent'] >= p_75].Country\n",
    "VIP_Preferred = abovep_75.value_counts()\n",
    "VIP_Preferred"
   ]
  },
  {
   "cell_type": "code",
   "execution_count": 11,
   "metadata": {},
   "outputs": [
    {
     "data": {
      "text/plain": [
       "'United Kingdom'"
      ]
     },
     "execution_count": 11,
     "metadata": {},
     "output_type": "execute_result"
    }
   ],
   "source": [
    "VIP_Preferred.index[0]"
   ]
  },
  {
   "cell_type": "code",
   "execution_count": null,
   "metadata": {},
   "outputs": [],
   "source": []
  }
 ],
 "metadata": {
  "kernelspec": {
   "display_name": "Python 3",
   "language": "python",
   "name": "python3"
  },
  "language_info": {
   "codemirror_mode": {
    "name": "ipython",
    "version": 3
   },
   "file_extension": ".py",
   "mimetype": "text/x-python",
   "name": "python",
   "nbconvert_exporter": "python",
   "pygments_lexer": "ipython3",
   "version": "3.7.3"
  }
 },
 "nbformat": 4,
 "nbformat_minor": 2
}
