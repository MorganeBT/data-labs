{
 "cells": [
  {
   "cell_type": "markdown",
   "metadata": {},
   "source": [
    "# Welcome to my Supervised Machine Learning project!"
   ]
  },
  {
   "cell_type": "code",
   "execution_count": 1,
   "metadata": {},
   "outputs": [],
   "source": [
    "import pandas as pd\n",
    "import numpy as np\n",
    "import scipy\n",
    "import matplotlib.pyplot as plt\n",
    "import seaborn as sns\n",
    "%matplotlib inline"
   ]
  },
  {
   "cell_type": "markdown",
   "metadata": {},
   "source": [
    "# 1. Loading, exploring & extracting features from the Dataset"
   ]
  },
  {
   "cell_type": "code",
   "execution_count": 2,
   "metadata": {},
   "outputs": [
    {
     "name": "stderr",
     "output_type": "stream",
     "text": [
      "C:\\Users\\morga\\Anaconda3\\lib\\site-packages\\IPython\\core\\interactiveshell.py:3058: DtypeWarning: Columns (3,10,11,15,16,17,18,19,39,40,41,42,43,44,51,52,53,54,55,73,74,75,76,77,78,79,80,81,82,83,84,85,86,87,88,89,107,109) have mixed types. Specify dtype option on import or set low_memory=False.\n",
      "  interactivity=interactivity, compiler=compiler, result=result)\n"
     ]
    }
   ],
   "source": [
    "dating = pd.read_csv('speeddating.csv')"
   ]
  },
  {
   "cell_type": "raw",
   "metadata": {},
   "source": [
    "# My challenge is to overwiew if we can predict the matching based on this dataset _ The target feature is the 'match' one"
   ]
  },
  {
   "cell_type": "code",
   "execution_count": 3,
   "metadata": {
    "scrolled": true
   },
   "outputs": [
    {
     "name": "stdout",
     "output_type": "stream",
     "text": [
      "<class 'pandas.core.frame.DataFrame'>\n",
      "RangeIndex: 8378 entries, 0 to 8377\n",
      "Columns: 123 entries, has_null to match\n",
      "dtypes: int64(7), object(116)\n",
      "memory usage: 7.9+ MB\n"
     ]
    }
   ],
   "source": [
    "dating.info()"
   ]
  },
  {
   "cell_type": "code",
   "execution_count": 4,
   "metadata": {},
   "outputs": [
    {
     "data": {
      "text/plain": [
       "has_null              0\n",
       "wave                  0\n",
       "gender                0\n",
       "age                   0\n",
       "age_o                 0\n",
       "                     ..\n",
       "d_guess_prob_liked    0\n",
       "met                   0\n",
       "decision              0\n",
       "decision_o            0\n",
       "match                 0\n",
       "Length: 123, dtype: int64"
      ]
     },
     "execution_count": 4,
     "metadata": {},
     "output_type": "execute_result"
    }
   ],
   "source": [
    "dating.isnull().sum(axis = 0)"
   ]
  },
  {
   "cell_type": "code",
   "execution_count": 5,
   "metadata": {
    "scrolled": true
   },
   "outputs": [
    {
     "data": {
      "text/plain": [
       "0"
      ]
     },
     "execution_count": 5,
     "metadata": {},
     "output_type": "execute_result"
    }
   ],
   "source": [
    "dating.isnull().any(axis=1).sum()"
   ]
  },
  {
   "cell_type": "code",
   "execution_count": 6,
   "metadata": {
    "scrolled": true
   },
   "outputs": [
    {
     "data": {
      "text/html": [
       "<div>\n",
       "<style scoped>\n",
       "    .dataframe tbody tr th:only-of-type {\n",
       "        vertical-align: middle;\n",
       "    }\n",
       "\n",
       "    .dataframe tbody tr th {\n",
       "        vertical-align: top;\n",
       "    }\n",
       "\n",
       "    .dataframe thead th {\n",
       "        text-align: right;\n",
       "    }\n",
       "</style>\n",
       "<table border=\"1\" class=\"dataframe\">\n",
       "  <thead>\n",
       "    <tr style=\"text-align: right;\">\n",
       "      <th></th>\n",
       "      <th>has_null</th>\n",
       "      <th>wave</th>\n",
       "      <th>gender</th>\n",
       "      <th>age</th>\n",
       "      <th>age_o</th>\n",
       "      <th>d_age</th>\n",
       "      <th>d_d_age</th>\n",
       "      <th>race</th>\n",
       "      <th>race_o</th>\n",
       "      <th>samerace</th>\n",
       "      <th>...</th>\n",
       "      <th>d_expected_num_interested_in_me</th>\n",
       "      <th>d_expected_num_matches</th>\n",
       "      <th>like</th>\n",
       "      <th>guess_prob_liked</th>\n",
       "      <th>d_like</th>\n",
       "      <th>d_guess_prob_liked</th>\n",
       "      <th>met</th>\n",
       "      <th>decision</th>\n",
       "      <th>decision_o</th>\n",
       "      <th>match</th>\n",
       "    </tr>\n",
       "  </thead>\n",
       "  <tbody>\n",
       "    <tr>\n",
       "      <th>0</th>\n",
       "      <td>0</td>\n",
       "      <td>1</td>\n",
       "      <td>female</td>\n",
       "      <td>21</td>\n",
       "      <td>27</td>\n",
       "      <td>6</td>\n",
       "      <td>[4-6]</td>\n",
       "      <td>'Asian/Pacific Islander/Asian-American'</td>\n",
       "      <td>European/Caucasian-American</td>\n",
       "      <td>0</td>\n",
       "      <td>...</td>\n",
       "      <td>[0-3]</td>\n",
       "      <td>[3-5]</td>\n",
       "      <td>7</td>\n",
       "      <td>6</td>\n",
       "      <td>[6-8]</td>\n",
       "      <td>[5-6]</td>\n",
       "      <td>0</td>\n",
       "      <td>1</td>\n",
       "      <td>0</td>\n",
       "      <td>0</td>\n",
       "    </tr>\n",
       "    <tr>\n",
       "      <th>1</th>\n",
       "      <td>0</td>\n",
       "      <td>1</td>\n",
       "      <td>female</td>\n",
       "      <td>21</td>\n",
       "      <td>22</td>\n",
       "      <td>1</td>\n",
       "      <td>[0-1]</td>\n",
       "      <td>'Asian/Pacific Islander/Asian-American'</td>\n",
       "      <td>European/Caucasian-American</td>\n",
       "      <td>0</td>\n",
       "      <td>...</td>\n",
       "      <td>[0-3]</td>\n",
       "      <td>[3-5]</td>\n",
       "      <td>7</td>\n",
       "      <td>5</td>\n",
       "      <td>[6-8]</td>\n",
       "      <td>[5-6]</td>\n",
       "      <td>1</td>\n",
       "      <td>1</td>\n",
       "      <td>0</td>\n",
       "      <td>0</td>\n",
       "    </tr>\n",
       "    <tr>\n",
       "      <th>2</th>\n",
       "      <td>1</td>\n",
       "      <td>1</td>\n",
       "      <td>female</td>\n",
       "      <td>21</td>\n",
       "      <td>22</td>\n",
       "      <td>1</td>\n",
       "      <td>[0-1]</td>\n",
       "      <td>'Asian/Pacific Islander/Asian-American'</td>\n",
       "      <td>'Asian/Pacific Islander/Asian-American'</td>\n",
       "      <td>1</td>\n",
       "      <td>...</td>\n",
       "      <td>[0-3]</td>\n",
       "      <td>[3-5]</td>\n",
       "      <td>7</td>\n",
       "      <td>?</td>\n",
       "      <td>[6-8]</td>\n",
       "      <td>[0-4]</td>\n",
       "      <td>1</td>\n",
       "      <td>1</td>\n",
       "      <td>1</td>\n",
       "      <td>1</td>\n",
       "    </tr>\n",
       "    <tr>\n",
       "      <th>3</th>\n",
       "      <td>0</td>\n",
       "      <td>1</td>\n",
       "      <td>female</td>\n",
       "      <td>21</td>\n",
       "      <td>23</td>\n",
       "      <td>2</td>\n",
       "      <td>[2-3]</td>\n",
       "      <td>'Asian/Pacific Islander/Asian-American'</td>\n",
       "      <td>European/Caucasian-American</td>\n",
       "      <td>0</td>\n",
       "      <td>...</td>\n",
       "      <td>[0-3]</td>\n",
       "      <td>[3-5]</td>\n",
       "      <td>7</td>\n",
       "      <td>6</td>\n",
       "      <td>[6-8]</td>\n",
       "      <td>[5-6]</td>\n",
       "      <td>0</td>\n",
       "      <td>1</td>\n",
       "      <td>1</td>\n",
       "      <td>1</td>\n",
       "    </tr>\n",
       "    <tr>\n",
       "      <th>4</th>\n",
       "      <td>0</td>\n",
       "      <td>1</td>\n",
       "      <td>female</td>\n",
       "      <td>21</td>\n",
       "      <td>24</td>\n",
       "      <td>3</td>\n",
       "      <td>[2-3]</td>\n",
       "      <td>'Asian/Pacific Islander/Asian-American'</td>\n",
       "      <td>'Latino/Hispanic American'</td>\n",
       "      <td>0</td>\n",
       "      <td>...</td>\n",
       "      <td>[0-3]</td>\n",
       "      <td>[3-5]</td>\n",
       "      <td>6</td>\n",
       "      <td>6</td>\n",
       "      <td>[6-8]</td>\n",
       "      <td>[5-6]</td>\n",
       "      <td>0</td>\n",
       "      <td>1</td>\n",
       "      <td>1</td>\n",
       "      <td>1</td>\n",
       "    </tr>\n",
       "  </tbody>\n",
       "</table>\n",
       "<p>5 rows × 123 columns</p>\n",
       "</div>"
      ],
      "text/plain": [
       "   has_null  wave  gender age age_o  d_age d_d_age  \\\n",
       "0         0     1  female  21    27      6   [4-6]   \n",
       "1         0     1  female  21    22      1   [0-1]   \n",
       "2         1     1  female  21    22      1   [0-1]   \n",
       "3         0     1  female  21    23      2   [2-3]   \n",
       "4         0     1  female  21    24      3   [2-3]   \n",
       "\n",
       "                                      race  \\\n",
       "0  'Asian/Pacific Islander/Asian-American'   \n",
       "1  'Asian/Pacific Islander/Asian-American'   \n",
       "2  'Asian/Pacific Islander/Asian-American'   \n",
       "3  'Asian/Pacific Islander/Asian-American'   \n",
       "4  'Asian/Pacific Islander/Asian-American'   \n",
       "\n",
       "                                    race_o  samerace  ...  \\\n",
       "0              European/Caucasian-American         0  ...   \n",
       "1              European/Caucasian-American         0  ...   \n",
       "2  'Asian/Pacific Islander/Asian-American'         1  ...   \n",
       "3              European/Caucasian-American         0  ...   \n",
       "4               'Latino/Hispanic American'         0  ...   \n",
       "\n",
       "  d_expected_num_interested_in_me d_expected_num_matches like  \\\n",
       "0                           [0-3]                  [3-5]    7   \n",
       "1                           [0-3]                  [3-5]    7   \n",
       "2                           [0-3]                  [3-5]    7   \n",
       "3                           [0-3]                  [3-5]    7   \n",
       "4                           [0-3]                  [3-5]    6   \n",
       "\n",
       "  guess_prob_liked d_like d_guess_prob_liked met decision decision_o match  \n",
       "0                6  [6-8]              [5-6]   0        1          0     0  \n",
       "1                5  [6-8]              [5-6]   1        1          0     0  \n",
       "2                ?  [6-8]              [0-4]   1        1          1     1  \n",
       "3                6  [6-8]              [5-6]   0        1          1     1  \n",
       "4                6  [6-8]              [5-6]   0        1          1     1  \n",
       "\n",
       "[5 rows x 123 columns]"
      ]
     },
     "execution_count": 6,
     "metadata": {},
     "output_type": "execute_result"
    }
   ],
   "source": [
    "dating.head()"
   ]
  },
  {
   "cell_type": "code",
   "execution_count": 7,
   "metadata": {},
   "outputs": [
    {
     "data": {
      "text/plain": [
       "0    6998\n",
       "1    1380\n",
       "Name: match, dtype: int64"
      ]
     },
     "execution_count": 7,
     "metadata": {},
     "output_type": "execute_result"
    }
   ],
   "source": [
    "# I look at the balance of classes in my target feature\n",
    "dating.match.value_counts()"
   ]
  },
  {
   "cell_type": "code",
   "execution_count": 8,
   "metadata": {
    "scrolled": true
   },
   "outputs": [
    {
     "data": {
      "text/plain": [
       "<matplotlib.axes._subplots.AxesSubplot at 0x2e38542df48>"
      ]
     },
     "execution_count": 8,
     "metadata": {},
     "output_type": "execute_result"
    },
    {
     "data": {
      "image/png": "[encoded data removed]",
      "text/plain": [
       "<Figure size 432x288 with 2 Axes>"
      ]
     },
     "metadata": {
      "needs_background": "light"
     },
     "output_type": "display_data"
    }
   ],
   "source": [
    "#I evaluate if the columns in this dataset are strongly correlated\n",
    "corr = dating.corr()\n",
    "sns.heatmap(corr, cmap=\"cool\")"
   ]
  },
  {
   "cell_type": "code",
   "execution_count": 9,
   "metadata": {},
   "outputs": [
    {
     "data": {
      "text/plain": [
       "0    7644\n",
       "?     375\n",
       "1     351\n",
       "7       3\n",
       "5       2\n",
       "3       1\n",
       "6       1\n",
       "8       1\n",
       "Name: met, dtype: int64"
      ]
     },
     "execution_count": 9,
     "metadata": {},
     "output_type": "execute_result"
    }
   ],
   "source": [
    "dating.met.value_counts()"
   ]
  },
  {
   "cell_type": "code",
   "execution_count": 10,
   "metadata": {
    "scrolled": true
   },
   "outputs": [
    {
     "data": {
      "text/plain": [
       "array(['has_null', 'wave', 'gender', 'age', 'age_o', 'd_age', 'd_d_age',\n",
       "       'race', 'race_o', 'samerace', 'importance_same_race',\n",
       "       'importance_same_religion', 'd_importance_same_race',\n",
       "       'd_importance_same_religion', 'field', 'pref_o_attractive',\n",
       "       'pref_o_sincere', 'pref_o_intelligence', 'pref_o_funny',\n",
       "       'pref_o_ambitious', 'pref_o_shared_interests',\n",
       "       'd_pref_o_attractive', 'd_pref_o_sincere', 'd_pref_o_intelligence',\n",
       "       'd_pref_o_funny', 'd_pref_o_ambitious',\n",
       "       'd_pref_o_shared_interests', 'attractive_o', 'sinsere_o',\n",
       "       'intelligence_o', 'funny_o', 'ambitous_o', 'shared_interests_o',\n",
       "       'd_attractive_o', 'd_sinsere_o', 'd_intelligence_o', 'd_funny_o',\n",
       "       'd_ambitous_o', 'd_shared_interests_o', 'attractive_important',\n",
       "       'sincere_important', 'intellicence_important', 'funny_important',\n",
       "       'ambtition_important', 'shared_interests_important',\n",
       "       'd_attractive_important', 'd_sincere_important',\n",
       "       'd_intellicence_important', 'd_funny_important',\n",
       "       'd_ambtition_important', 'd_shared_interests_important',\n",
       "       'attractive', 'sincere', 'intelligence', 'funny', 'ambition',\n",
       "       'd_attractive', 'd_sincere', 'd_intelligence', 'd_funny',\n",
       "       'd_ambition', 'attractive_partner', 'sincere_partner',\n",
       "       'intelligence_partner', 'funny_partner', 'ambition_partner',\n",
       "       'shared_interests_partner', 'd_attractive_partner',\n",
       "       'd_sincere_partner', 'd_intelligence_partner', 'd_funny_partner',\n",
       "       'd_ambition_partner', 'd_shared_interests_partner', 'sports',\n",
       "       'tvsports', 'exercise', 'dining', 'museums', 'art', 'hiking',\n",
       "       'gaming', 'clubbing', 'reading', 'tv', 'theater', 'movies',\n",
       "       'concerts', 'music', 'shopping', 'yoga', 'd_sports', 'd_tvsports',\n",
       "       'd_exercise', 'd_dining', 'd_museums', 'd_art', 'd_hiking',\n",
       "       'd_gaming', 'd_clubbing', 'd_reading', 'd_tv', 'd_theater',\n",
       "       'd_movies', 'd_concerts', 'd_music', 'd_shopping', 'd_yoga',\n",
       "       'interests_correlate', 'd_interests_correlate',\n",
       "       'expected_happy_with_sd_people', 'expected_num_interested_in_me',\n",
       "       'expected_num_matches', 'd_expected_happy_with_sd_people',\n",
       "       'd_expected_num_interested_in_me', 'd_expected_num_matches',\n",
       "       'like', 'guess_prob_liked', 'd_like', 'd_guess_prob_liked', 'met',\n",
       "       'decision', 'decision_o', 'match'], dtype=object)"
      ]
     },
     "execution_count": 10,
     "metadata": {},
     "output_type": "execute_result"
    }
   ],
   "source": [
    "# I look at the names of columns\n",
    "dating.columns.values"
   ]
  },
  {
   "cell_type": "code",
   "execution_count": 11,
   "metadata": {},
   "outputs": [],
   "source": [
    "#I drop all columns regarding the expectactions of the person in date\n",
    "dating.drop(columns = ['expected_happy_with_sd_people', 'expected_num_interested_in_me','expected_num_matches', \n",
    "                       'd_expected_happy_with_sd_people','d_expected_num_interested_in_me', 'd_expected_num_matches'], inplace = True)"
   ]
  },
  {
   "cell_type": "code",
   "execution_count": 12,
   "metadata": {},
   "outputs": [],
   "source": [
    "#I drop the columns about 'decision' as the machine will naturally base on to consider the prediction of matching\n",
    "dating.drop(columns = ['decision', 'decision_o'], inplace = True)"
   ]
  },
  {
   "cell_type": "code",
   "execution_count": 13,
   "metadata": {},
   "outputs": [],
   "source": [
    "#I drop the columns with duplicata and included information on main features (info reg. self rating and the other person's rates, guessing rates)\n",
    "dating.drop(columns = ['age_o','d_age','field', 'race', 'race_o','tvsports', 'exercise', 'museums','hiking', 'gaming', 'movies', \n",
    "                       'concerts', 'shopping', 'yoga', 'sports', 'dining', 'art', 'clubbing', 'reading', 'tv', 'theater', \n",
    "                       'music', 'interests_correlate','importance_same_race', 'importance_same_religion', 'pref_o_attractive', \n",
    "                       'pref_o_sincere', 'pref_o_intelligence', 'pref_o_funny', 'pref_o_ambitious', 'pref_o_shared_interests',\n",
    "                       'attractive_o', 'sinsere_o', 'intelligence_o', 'funny_o', 'ambitous_o', 'shared_interests_o', \n",
    "                       'attractive_important', 'sincere_important', 'intellicence_important', 'funny_important', \n",
    "                       'ambtition_important', 'shared_interests_important', 'attractive', 'sincere', 'intelligence', 'funny', \n",
    "                       'ambition', 'attractive_partner', 'sincere_partner', 'intelligence_partner', 'funny_partner', \n",
    "                       'ambition_partner', 'shared_interests_partner', 'guess_prob_liked', 'like'], inplace = True)"
   ]
  },
  {
   "cell_type": "code",
   "execution_count": 14,
   "metadata": {
    "scrolled": true
   },
   "outputs": [
    {
     "name": "stdout",
     "output_type": "stream",
     "text": [
      "['has_null', 'wave', 'gender', 'age', 'samerace', 'met', 'match']\n"
     ]
    }
   ],
   "source": [
    "# All columns started with 'd_' are rates classification \n",
    "# so I decide to look at those should be identified as not started by 'd_'\n",
    "no_d_colnames = []\n",
    "for col in dating.columns:\n",
    "    if not col.startswith('d_'):\n",
    "        no_d_colnames.append(col)\n",
    "print(no_d_colnames)# test a list comprehension"
   ]
  },
  {
   "cell_type": "code",
   "execution_count": 15,
   "metadata": {},
   "outputs": [
    {
     "data": {
      "text/plain": [
       "Index(['has_null', 'wave', 'gender', 'age', 'd_d_age', 'samerace',\n",
       "       'd_importance_same_race', 'd_importance_same_religion',\n",
       "       'd_pref_o_attractive', 'd_pref_o_sincere', 'd_pref_o_intelligence',\n",
       "       'd_pref_o_funny', 'd_pref_o_ambitious', 'd_pref_o_shared_interests',\n",
       "       'd_attractive_o', 'd_sinsere_o', 'd_intelligence_o', 'd_funny_o',\n",
       "       'd_ambitous_o', 'd_shared_interests_o', 'd_attractive_important',\n",
       "       'd_sincere_important', 'd_intellicence_important', 'd_funny_important',\n",
       "       'd_ambtition_important', 'd_shared_interests_important', 'd_attractive',\n",
       "       'd_sincere', 'd_intelligence', 'd_funny', 'd_ambition',\n",
       "       'd_attractive_partner', 'd_sincere_partner', 'd_intelligence_partner',\n",
       "       'd_funny_partner', 'd_ambition_partner', 'd_shared_interests_partner',\n",
       "       'd_sports', 'd_tvsports', 'd_exercise', 'd_dining', 'd_museums',\n",
       "       'd_art', 'd_hiking', 'd_gaming', 'd_clubbing', 'd_reading', 'd_tv',\n",
       "       'd_theater', 'd_movies', 'd_concerts', 'd_music', 'd_shopping',\n",
       "       'd_yoga', 'd_interests_correlate', 'd_like', 'd_guess_prob_liked',\n",
       "       'met', 'match'],\n",
       "      dtype='object')"
      ]
     },
     "execution_count": 15,
     "metadata": {},
     "output_type": "execute_result"
    }
   ],
   "source": [
    "dating.columns"
   ]
  },
  {
   "cell_type": "code",
   "execution_count": 16,
   "metadata": {},
   "outputs": [],
   "source": [
    "#I consider that information regarding the other  and the rating on interest topics are not relevant in the dataset\n",
    "dating.drop(columns = ['d_pref_o_attractive', 'd_pref_o_sincere', 'd_pref_o_intelligence',\n",
    "       'd_pref_o_funny', 'd_pref_o_ambitious', 'd_pref_o_shared_interests',\n",
    "       'd_attractive_o', 'd_sinsere_o', 'd_intelligence_o', 'd_funny_o',\n",
    "       'd_ambitous_o', 'd_shared_interests_o', 'd_tvsports', 'd_exercise', 'd_museums',\n",
    "       'd_hiking', 'd_gaming', 'd_theater', 'd_movies', 'd_concerts', 'd_shopping',\n",
    "       'd_yoga', 'd_attractive', 'd_sincere', 'd_intelligence', 'd_funny', 'd_ambition', 'd_guess_prob_liked',\n",
    "        'd_sports', 'd_dining', 'd_art', 'd_clubbing', 'd_reading', 'd_tv', 'd_music'], inplace = True)"
   ]
  },
  {
   "cell_type": "code",
   "execution_count": 17,
   "metadata": {},
   "outputs": [
    {
     "name": "stderr",
     "output_type": "stream",
     "text": [
      "C:\\Users\\morga\\Anaconda3\\lib\\site-packages\\pandas\\core\\ops\\__init__.py:1115: FutureWarning: elementwise comparison failed; returning scalar instead, but in the future will perform elementwise comparison\n",
      "  result = method(y)\n"
     ]
    },
    {
     "data": {
      "text/plain": [
       "has_null                          0\n",
       "wave                              0\n",
       "gender                            0\n",
       "age                              95\n",
       "d_d_age                           0\n",
       "samerace                          0\n",
       "d_importance_same_race            0\n",
       "d_importance_same_religion        0\n",
       "d_attractive_important            0\n",
       "d_sincere_important               0\n",
       "d_intellicence_important          0\n",
       "d_funny_important                 0\n",
       "d_ambtition_important             0\n",
       "d_shared_interests_important      0\n",
       "d_attractive_partner              0\n",
       "d_sincere_partner                 0\n",
       "d_intelligence_partner            0\n",
       "d_funny_partner                   0\n",
       "d_ambition_partner                0\n",
       "d_shared_interests_partner        0\n",
       "d_interests_correlate             0\n",
       "d_like                            0\n",
       "met                             375\n",
       "match                             0\n",
       "dtype: int64"
      ]
     },
     "execution_count": 17,
     "metadata": {},
     "output_type": "execute_result"
    }
   ],
   "source": [
    "#I identify the '?' values number by feature\n",
    "dating.eq('?').sum()"
   ]
  },
  {
   "cell_type": "code",
   "execution_count": 18,
   "metadata": {
    "scrolled": true
   },
   "outputs": [],
   "source": [
    "# I drop the rows with the '?' values \n",
    "# dating.drop(dating.index[dating['age']== '?'], inplace = True)  \n",
    "dating = dating[dating.age != '?']\n",
    "# dating.drop(dating.index[dating['met']== '?'], inplace = True)\n",
    "dating = dating[dating.met != '?']"
   ]
  },
  {
   "cell_type": "code",
   "execution_count": 19,
   "metadata": {},
   "outputs": [],
   "source": [
    "# I rename some columns names\n",
    "dating.rename(columns={'d_intellicence_important':'d_intelligence_important', 'd_ambtition_important': 'd_ambition_important', 'met':'already_met'},inplace=True)"
   ]
  },
  {
   "cell_type": "code",
   "execution_count": 20,
   "metadata": {
    "scrolled": true
   },
   "outputs": [
    {
     "data": {
      "text/plain": [
       "(7921, 24)"
      ]
     },
     "execution_count": 20,
     "metadata": {},
     "output_type": "execute_result"
    }
   ],
   "source": [
    "#I explore again the dataset after those changes\n",
    "dating.shape"
   ]
  },
  {
   "cell_type": "code",
   "execution_count": 21,
   "metadata": {},
   "outputs": [
    {
     "data": {
      "text/plain": [
       "0    6591\n",
       "1    1330\n",
       "Name: match, dtype: int64"
      ]
     },
     "execution_count": 21,
     "metadata": {},
     "output_type": "execute_result"
    }
   ],
   "source": [
    "dating.match.value_counts()"
   ]
  },
  {
   "cell_type": "code",
   "execution_count": 22,
   "metadata": {
    "scrolled": true
   },
   "outputs": [
    {
     "data": {
      "text/html": [
       "<div>\n",
       "<style scoped>\n",
       "    .dataframe tbody tr th:only-of-type {\n",
       "        vertical-align: middle;\n",
       "    }\n",
       "\n",
       "    .dataframe tbody tr th {\n",
       "        vertical-align: top;\n",
       "    }\n",
       "\n",
       "    .dataframe thead th {\n",
       "        text-align: right;\n",
       "    }\n",
       "</style>\n",
       "<table border=\"1\" class=\"dataframe\">\n",
       "  <thead>\n",
       "    <tr style=\"text-align: right;\">\n",
       "      <th></th>\n",
       "      <th>has_null</th>\n",
       "      <th>wave</th>\n",
       "      <th>gender</th>\n",
       "      <th>age</th>\n",
       "      <th>d_d_age</th>\n",
       "      <th>samerace</th>\n",
       "      <th>d_importance_same_race</th>\n",
       "      <th>d_importance_same_religion</th>\n",
       "      <th>d_attractive_important</th>\n",
       "      <th>d_sincere_important</th>\n",
       "      <th>...</th>\n",
       "      <th>d_attractive_partner</th>\n",
       "      <th>d_sincere_partner</th>\n",
       "      <th>d_intelligence_partner</th>\n",
       "      <th>d_funny_partner</th>\n",
       "      <th>d_ambition_partner</th>\n",
       "      <th>d_shared_interests_partner</th>\n",
       "      <th>d_interests_correlate</th>\n",
       "      <th>d_like</th>\n",
       "      <th>already_met</th>\n",
       "      <th>match</th>\n",
       "    </tr>\n",
       "  </thead>\n",
       "  <tbody>\n",
       "    <tr>\n",
       "      <th>0</th>\n",
       "      <td>0</td>\n",
       "      <td>1</td>\n",
       "      <td>female</td>\n",
       "      <td>21</td>\n",
       "      <td>[4-6]</td>\n",
       "      <td>0</td>\n",
       "      <td>[2-5]</td>\n",
       "      <td>[2-5]</td>\n",
       "      <td>[0-15]</td>\n",
       "      <td>[16-20]</td>\n",
       "      <td>...</td>\n",
       "      <td>[6-8]</td>\n",
       "      <td>[9-10]</td>\n",
       "      <td>[6-8]</td>\n",
       "      <td>[6-8]</td>\n",
       "      <td>[6-8]</td>\n",
       "      <td>[0-5]</td>\n",
       "      <td>[0-0.33]</td>\n",
       "      <td>[6-8]</td>\n",
       "      <td>0</td>\n",
       "      <td>0</td>\n",
       "    </tr>\n",
       "    <tr>\n",
       "      <th>1</th>\n",
       "      <td>0</td>\n",
       "      <td>1</td>\n",
       "      <td>female</td>\n",
       "      <td>21</td>\n",
       "      <td>[0-1]</td>\n",
       "      <td>0</td>\n",
       "      <td>[2-5]</td>\n",
       "      <td>[2-5]</td>\n",
       "      <td>[0-15]</td>\n",
       "      <td>[16-20]</td>\n",
       "      <td>...</td>\n",
       "      <td>[6-8]</td>\n",
       "      <td>[6-8]</td>\n",
       "      <td>[6-8]</td>\n",
       "      <td>[6-8]</td>\n",
       "      <td>[0-5]</td>\n",
       "      <td>[6-8]</td>\n",
       "      <td>[0.33-1]</td>\n",
       "      <td>[6-8]</td>\n",
       "      <td>1</td>\n",
       "      <td>0</td>\n",
       "    </tr>\n",
       "    <tr>\n",
       "      <th>2</th>\n",
       "      <td>1</td>\n",
       "      <td>1</td>\n",
       "      <td>female</td>\n",
       "      <td>21</td>\n",
       "      <td>[0-1]</td>\n",
       "      <td>1</td>\n",
       "      <td>[2-5]</td>\n",
       "      <td>[2-5]</td>\n",
       "      <td>[0-15]</td>\n",
       "      <td>[16-20]</td>\n",
       "      <td>...</td>\n",
       "      <td>[0-5]</td>\n",
       "      <td>[6-8]</td>\n",
       "      <td>[9-10]</td>\n",
       "      <td>[6-8]</td>\n",
       "      <td>[0-5]</td>\n",
       "      <td>[6-8]</td>\n",
       "      <td>[0-0.33]</td>\n",
       "      <td>[6-8]</td>\n",
       "      <td>1</td>\n",
       "      <td>1</td>\n",
       "    </tr>\n",
       "    <tr>\n",
       "      <th>3</th>\n",
       "      <td>0</td>\n",
       "      <td>1</td>\n",
       "      <td>female</td>\n",
       "      <td>21</td>\n",
       "      <td>[2-3]</td>\n",
       "      <td>0</td>\n",
       "      <td>[2-5]</td>\n",
       "      <td>[2-5]</td>\n",
       "      <td>[0-15]</td>\n",
       "      <td>[16-20]</td>\n",
       "      <td>...</td>\n",
       "      <td>[6-8]</td>\n",
       "      <td>[6-8]</td>\n",
       "      <td>[6-8]</td>\n",
       "      <td>[6-8]</td>\n",
       "      <td>[6-8]</td>\n",
       "      <td>[6-8]</td>\n",
       "      <td>[0.33-1]</td>\n",
       "      <td>[6-8]</td>\n",
       "      <td>0</td>\n",
       "      <td>1</td>\n",
       "    </tr>\n",
       "    <tr>\n",
       "      <th>4</th>\n",
       "      <td>0</td>\n",
       "      <td>1</td>\n",
       "      <td>female</td>\n",
       "      <td>21</td>\n",
       "      <td>[2-3]</td>\n",
       "      <td>0</td>\n",
       "      <td>[2-5]</td>\n",
       "      <td>[2-5]</td>\n",
       "      <td>[0-15]</td>\n",
       "      <td>[16-20]</td>\n",
       "      <td>...</td>\n",
       "      <td>[0-5]</td>\n",
       "      <td>[6-8]</td>\n",
       "      <td>[6-8]</td>\n",
       "      <td>[6-8]</td>\n",
       "      <td>[6-8]</td>\n",
       "      <td>[6-8]</td>\n",
       "      <td>[0-0.33]</td>\n",
       "      <td>[6-8]</td>\n",
       "      <td>0</td>\n",
       "      <td>1</td>\n",
       "    </tr>\n",
       "  </tbody>\n",
       "</table>\n",
       "<p>5 rows × 24 columns</p>\n",
       "</div>"
      ],
      "text/plain": [
       "   has_null  wave  gender age d_d_age  samerace d_importance_same_race  \\\n",
       "0         0     1  female  21   [4-6]         0                  [2-5]   \n",
       "1         0     1  female  21   [0-1]         0                  [2-5]   \n",
       "2         1     1  female  21   [0-1]         1                  [2-5]   \n",
       "3         0     1  female  21   [2-3]         0                  [2-5]   \n",
       "4         0     1  female  21   [2-3]         0                  [2-5]   \n",
       "\n",
       "  d_importance_same_religion d_attractive_important d_sincere_important  ...  \\\n",
       "0                      [2-5]                 [0-15]             [16-20]  ...   \n",
       "1                      [2-5]                 [0-15]             [16-20]  ...   \n",
       "2                      [2-5]                 [0-15]             [16-20]  ...   \n",
       "3                      [2-5]                 [0-15]             [16-20]  ...   \n",
       "4                      [2-5]                 [0-15]             [16-20]  ...   \n",
       "\n",
       "  d_attractive_partner d_sincere_partner d_intelligence_partner  \\\n",
       "0                [6-8]            [9-10]                  [6-8]   \n",
       "1                [6-8]             [6-8]                  [6-8]   \n",
       "2                [0-5]             [6-8]                 [9-10]   \n",
       "3                [6-8]             [6-8]                  [6-8]   \n",
       "4                [0-5]             [6-8]                  [6-8]   \n",
       "\n",
       "  d_funny_partner d_ambition_partner d_shared_interests_partner  \\\n",
       "0           [6-8]              [6-8]                      [0-5]   \n",
       "1           [6-8]              [0-5]                      [6-8]   \n",
       "2           [6-8]              [0-5]                      [6-8]   \n",
       "3           [6-8]              [6-8]                      [6-8]   \n",
       "4           [6-8]              [6-8]                      [6-8]   \n",
       "\n",
       "  d_interests_correlate d_like already_met match  \n",
       "0              [0-0.33]  [6-8]           0     0  \n",
       "1              [0.33-1]  [6-8]           1     0  \n",
       "2              [0-0.33]  [6-8]           1     1  \n",
       "3              [0.33-1]  [6-8]           0     1  \n",
       "4              [0-0.33]  [6-8]           0     1  \n",
       "\n",
       "[5 rows x 24 columns]"
      ]
     },
     "execution_count": 22,
     "metadata": {},
     "output_type": "execute_result"
    }
   ],
   "source": [
    "dating.head() #dating.columns ou affichage columns in a whole"
   ]
  },
  {
   "cell_type": "code",
   "execution_count": 23,
   "metadata": {},
   "outputs": [
    {
     "name": "stdout",
     "output_type": "stream",
     "text": [
      "<class 'pandas.core.frame.DataFrame'>\n",
      "Int64Index: 7921 entries, 0 to 8377\n",
      "Data columns (total 24 columns):\n",
      "has_null                        7921 non-null int64\n",
      "wave                            7921 non-null int64\n",
      "gender                          7921 non-null object\n",
      "age                             7921 non-null object\n",
      "d_d_age                         7921 non-null object\n",
      "samerace                        7921 non-null int64\n",
      "d_importance_same_race          7921 non-null object\n",
      "d_importance_same_religion      7921 non-null object\n",
      "d_attractive_important          7921 non-null object\n",
      "d_sincere_important             7921 non-null object\n",
      "d_intelligence_important        7921 non-null object\n",
      "d_funny_important               7921 non-null object\n",
      "d_ambition_important            7921 non-null object\n",
      "d_shared_interests_important    7921 non-null object\n",
      "d_attractive_partner            7921 non-null object\n",
      "d_sincere_partner               7921 non-null object\n",
      "d_intelligence_partner          7921 non-null object\n",
      "d_funny_partner                 7921 non-null object\n",
      "d_ambition_partner              7921 non-null object\n",
      "d_shared_interests_partner      7921 non-null object\n",
      "d_interests_correlate           7921 non-null object\n",
      "d_like                          7921 non-null object\n",
      "already_met                     7921 non-null object\n",
      "match                           7921 non-null int64\n",
      "dtypes: int64(4), object(20)\n",
      "memory usage: 1.5+ MB\n"
     ]
    }
   ],
   "source": [
    "dating.info()"
   ]
  },
  {
   "cell_type": "code",
   "execution_count": 24,
   "metadata": {
    "scrolled": true
   },
   "outputs": [
    {
     "data": {
      "text/plain": [
       "[0-0.33]    2916\n",
       "[0.33-1]    2783\n",
       "[-1-0]      2222\n",
       "Name: d_interests_correlate, dtype: int64"
      ]
     },
     "execution_count": 24,
     "metadata": {},
     "output_type": "execute_result"
    }
   ],
   "source": [
    "dating.d_interests_correlate.value_counts()"
   ]
  },
  {
   "cell_type": "code",
   "execution_count": 25,
   "metadata": {},
   "outputs": [
    {
     "data": {
      "text/plain": [
       "[2-3]     2301\n",
       "[4-6]     2210\n",
       "[0-1]     2137\n",
       "[7-37]    1273\n",
       "Name: d_d_age, dtype: int64"
      ]
     },
     "execution_count": 25,
     "metadata": {},
     "output_type": "execute_result"
    }
   ],
   "source": [
    "dating.d_d_age.value_counts()"
   ]
  },
  {
   "cell_type": "code",
   "execution_count": 26,
   "metadata": {},
   "outputs": [
    {
     "data": {
      "text/plain": [
       "[6-8]     4682\n",
       "[0-5]     2655\n",
       "[9-10]     584\n",
       "Name: d_like, dtype: int64"
      ]
     },
     "execution_count": 26,
     "metadata": {},
     "output_type": "execute_result"
    }
   ],
   "source": [
    "dating.d_like.value_counts()"
   ]
  },
  {
   "cell_type": "code",
   "execution_count": 27,
   "metadata": {
    "scrolled": true
   },
   "outputs": [
    {
     "data": {
      "text/plain": [
       "[6-8]     4388\n",
       "[0-5]     2692\n",
       "[9-10]     841\n",
       "Name: d_attractive_partner, dtype: int64"
      ]
     },
     "execution_count": 27,
     "metadata": {},
     "output_type": "execute_result"
    }
   ],
   "source": [
    "dating.d_attractive_partner.value_counts()"
   ]
  },
  {
   "cell_type": "code",
   "execution_count": 28,
   "metadata": {},
   "outputs": [
    {
     "data": {
      "text/plain": [
       "[6-8]     4513\n",
       "[0-5]     2459\n",
       "[9-10]     949\n",
       "Name: d_funny_partner, dtype: int64"
      ]
     },
     "execution_count": 28,
     "metadata": {},
     "output_type": "execute_result"
    }
   ],
   "source": [
    "dating.d_funny_partner.value_counts()"
   ]
  },
  {
   "cell_type": "code",
   "execution_count": 29,
   "metadata": {},
   "outputs": [
    {
     "data": {
      "text/plain": [
       "dtype('int64')"
      ]
     },
     "execution_count": 29,
     "metadata": {},
     "output_type": "execute_result"
    }
   ],
   "source": [
    "dating['age']=pd.to_numeric(dating['age'])\n",
    "dating.age.dtypes"
   ]
  },
  {
   "cell_type": "code",
   "execution_count": 30,
   "metadata": {},
   "outputs": [
    {
     "data": {
      "text/plain": [
       "<matplotlib.axes._subplots.AxesSubplot at 0x2e385800388>"
      ]
     },
     "execution_count": 30,
     "metadata": {},
     "output_type": "execute_result"
    },
    {
     "data": {
      "image/png": "[encoded data removed]",
      "text/plain": [
       "<Figure size 720x576 with 1 Axes>"
      ]
     },
     "metadata": {
      "needs_background": "light"
     },
     "output_type": "display_data"
    }
   ],
   "source": [
    "dating['age'].hist(bins=35, color = 'y', figsize=(10, 8))"
   ]
  },
  {
   "cell_type": "code",
   "execution_count": 31,
   "metadata": {},
   "outputs": [
    {
     "data": {
      "text/plain": [
       "dtype('int64')"
      ]
     },
     "execution_count": 31,
     "metadata": {},
     "output_type": "execute_result"
    }
   ],
   "source": [
    "dating['already_met']=pd.to_numeric(dating['already_met'])\n",
    "dating.already_met.dtypes"
   ]
  },
  {
   "cell_type": "code",
   "execution_count": 32,
   "metadata": {},
   "outputs": [],
   "source": [
    "# I label values in order to normalize the ranking values, convert to integer, on a scale of 10"
   ]
  },
  {
   "cell_type": "code",
   "execution_count": 33,
   "metadata": {},
   "outputs": [],
   "source": [
    "age_scale = {'[0-1]': int(0), '[2-3]': int(2), '[4-6]': int(5), '[7-37]': 7} #d_d_age column"
   ]
  },
  {
   "cell_type": "code",
   "execution_count": 34,
   "metadata": {},
   "outputs": [],
   "source": [
    "importance = {'[0-1]': int(0), '[2-5]': int(5), '[6-10]': int(10)} #d_importance_same_race, d_importance_same_religion\n",
    "dating['d_importance_same_race'] = dating['d_importance_same_race'].map(importance)\n",
    "dating['d_importance_same_religion'] = dating['d_importance_same_religion'].map(importance)"
   ]
  },
  {
   "cell_type": "code",
   "execution_count": 35,
   "metadata": {},
   "outputs": [],
   "source": [
    "rate = {'[0-5]': 3, '[6-8]' : 7, '[9-10]': 10}\n",
    "rating_cols = ['d_like', 'd_attractive_partner', 'd_sincere_partner', \n",
    "               'd_intelligence_partner', 'd_funny_partner', 'd_ambition_partner', 'd_shared_interests_partner']\n",
    "for col in rating_cols:\n",
    "        dating[col] = dating[col].map(rate)"
   ]
  },
  {
   "cell_type": "code",
   "execution_count": 36,
   "metadata": {},
   "outputs": [],
   "source": [
    "criteria ={'[0-15]':0, '[16-20]': 2, '[21-100]': 8}       \n",
    "crit_cols = ['d_attractive_important', 'd_sincere_important', 'd_intelligence_important', \n",
    "             'd_funny_important', 'd_ambition_important', 'd_shared_interests_important']\n",
    "for col in crit_cols:\n",
    "        dating[col] = dating[col].map(criteria)"
   ]
  },
  {
   "cell_type": "code",
   "execution_count": 37,
   "metadata": {},
   "outputs": [],
   "source": [
    "correlate ={'[-1-0]':int(0), '[0-0.33]':int(3), '[0.33-1]':int(8)} #d_interests_correlate\n",
    "dating['d_interests_correlate'] = dating['d_interests_correlate'].map(correlate)   "
   ]
  },
  {
   "cell_type": "code",
   "execution_count": 38,
   "metadata": {
    "scrolled": true
   },
   "outputs": [
    {
     "data": {
      "text/plain": [
       "has_null                         int64\n",
       "wave                             int64\n",
       "gender                          object\n",
       "age                              int64\n",
       "d_d_age                         object\n",
       "samerace                         int64\n",
       "d_importance_same_race           int64\n",
       "d_importance_same_religion       int64\n",
       "d_attractive_important           int64\n",
       "d_sincere_important              int64\n",
       "d_intelligence_important         int64\n",
       "d_funny_important                int64\n",
       "d_ambition_important             int64\n",
       "d_shared_interests_important     int64\n",
       "d_attractive_partner             int64\n",
       "d_sincere_partner                int64\n",
       "d_intelligence_partner           int64\n",
       "d_funny_partner                  int64\n",
       "d_ambition_partner               int64\n",
       "d_shared_interests_partner       int64\n",
       "d_interests_correlate            int64\n",
       "d_like                           int64\n",
       "already_met                      int64\n",
       "match                            int64\n",
       "dtype: object"
      ]
     },
     "execution_count": 38,
     "metadata": {},
     "output_type": "execute_result"
    }
   ],
   "source": [
    "dating.dtypes"
   ]
  },
  {
   "cell_type": "code",
   "execution_count": 39,
   "metadata": {},
   "outputs": [],
   "source": [
    "# I prepare the dataset"
   ]
  },
  {
   "cell_type": "code",
   "execution_count": 40,
   "metadata": {},
   "outputs": [],
   "source": [
    "x_columns = [col for col in dating.columns.values if col != \"match\"]\n",
    "dating_variables = dating[x_columns]\n",
    "dating_y = dating[\"match\"] # target"
   ]
  },
  {
   "cell_type": "code",
   "execution_count": 41,
   "metadata": {
    "scrolled": true
   },
   "outputs": [
    {
     "data": {
      "text/html": [
       "<div>\n",
       "<style scoped>\n",
       "    .dataframe tbody tr th:only-of-type {\n",
       "        vertical-align: middle;\n",
       "    }\n",
       "\n",
       "    .dataframe tbody tr th {\n",
       "        vertical-align: top;\n",
       "    }\n",
       "\n",
       "    .dataframe thead th {\n",
       "        text-align: right;\n",
       "    }\n",
       "</style>\n",
       "<table border=\"1\" class=\"dataframe\">\n",
       "  <thead>\n",
       "    <tr style=\"text-align: right;\">\n",
       "      <th></th>\n",
       "      <th>has_null</th>\n",
       "      <th>wave</th>\n",
       "      <th>age</th>\n",
       "      <th>samerace</th>\n",
       "      <th>d_importance_same_race</th>\n",
       "      <th>d_importance_same_religion</th>\n",
       "      <th>d_attractive_important</th>\n",
       "      <th>d_sincere_important</th>\n",
       "      <th>d_intelligence_important</th>\n",
       "      <th>d_funny_important</th>\n",
       "      <th>...</th>\n",
       "      <th>d_funny_partner</th>\n",
       "      <th>d_ambition_partner</th>\n",
       "      <th>d_shared_interests_partner</th>\n",
       "      <th>d_interests_correlate</th>\n",
       "      <th>d_like</th>\n",
       "      <th>already_met</th>\n",
       "      <th>gender_male</th>\n",
       "      <th>d_d_age_[2-3]</th>\n",
       "      <th>d_d_age_[4-6]</th>\n",
       "      <th>d_d_age_[7-37]</th>\n",
       "    </tr>\n",
       "  </thead>\n",
       "  <tbody>\n",
       "    <tr>\n",
       "      <th>0</th>\n",
       "      <td>0</td>\n",
       "      <td>1</td>\n",
       "      <td>21</td>\n",
       "      <td>0</td>\n",
       "      <td>5</td>\n",
       "      <td>5</td>\n",
       "      <td>0</td>\n",
       "      <td>2</td>\n",
       "      <td>2</td>\n",
       "      <td>0</td>\n",
       "      <td>...</td>\n",
       "      <td>7</td>\n",
       "      <td>7</td>\n",
       "      <td>3</td>\n",
       "      <td>3</td>\n",
       "      <td>7</td>\n",
       "      <td>0</td>\n",
       "      <td>0</td>\n",
       "      <td>0</td>\n",
       "      <td>1</td>\n",
       "      <td>0</td>\n",
       "    </tr>\n",
       "    <tr>\n",
       "      <th>1</th>\n",
       "      <td>0</td>\n",
       "      <td>1</td>\n",
       "      <td>21</td>\n",
       "      <td>0</td>\n",
       "      <td>5</td>\n",
       "      <td>5</td>\n",
       "      <td>0</td>\n",
       "      <td>2</td>\n",
       "      <td>2</td>\n",
       "      <td>0</td>\n",
       "      <td>...</td>\n",
       "      <td>7</td>\n",
       "      <td>3</td>\n",
       "      <td>7</td>\n",
       "      <td>8</td>\n",
       "      <td>7</td>\n",
       "      <td>1</td>\n",
       "      <td>0</td>\n",
       "      <td>0</td>\n",
       "      <td>0</td>\n",
       "      <td>0</td>\n",
       "    </tr>\n",
       "    <tr>\n",
       "      <th>2</th>\n",
       "      <td>1</td>\n",
       "      <td>1</td>\n",
       "      <td>21</td>\n",
       "      <td>1</td>\n",
       "      <td>5</td>\n",
       "      <td>5</td>\n",
       "      <td>0</td>\n",
       "      <td>2</td>\n",
       "      <td>2</td>\n",
       "      <td>0</td>\n",
       "      <td>...</td>\n",
       "      <td>7</td>\n",
       "      <td>3</td>\n",
       "      <td>7</td>\n",
       "      <td>3</td>\n",
       "      <td>7</td>\n",
       "      <td>1</td>\n",
       "      <td>0</td>\n",
       "      <td>0</td>\n",
       "      <td>0</td>\n",
       "      <td>0</td>\n",
       "    </tr>\n",
       "    <tr>\n",
       "      <th>3</th>\n",
       "      <td>0</td>\n",
       "      <td>1</td>\n",
       "      <td>21</td>\n",
       "      <td>0</td>\n",
       "      <td>5</td>\n",
       "      <td>5</td>\n",
       "      <td>0</td>\n",
       "      <td>2</td>\n",
       "      <td>2</td>\n",
       "      <td>0</td>\n",
       "      <td>...</td>\n",
       "      <td>7</td>\n",
       "      <td>7</td>\n",
       "      <td>7</td>\n",
       "      <td>8</td>\n",
       "      <td>7</td>\n",
       "      <td>0</td>\n",
       "      <td>0</td>\n",
       "      <td>1</td>\n",
       "      <td>0</td>\n",
       "      <td>0</td>\n",
       "    </tr>\n",
       "    <tr>\n",
       "      <th>4</th>\n",
       "      <td>0</td>\n",
       "      <td>1</td>\n",
       "      <td>21</td>\n",
       "      <td>0</td>\n",
       "      <td>5</td>\n",
       "      <td>5</td>\n",
       "      <td>0</td>\n",
       "      <td>2</td>\n",
       "      <td>2</td>\n",
       "      <td>0</td>\n",
       "      <td>...</td>\n",
       "      <td>7</td>\n",
       "      <td>7</td>\n",
       "      <td>7</td>\n",
       "      <td>3</td>\n",
       "      <td>7</td>\n",
       "      <td>0</td>\n",
       "      <td>0</td>\n",
       "      <td>1</td>\n",
       "      <td>0</td>\n",
       "      <td>0</td>\n",
       "    </tr>\n",
       "  </tbody>\n",
       "</table>\n",
       "<p>5 rows × 25 columns</p>\n",
       "</div>"
      ],
      "text/plain": [
       "   has_null  wave  age  samerace  d_importance_same_race  \\\n",
       "0         0     1   21         0                       5   \n",
       "1         0     1   21         0                       5   \n",
       "2         1     1   21         1                       5   \n",
       "3         0     1   21         0                       5   \n",
       "4         0     1   21         0                       5   \n",
       "\n",
       "   d_importance_same_religion  d_attractive_important  d_sincere_important  \\\n",
       "0                           5                       0                    2   \n",
       "1                           5                       0                    2   \n",
       "2                           5                       0                    2   \n",
       "3                           5                       0                    2   \n",
       "4                           5                       0                    2   \n",
       "\n",
       "   d_intelligence_important  d_funny_important  ...  d_funny_partner  \\\n",
       "0                         2                  0  ...                7   \n",
       "1                         2                  0  ...                7   \n",
       "2                         2                  0  ...                7   \n",
       "3                         2                  0  ...                7   \n",
       "4                         2                  0  ...                7   \n",
       "\n",
       "   d_ambition_partner  d_shared_interests_partner  d_interests_correlate  \\\n",
       "0                   7                           3                      3   \n",
       "1                   3                           7                      8   \n",
       "2                   3                           7                      3   \n",
       "3                   7                           7                      8   \n",
       "4                   7                           7                      3   \n",
       "\n",
       "   d_like  already_met  gender_male  d_d_age_[2-3]  d_d_age_[4-6]  \\\n",
       "0       7            0            0              0              1   \n",
       "1       7            1            0              0              0   \n",
       "2       7            1            0              0              0   \n",
       "3       7            0            0              1              0   \n",
       "4       7            0            0              1              0   \n",
       "\n",
       "   d_d_age_[7-37]  \n",
       "0               0  \n",
       "1               0  \n",
       "2               0  \n",
       "3               0  \n",
       "4               0  \n",
       "\n",
       "[5 rows x 25 columns]"
      ]
     },
     "execution_count": 41,
     "metadata": {},
     "output_type": "execute_result"
    }
   ],
   "source": [
    "dating_x = pd.get_dummies(data=dating_variables, columns=['gender', 'd_d_age'], drop_first= True)\n",
    "dating_x.head()"
   ]
  },
  {
   "cell_type": "code",
   "execution_count": 42,
   "metadata": {},
   "outputs": [
    {
     "data": {
      "text/plain": [
       "1    3974\n",
       "0    3947\n",
       "Name: gender_male, dtype: int64"
      ]
     },
     "execution_count": 42,
     "metadata": {},
     "output_type": "execute_result"
    }
   ],
   "source": [
    "dating_x.gender_male.value_counts()"
   ]
  },
  {
   "cell_type": "code",
   "execution_count": 43,
   "metadata": {
    "scrolled": true
   },
   "outputs": [],
   "source": [
    "# I only keep one feature regarding the gender to avoid multi-colinearity"
   ]
  },
  {
   "cell_type": "code",
   "execution_count": 44,
   "metadata": {},
   "outputs": [
    {
     "data": {
      "text/plain": [
       "(7921, 24)"
      ]
     },
     "execution_count": 44,
     "metadata": {},
     "output_type": "execute_result"
    }
   ],
   "source": [
    "dating.shape"
   ]
  },
  {
   "cell_type": "markdown",
   "metadata": {},
   "source": [
    "# 2. Performing Supervised Learning on the Dataset¶"
   ]
  },
  {
   "cell_type": "code",
   "execution_count": 45,
   "metadata": {},
   "outputs": [],
   "source": [
    "# I split the dataset\n",
    "\n",
    "from sklearn.model_selection import train_test_split\n",
    "\n",
    "X_train, X_test, y_train, y_test = train_test_split(dating_x, dating_y, test_size=0.2)"
   ]
  },
  {
   "cell_type": "code",
   "execution_count": 46,
   "metadata": {},
   "outputs": [],
   "source": [
    "# I can cross validate the models but as far I don't master each of them I'd rather perform each model on the dataset"
   ]
  },
  {
   "cell_type": "markdown",
   "metadata": {},
   "source": [
    "# The logistic regression model"
   ]
  },
  {
   "cell_type": "code",
   "execution_count": 47,
   "metadata": {
    "scrolled": true
   },
   "outputs": [],
   "source": [
    "# Testing on logistic regression model & obtaining quality metrics\n",
    "from sklearn.linear_model import LogisticRegression\n",
    "from sklearn.metrics import confusion_matrix\n",
    "from sklearn.metrics import precision_recall_fscore_support\n",
    "from sklearn.model_selection import cross_val_score\n",
    "from sklearn.metrics import balanced_accuracy_score\n",
    "\n",
    "# Init\n",
    "dating_log = LogisticRegression()\n",
    "#cross_log = cross_val_score(dating_log, X_train, y_train, cv = 5)"
   ]
  },
  {
   "cell_type": "code",
   "execution_count": 48,
   "metadata": {
    "scrolled": true
   },
   "outputs": [
    {
     "name": "stderr",
     "output_type": "stream",
     "text": [
      "C:\\Users\\morga\\Anaconda3\\lib\\site-packages\\sklearn\\linear_model\\logistic.py:432: FutureWarning: Default solver will be changed to 'lbfgs' in 0.22. Specify a solver to silence this warning.\n",
      "  FutureWarning)\n",
      "C:\\Users\\morga\\Anaconda3\\lib\\site-packages\\sklearn\\linear_model\\logistic.py:432: FutureWarning: Default solver will be changed to 'lbfgs' in 0.22. Specify a solver to silence this warning.\n",
      "  FutureWarning)\n"
     ]
    },
    {
     "name": "stdout",
     "output_type": "stream",
     "text": [
      "Stats sur le train\n"
     ]
    },
    {
     "data": {
      "text/plain": [
       "(array([0.84397394, 0.43367347]),\n",
       " array([0.97902891, 0.08149569]),\n",
       " array([0.90649873, 0.13720743]),\n",
       " array([5293, 1043], dtype=int64))"
      ]
     },
     "execution_count": 48,
     "metadata": {},
     "output_type": "execute_result"
    }
   ],
   "source": [
    "dating_log.fit(X_train, y_train)\n",
    "\n",
    "# J'entraine\n",
    "dating_log.fit(X_train, y_train)\n",
    "\n",
    "# Je prédis sur le train\n",
    "y_pred_train = dating_log.predict(X_train)\n",
    "\n",
    "# Je regarde les métriques sur le train\n",
    "print(\"Stats sur le train\")\n",
    "precision_recall_fscore_support(y_train, y_pred_train, beta=1.0, \n",
    "                                 labels=None, pos_label=1, average=None, \n",
    "                                 warn_for=(\"precision\", \"recall\", \"f-score\"), sample_weight=None)"
   ]
  },
  {
   "cell_type": "code",
   "execution_count": 49,
   "metadata": {},
   "outputs": [
    {
     "name": "stdout",
     "output_type": "stream",
     "text": [
      "Confusion Matrix on 'logistic regression' train set\n",
      "[[5182  111]\n",
      " [ 958   85]]\n",
      "Stats sur le test\n"
     ]
    },
    {
     "data": {
      "text/plain": [
       "(array([0.83213586, 0.55555556]),\n",
       " array([0.98151002, 0.10452962]),\n",
       " array([0.90067162, 0.17595308]),\n",
       " array([1298,  287], dtype=int64))"
      ]
     },
     "execution_count": 49,
     "metadata": {},
     "output_type": "execute_result"
    }
   ],
   "source": [
    "train_log_conf = confusion_matrix(y_train, y_pred_train)\n",
    "print(\"Confusion Matrix on 'logistic regression' train set\")\n",
    "print(train_log_conf)\n",
    "\n",
    "# Je prédis sur le test\n",
    "y_pred_test = dating_log.predict(X_test)\n",
    "\n",
    "# Je regarde les métriques sur le test\n",
    "print(\"Stats sur le test\")\n",
    "precision_recall_fscore_support(y_test, y_pred_test, beta=1.0, \n",
    "                                 labels=None, pos_label=1, average=None, \n",
    "                                 warn_for=(\"precision\", \"recall\", \"f-score\"), sample_weight=None)"
   ]
  },
  {
   "cell_type": "code",
   "execution_count": 50,
   "metadata": {
    "scrolled": false
   },
   "outputs": [
    {
     "name": "stdout",
     "output_type": "stream",
     "text": [
      "Confusion Matrix on 'logistic regression' test set\n",
      "[[1274   24]\n",
      " [ 257   30]]\n"
     ]
    }
   ],
   "source": [
    "test_log_conf = confusion_matrix(y_test, y_pred_test)\n",
    "print(\"Confusion Matrix on 'logistic regression' test set\")\n",
    "print(test_log_conf)"
   ]
  },
  {
   "cell_type": "code",
   "execution_count": 51,
   "metadata": {},
   "outputs": [],
   "source": [
    "Log_conf = train_log_conf / len(X_train) * 100"
   ]
  },
  {
   "cell_type": "code",
   "execution_count": 52,
   "metadata": {},
   "outputs": [],
   "source": [
    "#The first entry in our matrix is the number of observations correctly classified as 0 (or failure). \n",
    "#The second entry in the matrix are all entries incorrectly classified as 1 (or success). \n",
    "#The third entry contains the count of all observations incorrectly classified as zero (or failure). \n",
    "#The last entry contains the count of observations correctly classified as 1. \n",
    "#Our goal is to maximize the first and last entries (the correctly classified observations) and minimize the incorrectly classified information. \n",
    "#As we can see, out of 1585 observations, 1329 (or 83,8%) are correctly classified."
   ]
  },
  {
   "cell_type": "markdown",
   "metadata": {},
   "source": [
    "# The random forest classifier model"
   ]
  },
  {
   "cell_type": "code",
   "execution_count": 53,
   "metadata": {
    "scrolled": true
   },
   "outputs": [],
   "source": [
    "from sklearn.ensemble import RandomForestClassifier\n",
    "\n",
    "# Init\n",
    "dating_rf = RandomForestClassifier()\n",
    "#cross_rf = cross_val_score(dating_rf, X_train, y_train, cv = 5)"
   ]
  },
  {
   "cell_type": "code",
   "execution_count": 54,
   "metadata": {
    "scrolled": false
   },
   "outputs": [
    {
     "name": "stdout",
     "output_type": "stream",
     "text": [
      "Stats sur le train\n"
     ]
    },
    {
     "name": "stderr",
     "output_type": "stream",
     "text": [
      "C:\\Users\\morga\\Anaconda3\\lib\\site-packages\\sklearn\\ensemble\\forest.py:245: FutureWarning: The default value of n_estimators will change from 10 in version 0.20 to 100 in 0.22.\n",
      "  \"10 in version 0.20 to 100 in 0.22.\", FutureWarning)\n"
     ]
    },
    {
     "data": {
      "text/plain": [
       "(array([0.97847866, 0.97991543]),\n",
       " array([0.99641035, 0.88878236]),\n",
       " array([0.9873631, 0.9321267]),\n",
       " array([5293, 1043], dtype=int64))"
      ]
     },
     "execution_count": 54,
     "metadata": {},
     "output_type": "execute_result"
    }
   ],
   "source": [
    "# J'entraine\n",
    "dating_rf = dating_rf.fit(X_train, y_train)\n",
    "\n",
    "# Je prédis sur le train\n",
    "y_pred_train = dating_rf.predict(X_train)\n",
    "\n",
    "# Je regarde les métriques sur le train\n",
    "print(\"Stats sur le train\")\n",
    "precision_recall_fscore_support(y_train, y_pred_train, beta=1.0, \n",
    "                                 labels=None, pos_label=1, average=None, \n",
    "                                 warn_for=(\"precision\", \"recall\", \"f-score\"), sample_weight=None)"
   ]
  },
  {
   "cell_type": "code",
   "execution_count": 55,
   "metadata": {},
   "outputs": [
    {
     "name": "stdout",
     "output_type": "stream",
     "text": [
      "The train RF precision score is 0.9799154334038055\n",
      "The train RF recall score is 0.8887823585810163\n"
     ]
    }
   ],
   "source": [
    "from sklearn.metrics import precision_score, recall_score\n",
    "\n",
    "rf_precision = precision_score(y_train, y_pred_train)\n",
    "rf_recall = recall_score(y_train, y_pred_train)\n",
    "\n",
    "print('The train RF precision score is', rf_precision)\n",
    "print('The train RF recall score is', rf_recall)"
   ]
  },
  {
   "cell_type": "code",
   "execution_count": 56,
   "metadata": {
    "scrolled": true
   },
   "outputs": [
    {
     "name": "stdout",
     "output_type": "stream",
     "text": [
      "Confusion Matrix on 'random forest' train set\n",
      "[[5274   19]\n",
      " [ 116  927]]\n",
      "Stats sur le test\n"
     ]
    },
    {
     "data": {
      "text/plain": [
       "(array([0.84232082, 0.46666667]),\n",
       " array([0.95069337, 0.19512195]),\n",
       " array([0.89323199, 0.27518428]),\n",
       " array([1298,  287], dtype=int64))"
      ]
     },
     "execution_count": 56,
     "metadata": {},
     "output_type": "execute_result"
    }
   ],
   "source": [
    "train_rf_conf = confusion_matrix(y_train, y_pred_train)\n",
    "print(\"Confusion Matrix on 'random forest' train set\")\n",
    "print(train_rf_conf)\n",
    "\n",
    "\n",
    "# Je prédis sur le test\n",
    "y_pred_test = dating_rf.predict(X_test)\n",
    "\n",
    "# Je regarde les métriques sur le test\n",
    "print(\"Stats sur le test\")\n",
    "precision_recall_fscore_support(y_test, y_pred_test, beta=1.0, \n",
    "                                 labels=None, pos_label=1, average=None, \n",
    "                                 warn_for=(\"precision\", \"recall\", \"f-score\"), sample_weight=None)"
   ]
  },
  {
   "cell_type": "code",
   "execution_count": 57,
   "metadata": {},
   "outputs": [
    {
     "name": "stdout",
     "output_type": "stream",
     "text": [
      "The test RF precision score is 0.4666666666666667\n",
      "The test RF recall score is 0.1951219512195122\n"
     ]
    }
   ],
   "source": [
    "rf_precision = precision_score(y_test, y_pred_test)\n",
    "rf_recall = recall_score(y_test, y_pred_test)\n",
    "\n",
    "print('The test RF precision score is', rf_precision)\n",
    "print('The test RF recall score is', rf_recall)"
   ]
  },
  {
   "cell_type": "code",
   "execution_count": 58,
   "metadata": {
    "scrolled": true
   },
   "outputs": [
    {
     "name": "stdout",
     "output_type": "stream",
     "text": [
      "Confusion Matrix on 'random forest' test set\n",
      "[[1234   64]\n",
      " [ 231   56]]\n"
     ]
    }
   ],
   "source": [
    "test_rf_conf = confusion_matrix(y_test, y_pred_test)\n",
    "print(\"Confusion Matrix on 'random forest' test set\")\n",
    "print(test_rf_conf)"
   ]
  },
  {
   "cell_type": "code",
   "execution_count": 59,
   "metadata": {},
   "outputs": [],
   "source": [
    "RF_conf = train_rf_conf / len(X_train) * 100"
   ]
  },
  {
   "cell_type": "code",
   "execution_count": 60,
   "metadata": {},
   "outputs": [
    {
     "data": {
      "text/plain": [
       "(array([0.84232082, 0.46666667]),\n",
       " array([0.95069337, 0.19512195]),\n",
       " array([0.89323199, 0.27518428]),\n",
       " array([1298,  287], dtype=int64))"
      ]
     },
     "execution_count": 60,
     "metadata": {},
     "output_type": "execute_result"
    }
   ],
   "source": [
    "precision_recall_fscore_support(y_test, y_pred_test, beta=1.0, \n",
    "                                 labels=None, pos_label=1, average=None, \n",
    "                                 warn_for=(\"precision\", \"recall\", \"f-score\"), sample_weight=None)\n"
   ]
  },
  {
   "cell_type": "code",
   "execution_count": 61,
   "metadata": {},
   "outputs": [],
   "source": [
    "#As we can see, out of 1585 observations, 1310 (or 82,6 %) are correctly classified."
   ]
  },
  {
   "cell_type": "markdown",
   "metadata": {},
   "source": [
    "# The Kneighbors classifier model"
   ]
  },
  {
   "cell_type": "code",
   "execution_count": 65,
   "metadata": {},
   "outputs": [],
   "source": [
    "from sklearn.neighbors import KNeighborsClassifier\n",
    "\n",
    "# Init\n",
    "dating_KN = KNeighborsClassifier(n_neighbors=5) \n",
    "cross_KN = cross_val_score(dating_KN, X_train, y_train, cv = 5)"
   ]
  },
  {
   "cell_type": "code",
   "execution_count": 66,
   "metadata": {},
   "outputs": [
    {
     "data": {
      "text/plain": [
       "array([0.82807571, 0.82176656, 0.84148265, 0.81832543, 0.81990521])"
      ]
     },
     "execution_count": 66,
     "metadata": {},
     "output_type": "execute_result"
    }
   ],
   "source": [
    "cross_KN"
   ]
  },
  {
   "cell_type": "code",
   "execution_count": 67,
   "metadata": {},
   "outputs": [
    {
     "name": "stdout",
     "output_type": "stream",
     "text": [
      "Metrics on the train\n",
      "(array([0.88534483, 0.70522388]), array([0.97014925, 0.36241611]), array([0.92580907, 0.47878404]), array([5293, 1043], dtype=int64))\n",
      "Confusion Matrix on 'Kneighbors' train set\n",
      "[[5135  158]\n",
      " [ 665  378]]\n",
      "Stats sur le test\n",
      "(array([0.8449235 , 0.43537415]), array([0.93605547, 0.22299652]), array([0.88815789, 0.29493088]), array([1298,  287], dtype=int64))\n",
      "Confusion Matrix on 'Kneighbors' test set\n",
      "[[1215   83]\n",
      " [ 223   64]]\n"
     ]
    }
   ],
   "source": [
    "# J'entraine\n",
    "dating_KN.fit(X_train, y_train) \n",
    "\n",
    "# Je prédis sur le train\n",
    "y_pred_train = dating_KN.predict(X_train)\n",
    "\n",
    "# Je regarde les métriques sur le train\n",
    "print(\"Metrics on the train\")\n",
    "print(precision_recall_fscore_support(y_train, y_pred_train, beta=1.0, \n",
    "                                 labels=None, pos_label=1, average=None, \n",
    "                                 warn_for=(\"precision\", \"recall\", \"f-score\"), sample_weight=None))\n",
    "\n",
    "train_KN_conf = confusion_matrix(y_train, y_pred_train)#/ len(X_train) * 100\n",
    "print(\"Confusion Matrix on 'Kneighbors' train set\")\n",
    "print(train_KN_conf)\n",
    "\n",
    "# Je prédis sur le test\n",
    "y_pred_test = dating_KN.predict(X_test)\n",
    "\n",
    "# Je regarde les métriques sur le test\n",
    "print(\"Stats sur le test\")\n",
    "print(precision_recall_fscore_support(y_test, y_pred_test, beta=1.0, \n",
    "                                 labels=None, pos_label=1, average=None, \n",
    "                                 warn_for=(\"precision\", \"recall\", \"f-score\"), sample_weight=None))\n",
    "\n",
    "test_KN_conf = confusion_matrix(y_test, y_pred_test)#/ len(X_test) * 100\n",
    "print(\"Confusion Matrix on 'Kneighbors' test set\")\n",
    "print(test_KN_conf)"
   ]
  },
  {
   "cell_type": "code",
   "execution_count": 68,
   "metadata": {},
   "outputs": [],
   "source": [
    "KN_conf = train_KN_conf / len(X_train) * 100"
   ]
  },
  {
   "cell_type": "markdown",
   "metadata": {},
   "source": [
    "# 3. Choosing & deploying the model"
   ]
  },
  {
   "cell_type": "markdown",
   "metadata": {},
   "source": [
    "# Displaying a heatmap on each confusion matrix"
   ]
  },
  {
   "cell_type": "code",
   "execution_count": 69,
   "metadata": {},
   "outputs": [
    {
     "data": {
      "image/png": "[encoded data removed]",
      "text/plain": [
       "<Figure size 396x288 with 2 Axes>"
      ]
     },
     "metadata": {
      "needs_background": "light"
     },
     "output_type": "display_data"
    }
   ],
   "source": [
    "# I plot the confusion matrix of the train set on Logistic regression model\n",
    "\n",
    "cm_df = pd.DataFrame(Log_conf,\n",
    "                     index = ['not match','match'], \n",
    "                     columns = ['not match','match'])\n",
    "\n",
    "plt.figure(figsize=(5.5,4))\n",
    "sns.heatmap(cm_df, cmap = 'Spectral', annot=True)\n",
    "plt.title('Logistic regression ')\n",
    "plt.ylabel('True label')\n",
    "plt.xlabel('Predicted label')\n",
    "plt.show()"
   ]
  },
  {
   "cell_type": "code",
   "execution_count": 70,
   "metadata": {},
   "outputs": [
    {
     "data": {
      "text/plain": [
       "array([[81.78661616,  1.75189394],\n",
       "       [15.11994949,  1.3415404 ]])"
      ]
     },
     "execution_count": 70,
     "metadata": {},
     "output_type": "execute_result"
    }
   ],
   "source": [
    "Log_conf"
   ]
  },
  {
   "cell_type": "code",
   "execution_count": 71,
   "metadata": {
    "scrolled": true
   },
   "outputs": [
    {
     "data": {
      "image/png": "[encoded data removed]",
      "text/plain": [
       "<Figure size 396x288 with 2 Axes>"
      ]
     },
     "metadata": {
      "needs_background": "light"
     },
     "output_type": "display_data"
    }
   ],
   "source": [
    "# I plot the confusion matrix of the train set on random forest classifier model\n",
    "\n",
    "cm_df = pd.DataFrame(RF_conf,\n",
    "                     index = ['not match','match'], \n",
    "                     columns = ['not match','match'])\n",
    "\n",
    "plt.figure(figsize=(5.5,4))\n",
    "sns.heatmap(cm_df, cmap = 'Spectral', annot = True)\n",
    "plt.title('Random Forest Classifier')\n",
    "plt.ylabel('True label')\n",
    "plt.xlabel('Predicted label')\n",
    "plt.show()"
   ]
  },
  {
   "cell_type": "code",
   "execution_count": 72,
   "metadata": {},
   "outputs": [
    {
     "data": {
      "text/plain": [
       "array([[83.23863636,  0.29987374],\n",
       "       [ 1.83080808, 14.63068182]])"
      ]
     },
     "execution_count": 72,
     "metadata": {},
     "output_type": "execute_result"
    }
   ],
   "source": [
    "RF_conf"
   ]
  },
  {
   "cell_type": "code",
   "execution_count": 73,
   "metadata": {
    "scrolled": true
   },
   "outputs": [
    {
     "data": {
      "image/png": "[encoded data removed]",
      "text/plain": [
       "<Figure size 396x288 with 2 Axes>"
      ]
     },
     "metadata": {
      "needs_background": "light"
     },
     "output_type": "display_data"
    }
   ],
   "source": [
    "# I plot the confusion matrix of the train set on Kneighbour classifier model\n",
    "\n",
    "cm_df = pd.DataFrame(KN_conf,\n",
    "                     index = ['not match','match'], \n",
    "                     columns = ['not match','match'])\n",
    "\n",
    "plt.figure(figsize=(5.5,4))\n",
    "sns.heatmap(cm_df, cmap = 'Spectral', annot=True)\n",
    "plt.title('Kneighour Classifier')\n",
    "plt.ylabel('True label')\n",
    "plt.xlabel('Predicted label')\n",
    "plt.show()"
   ]
  },
  {
   "cell_type": "code",
   "execution_count": 74,
   "metadata": {
    "scrolled": true
   },
   "outputs": [
    {
     "data": {
      "text/plain": [
       "array([[81.04482323,  2.49368687],\n",
       "       [10.49558081,  5.96590909]])"
      ]
     },
     "execution_count": 74,
     "metadata": {},
     "output_type": "execute_result"
    }
   ],
   "source": [
    "KN_conf"
   ]
  },
  {
   "cell_type": "markdown",
   "metadata": {},
   "source": [
    "# Further to the presentation to teacher, I tried to process modeling with a modified dataset"
   ]
  },
  {
   "cell_type": "code",
   "execution_count": 75,
   "metadata": {},
   "outputs": [],
   "source": [
    "#Deleting 2 more features in the dataset -has_null & wave-"
   ]
  },
  {
   "cell_type": "code",
   "execution_count": 76,
   "metadata": {},
   "outputs": [],
   "source": [
    "new_dating = dating.drop(columns=['has_null', 'wave'])"
   ]
  },
  {
   "cell_type": "code",
   "execution_count": 77,
   "metadata": {},
   "outputs": [],
   "source": [
    "new_x_columns = [col for col in new_dating.columns.values if col != \"match\"]\n",
    "new_dating_variables = new_dating[new_x_columns]\n",
    "new_dating_y = new_dating[\"match\"] # target"
   ]
  },
  {
   "cell_type": "code",
   "execution_count": 78,
   "metadata": {},
   "outputs": [],
   "source": [
    "new_dating_x = pd.get_dummies(data=new_dating_variables, columns=['gender', 'd_d_age'], drop_first= True)"
   ]
  },
  {
   "cell_type": "code",
   "execution_count": 79,
   "metadata": {},
   "outputs": [],
   "source": [
    "X_train, X_test, y_train, y_test = train_test_split(new_dating_x, new_dating_y, test_size=0.2)"
   ]
  },
  {
   "cell_type": "code",
   "execution_count": 80,
   "metadata": {},
   "outputs": [],
   "source": [
    "new_dating_log = LogisticRegression() "
   ]
  },
  {
   "cell_type": "code",
   "execution_count": 81,
   "metadata": {
    "scrolled": true
   },
   "outputs": [
    {
     "name": "stderr",
     "output_type": "stream",
     "text": [
      "C:\\Users\\morga\\Anaconda3\\lib\\site-packages\\sklearn\\linear_model\\logistic.py:432: FutureWarning: Default solver will be changed to 'lbfgs' in 0.22. Specify a solver to silence this warning.\n",
      "  FutureWarning)\n"
     ]
    },
    {
     "name": "stdout",
     "output_type": "stream",
     "text": [
      "Metrics on the train\n",
      "(array([0.84639344, 0.48728814]), array([0.97710068, 0.10931559]), array([0.90706254, 0.17857143]), array([5284, 1052], dtype=int64))\n",
      "Confusion Matrix on 'Log Regression' train set\n",
      "[[5163  121]\n",
      " [ 937  115]]\n",
      "Stats sur le test\n",
      "(array([0.83278903, 0.40740741]), array([0.97551645, 0.07913669]), array([0.89852008, 0.13253012]), array([1307,  278], dtype=int64))\n",
      "Confusion Matrix on 'Log Regression' test set\n",
      "[[1275   32]\n",
      " [ 256   22]]\n"
     ]
    }
   ],
   "source": [
    "# J'entraine\n",
    "new_dating_log.fit(X_train, y_train) \n",
    "\n",
    "# Je prédis sur le train\n",
    "y_pred_train = new_dating_log.predict(X_train)\n",
    "\n",
    "# Je regarde les métriques sur le train\n",
    "print(\"Metrics on the train\")\n",
    "print(precision_recall_fscore_support(y_train, y_pred_train, beta=1.0, \n",
    "                                 labels=None, pos_label=1, average=None, \n",
    "                                 warn_for=(\"precision\", \"recall\", \"f-score\"), sample_weight=None))\n",
    "\n",
    "train_log_conf = confusion_matrix(y_train, y_pred_train)#/ len(X_train) * 100\n",
    "print(\"Confusion Matrix on 'Log Regression' train set\")\n",
    "print(train_log_conf)\n",
    "\n",
    "# Je prédis sur le test\n",
    "y_pred_test = new_dating_log.predict(X_test)\n",
    "\n",
    "# Je regarde les métriques sur le test\n",
    "print(\"Stats sur le test\")\n",
    "print(precision_recall_fscore_support(y_test, y_pred_test, beta=1.0, \n",
    "                                 labels=None, pos_label=1, average=None, \n",
    "                                 warn_for=(\"precision\", \"recall\", \"f-score\"), sample_weight=None))\n",
    "\n",
    "test_log_conf = confusion_matrix(y_test, y_pred_test)#/ len(X_test) * 100\n",
    "print(\"Confusion Matrix on 'Log Regression' test set\")\n",
    "print(test_log_conf)"
   ]
  },
  {
   "cell_type": "code",
   "execution_count": 82,
   "metadata": {},
   "outputs": [],
   "source": [
    "Log_conf = train_log_conf / len(X_train) * 100"
   ]
  },
  {
   "cell_type": "code",
   "execution_count": 83,
   "metadata": {
    "scrolled": true
   },
   "outputs": [
    {
     "data": {
      "image/png": "[encoded data removed]",
      "text/plain": [
       "<Figure size 396x288 with 2 Axes>"
      ]
     },
     "metadata": {
      "needs_background": "light"
     },
     "output_type": "display_data"
    }
   ],
   "source": [
    "# I plot the confusion matrix of the train set on Logistic regression model\n",
    "\n",
    "cm_df = pd.DataFrame(Log_conf,\n",
    "                     index = ['not match','match'], \n",
    "                     columns = ['not match','match'])\n",
    "\n",
    "plt.figure(figsize=(5.5,4))\n",
    "sns.heatmap(cm_df, cmap = 'Spectral', annot=True)\n",
    "plt.title('Logistic regression ')\n",
    "plt.ylabel('True label')\n",
    "plt.xlabel('Predicted label')\n",
    "plt.show()"
   ]
  },
  {
   "cell_type": "code",
   "execution_count": 84,
   "metadata": {
    "scrolled": false
   },
   "outputs": [
    {
     "data": {
      "text/plain": [
       "array([[81.48674242,  1.90972222],\n",
       "       [14.7885101 ,  1.81502525]])"
      ]
     },
     "execution_count": 84,
     "metadata": {},
     "output_type": "execute_result"
    }
   ],
   "source": [
    "Log_conf"
   ]
  },
  {
   "cell_type": "code",
   "execution_count": 85,
   "metadata": {},
   "outputs": [
    {
     "name": "stdout",
     "output_type": "stream",
     "text": [
      "The train Log Reg precision score is 0.4872881355932203\n",
      "The train Log Reg recall score is 0.10931558935361217\n"
     ]
    }
   ],
   "source": [
    "log_precision = precision_score(y_train, y_pred_train)\n",
    "log_recall = recall_score(y_train, y_pred_train)\n",
    "\n",
    "print('The train Log Reg precision score is', log_precision)\n",
    "print('The train Log Reg recall score is', log_recall)"
   ]
  },
  {
   "cell_type": "code",
   "execution_count": 86,
   "metadata": {},
   "outputs": [],
   "source": [
    "new_dating_RF = RandomForestClassifier() "
   ]
  },
  {
   "cell_type": "code",
   "execution_count": 87,
   "metadata": {
    "scrolled": true
   },
   "outputs": [
    {
     "name": "stdout",
     "output_type": "stream",
     "text": [
      "Metrics on the train\n",
      "(array([0.97732342, 0.97280335]), array([0.99507949, 0.88403042]), array([0.98612153, 0.92629482]), array([5284, 1052], dtype=int64))\n",
      "Confusion Matrix on 'Random Forest' train set\n",
      "[[5258   26]\n",
      " [ 122  930]]\n",
      "Stats sur le test\n",
      "(array([0.84136546, 0.45054945]), array([0.96174445, 0.14748201]), array([0.89753659, 0.22222222]), array([1307,  278], dtype=int64))\n",
      "Confusion Matrix on 'Random Forest' test set\n",
      "[[1257   50]\n",
      " [ 237   41]]\n"
     ]
    },
    {
     "name": "stderr",
     "output_type": "stream",
     "text": [
      "C:\\Users\\morga\\Anaconda3\\lib\\site-packages\\sklearn\\ensemble\\forest.py:245: FutureWarning: The default value of n_estimators will change from 10 in version 0.20 to 100 in 0.22.\n",
      "  \"10 in version 0.20 to 100 in 0.22.\", FutureWarning)\n"
     ]
    }
   ],
   "source": [
    "# J'entraine\n",
    "new_dating_RF.fit(X_train, y_train) \n",
    "\n",
    "# Je prédis sur le train\n",
    "y_pred_train = new_dating_RF.predict(X_train)\n",
    "\n",
    "# Je regarde les métriques sur le train\n",
    "print(\"Metrics on the train\")\n",
    "print(precision_recall_fscore_support(y_train, y_pred_train, beta=1.0, \n",
    "                                 labels=None, pos_label=1, average=None, \n",
    "                                 warn_for=(\"precision\", \"recall\", \"f-score\"), sample_weight=None))\n",
    "\n",
    "train_RF_conf = confusion_matrix(y_train, y_pred_train)#/ len(X_train) * 100\n",
    "print(\"Confusion Matrix on 'Random Forest' train set\")\n",
    "print(train_RF_conf)\n",
    "\n",
    "# Je prédis sur le test\n",
    "y_pred_test = new_dating_RF.predict(X_test)\n",
    "\n",
    "# Je regarde les métriques sur le test\n",
    "print(\"Stats sur le test\")\n",
    "print(precision_recall_fscore_support(y_test, y_pred_test, beta=1.0, \n",
    "                                 labels=None, pos_label=1, average=None, \n",
    "                                 warn_for=(\"precision\", \"recall\", \"f-score\"), sample_weight=None))\n",
    "\n",
    "test_RF_conf = confusion_matrix(y_test, y_pred_test)#/ len(X_test) * 100\n",
    "print(\"Confusion Matrix on 'Random Forest' test set\")\n",
    "print(test_RF_conf)"
   ]
  },
  {
   "cell_type": "code",
   "execution_count": 88,
   "metadata": {},
   "outputs": [],
   "source": [
    "RF_conf = train_RF_conf / len(X_train) * 100"
   ]
  },
  {
   "cell_type": "code",
   "execution_count": 89,
   "metadata": {},
   "outputs": [
    {
     "data": {
      "image/png": "[encoded data removed]",
      "text/plain": [
       "<Figure size 396x288 with 2 Axes>"
      ]
     },
     "metadata": {
      "needs_background": "light"
     },
     "output_type": "display_data"
    }
   ],
   "source": [
    "# I plot the confusion matrix of the train set on Logistic regression model\n",
    "\n",
    "cm_df = pd.DataFrame(RF_conf,\n",
    "                     index = ['not match','match'], \n",
    "                     columns = ['not match','match'])\n",
    "\n",
    "plt.figure(figsize=(5.5,4))\n",
    "sns.heatmap(cm_df, cmap = 'Spectral', annot=True)\n",
    "plt.title('Random Forest')\n",
    "plt.ylabel('True label')\n",
    "plt.xlabel('Predicted label')\n",
    "plt.show()"
   ]
  },
  {
   "cell_type": "code",
   "execution_count": 90,
   "metadata": {
    "scrolled": true
   },
   "outputs": [
    {
     "data": {
      "text/plain": [
       "array([[82.98611111,  0.41035354],\n",
       "       [ 1.92550505, 14.6780303 ]])"
      ]
     },
     "execution_count": 90,
     "metadata": {},
     "output_type": "execute_result"
    }
   ],
   "source": [
    "RF_conf"
   ]
  },
  {
   "cell_type": "code",
   "execution_count": 91,
   "metadata": {},
   "outputs": [
    {
     "name": "stdout",
     "output_type": "stream",
     "text": [
      "The train RF precision score is 0.9728033472803347\n",
      "The train RF recall score is 0.8840304182509505\n"
     ]
    }
   ],
   "source": [
    "rf_precision = precision_score(y_train, y_pred_train)\n",
    "rf_recall = recall_score(y_train, y_pred_train)\n",
    "\n",
    "print('The train RF precision score is', rf_precision)\n",
    "print('The train RF recall score is', rf_recall)"
   ]
  },
  {
   "cell_type": "code",
   "execution_count": 92,
   "metadata": {},
   "outputs": [],
   "source": [
    "new_dating_KN = KNeighborsClassifier(n_neighbors=5) "
   ]
  },
  {
   "cell_type": "code",
   "execution_count": 93,
   "metadata": {},
   "outputs": [
    {
     "name": "stdout",
     "output_type": "stream",
     "text": [
      "Metrics on the train\n",
      "(array([0.88243336, 0.75206612]), array([0.97728993, 0.3460076 ]), array([0.92744253, 0.47395833]), array([5284, 1052], dtype=int64))\n",
      "Confusion Matrix on 'Kneighbors' train set\n",
      "[[5164  120]\n",
      " [ 688  364]]\n",
      "Stats sur le test\n",
      "(array([0.8443843 , 0.44859813]), array([0.95485845, 0.17266187]), array([0.8962298 , 0.24935065]), array([1307,  278], dtype=int64))\n",
      "Confusion Matrix on 'Kneighbors' test set\n",
      "[[1248   59]\n",
      " [ 230   48]]\n"
     ]
    }
   ],
   "source": [
    "# J'entraine\n",
    "new_dating_KN.fit(X_train, y_train) \n",
    "\n",
    "# Je prédis sur le train\n",
    "y_pred_train = new_dating_KN.predict(X_train)\n",
    "\n",
    "# Je regarde les métriques sur le train\n",
    "print(\"Metrics on the train\")\n",
    "print(precision_recall_fscore_support(y_train, y_pred_train, beta=1.0, \n",
    "                                 labels=None, pos_label=1, average=None, \n",
    "                                 warn_for=(\"precision\", \"recall\", \"f-score\"), sample_weight=None))\n",
    "\n",
    "train_KN_conf = confusion_matrix(y_train, y_pred_train)#/ len(X_train) * 100\n",
    "print(\"Confusion Matrix on 'Kneighbors' train set\")\n",
    "print(train_KN_conf)\n",
    "\n",
    "# Je prédis sur le test\n",
    "y_pred_test = new_dating_KN.predict(X_test)\n",
    "\n",
    "# Je regarde les métriques sur le test\n",
    "print(\"Stats sur le test\")\n",
    "print(precision_recall_fscore_support(y_test, y_pred_test, beta=1.0, \n",
    "                                 labels=None, pos_label=1, average=None, \n",
    "                                 warn_for=(\"precision\", \"recall\", \"f-score\"), sample_weight=None))\n",
    "\n",
    "test_KN_conf = confusion_matrix(y_test, y_pred_test)#/ len(X_test) * 100\n",
    "print(\"Confusion Matrix on 'Kneighbors' test set\")\n",
    "print(test_KN_conf)"
   ]
  },
  {
   "cell_type": "code",
   "execution_count": 94,
   "metadata": {},
   "outputs": [],
   "source": [
    "KN_conf = train_KN_conf / len(X_train) * 100"
   ]
  },
  {
   "cell_type": "code",
   "execution_count": 95,
   "metadata": {},
   "outputs": [
    {
     "data": {
      "image/png": "[encoded data removed]",
      "text/plain": [
       "<Figure size 396x288 with 2 Axes>"
      ]
     },
     "metadata": {
      "needs_background": "light"
     },
     "output_type": "display_data"
    }
   ],
   "source": [
    "# I plot the confusion matrix of the train set on Logistic regression model\n",
    "\n",
    "cm_df = pd.DataFrame(KN_conf,\n",
    "                     index = ['not match','match'], \n",
    "                     columns = ['not match','match'])\n",
    "\n",
    "plt.figure(figsize=(5.5,4))\n",
    "sns.heatmap(cm_df, cmap = 'Spectral', annot=True)\n",
    "plt.title('KNeighbor classifier')\n",
    "plt.ylabel('True label')\n",
    "plt.xlabel('Predicted label')\n",
    "plt.show()"
   ]
  },
  {
   "cell_type": "code",
   "execution_count": 96,
   "metadata": {},
   "outputs": [
    {
     "data": {
      "text/plain": [
       "array([[81.50252525,  1.89393939],\n",
       "       [10.85858586,  5.74494949]])"
      ]
     },
     "execution_count": 96,
     "metadata": {},
     "output_type": "execute_result"
    }
   ],
   "source": [
    "KN_conf"
   ]
  },
  {
   "cell_type": "code",
   "execution_count": 97,
   "metadata": {},
   "outputs": [
    {
     "name": "stdout",
     "output_type": "stream",
     "text": [
      "The train KN precision score is 0.7520661157024794\n",
      "The train KN recall score is 0.34600760456273766\n"
     ]
    }
   ],
   "source": [
    "KN_precision = precision_score(y_train, y_pred_train)\n",
    "KN_recall = recall_score(y_train, y_pred_train)\n",
    "\n",
    "print('The train KN precision score is', KN_precision)\n",
    "print('The train KN recall score is', KN_recall)"
   ]
  },
  {
   "cell_type": "code",
   "execution_count": 98,
   "metadata": {
    "scrolled": true
   },
   "outputs": [],
   "source": [
    "#dating_log.intercept_"
   ]
  },
  {
   "cell_type": "code",
   "execution_count": null,
   "metadata": {
    "scrolled": true
   },
   "outputs": [],
   "source": [
    "#columns = dating.drop(\"match\",axis=1).columns.tolist()\n",
    "\n",
    "#for col, coef_ in zip(columns, dating_log.coef_[0]):\n",
    "    #print(col, ':', coef_)"
   ]
  }
 ],
 "metadata": {
  "kernelspec": {
   "display_name": "Python 3",
   "language": "python",
   "name": "python3"
  },
  "language_info": {
   "codemirror_mode": {
    "name": "ipython",
    "version": 3
   },
   "file_extension": ".py",
   "mimetype": "text/x-python",
   "name": "python",
   "nbconvert_exporter": "python",
   "pygments_lexer": "ipython3",
   "version": "3.7.4"
  }
 },
 "nbformat": 4,
 "nbformat_minor": 2
}
