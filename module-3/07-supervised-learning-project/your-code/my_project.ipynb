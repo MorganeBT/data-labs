{
 "cells": [
  {
   "cell_type": "markdown",
   "metadata": {},
   "source": [
    "# Welcome in my Supervised Machine Learning project!"
   ]
  },
  {
   "cell_type": "code",
   "execution_count": 1,
   "metadata": {},
   "outputs": [],
   "source": [
    "import pandas as pd\n",
    "import numpy as np\n",
    "import scipy\n",
    "import matplotlib.pyplot as plt\n",
    "import seaborn as sns\n",
    "%matplotlib inline"
   ]
  },
  {
   "cell_type": "markdown",
   "metadata": {},
   "source": [
    "# 1. Loading, exploring & extracting features from the Dataset"
   ]
  },
  {
   "cell_type": "code",
   "execution_count": 2,
   "metadata": {},
   "outputs": [
    {
     "name": "stderr",
     "output_type": "stream",
     "text": [
      "C:\\Users\\Paul\\Anaconda3\\lib\\site-packages\\IPython\\core\\interactiveshell.py:3049: DtypeWarning: Columns (3,10,11,15,16,17,18,19,39,40,41,42,43,44,51,52,53,54,55,73,74,75,76,77,78,79,80,81,82,83,84,85,86,87,88,89,107,109) have mixed types. Specify dtype option on import or set low_memory=False.\n",
      "  interactivity=interactivity, compiler=compiler, result=result)\n"
     ]
    }
   ],
   "source": [
    "dating = pd.read_csv('speeddating.csv')"
   ]
  },
  {
   "cell_type": "code",
   "execution_count": 3,
   "metadata": {},
   "outputs": [],
   "source": [
    "#My objective is to predict the matching _ The target feature is the 'match' one"
   ]
  },
  {
   "cell_type": "code",
   "execution_count": 4,
   "metadata": {
    "scrolled": false
   },
   "outputs": [
    {
     "name": "stdout",
     "output_type": "stream",
     "text": [
      "<class 'pandas.core.frame.DataFrame'>\n",
      "RangeIndex: 8378 entries, 0 to 8377\n",
      "Columns: 123 entries, has_null to match\n",
      "dtypes: int64(7), object(116)\n",
      "memory usage: 7.9+ MB\n"
     ]
    }
   ],
   "source": [
    "dating.info()"
   ]
  },
  {
   "cell_type": "code",
   "execution_count": 5,
   "metadata": {},
   "outputs": [],
   "source": [
    "# check dating.has_null"
   ]
  },
  {
   "cell_type": "code",
   "execution_count": 6,
   "metadata": {
    "scrolled": true
   },
   "outputs": [
    {
     "data": {
      "text/plain": [
       "0"
      ]
     },
     "execution_count": 6,
     "metadata": {},
     "output_type": "execute_result"
    }
   ],
   "source": [
    "dating.isnull().any(axis=1).sum()"
   ]
  },
  {
   "cell_type": "code",
   "execution_count": 7,
   "metadata": {
    "scrolled": true
   },
   "outputs": [
    {
     "data": {
      "text/html": [
       "<div>\n",
       "<style scoped>\n",
       "    .dataframe tbody tr th:only-of-type {\n",
       "        vertical-align: middle;\n",
       "    }\n",
       "\n",
       "    .dataframe tbody tr th {\n",
       "        vertical-align: top;\n",
       "    }\n",
       "\n",
       "    .dataframe thead th {\n",
       "        text-align: right;\n",
       "    }\n",
       "</style>\n",
       "<table border=\"1\" class=\"dataframe\">\n",
       "  <thead>\n",
       "    <tr style=\"text-align: right;\">\n",
       "      <th></th>\n",
       "      <th>has_null</th>\n",
       "      <th>wave</th>\n",
       "      <th>gender</th>\n",
       "      <th>age</th>\n",
       "      <th>age_o</th>\n",
       "      <th>d_age</th>\n",
       "      <th>d_d_age</th>\n",
       "      <th>race</th>\n",
       "      <th>race_o</th>\n",
       "      <th>samerace</th>\n",
       "      <th>...</th>\n",
       "      <th>d_expected_num_interested_in_me</th>\n",
       "      <th>d_expected_num_matches</th>\n",
       "      <th>like</th>\n",
       "      <th>guess_prob_liked</th>\n",
       "      <th>d_like</th>\n",
       "      <th>d_guess_prob_liked</th>\n",
       "      <th>met</th>\n",
       "      <th>decision</th>\n",
       "      <th>decision_o</th>\n",
       "      <th>match</th>\n",
       "    </tr>\n",
       "  </thead>\n",
       "  <tbody>\n",
       "    <tr>\n",
       "      <th>0</th>\n",
       "      <td>0</td>\n",
       "      <td>1</td>\n",
       "      <td>female</td>\n",
       "      <td>21</td>\n",
       "      <td>27</td>\n",
       "      <td>6</td>\n",
       "      <td>[4-6]</td>\n",
       "      <td>'Asian/Pacific Islander/Asian-American'</td>\n",
       "      <td>European/Caucasian-American</td>\n",
       "      <td>0</td>\n",
       "      <td>...</td>\n",
       "      <td>[0-3]</td>\n",
       "      <td>[3-5]</td>\n",
       "      <td>7</td>\n",
       "      <td>6</td>\n",
       "      <td>[6-8]</td>\n",
       "      <td>[5-6]</td>\n",
       "      <td>0</td>\n",
       "      <td>1</td>\n",
       "      <td>0</td>\n",
       "      <td>0</td>\n",
       "    </tr>\n",
       "    <tr>\n",
       "      <th>1</th>\n",
       "      <td>0</td>\n",
       "      <td>1</td>\n",
       "      <td>female</td>\n",
       "      <td>21</td>\n",
       "      <td>22</td>\n",
       "      <td>1</td>\n",
       "      <td>[0-1]</td>\n",
       "      <td>'Asian/Pacific Islander/Asian-American'</td>\n",
       "      <td>European/Caucasian-American</td>\n",
       "      <td>0</td>\n",
       "      <td>...</td>\n",
       "      <td>[0-3]</td>\n",
       "      <td>[3-5]</td>\n",
       "      <td>7</td>\n",
       "      <td>5</td>\n",
       "      <td>[6-8]</td>\n",
       "      <td>[5-6]</td>\n",
       "      <td>1</td>\n",
       "      <td>1</td>\n",
       "      <td>0</td>\n",
       "      <td>0</td>\n",
       "    </tr>\n",
       "    <tr>\n",
       "      <th>2</th>\n",
       "      <td>1</td>\n",
       "      <td>1</td>\n",
       "      <td>female</td>\n",
       "      <td>21</td>\n",
       "      <td>22</td>\n",
       "      <td>1</td>\n",
       "      <td>[0-1]</td>\n",
       "      <td>'Asian/Pacific Islander/Asian-American'</td>\n",
       "      <td>'Asian/Pacific Islander/Asian-American'</td>\n",
       "      <td>1</td>\n",
       "      <td>...</td>\n",
       "      <td>[0-3]</td>\n",
       "      <td>[3-5]</td>\n",
       "      <td>7</td>\n",
       "      <td>?</td>\n",
       "      <td>[6-8]</td>\n",
       "      <td>[0-4]</td>\n",
       "      <td>1</td>\n",
       "      <td>1</td>\n",
       "      <td>1</td>\n",
       "      <td>1</td>\n",
       "    </tr>\n",
       "    <tr>\n",
       "      <th>3</th>\n",
       "      <td>0</td>\n",
       "      <td>1</td>\n",
       "      <td>female</td>\n",
       "      <td>21</td>\n",
       "      <td>23</td>\n",
       "      <td>2</td>\n",
       "      <td>[2-3]</td>\n",
       "      <td>'Asian/Pacific Islander/Asian-American'</td>\n",
       "      <td>European/Caucasian-American</td>\n",
       "      <td>0</td>\n",
       "      <td>...</td>\n",
       "      <td>[0-3]</td>\n",
       "      <td>[3-5]</td>\n",
       "      <td>7</td>\n",
       "      <td>6</td>\n",
       "      <td>[6-8]</td>\n",
       "      <td>[5-6]</td>\n",
       "      <td>0</td>\n",
       "      <td>1</td>\n",
       "      <td>1</td>\n",
       "      <td>1</td>\n",
       "    </tr>\n",
       "    <tr>\n",
       "      <th>4</th>\n",
       "      <td>0</td>\n",
       "      <td>1</td>\n",
       "      <td>female</td>\n",
       "      <td>21</td>\n",
       "      <td>24</td>\n",
       "      <td>3</td>\n",
       "      <td>[2-3]</td>\n",
       "      <td>'Asian/Pacific Islander/Asian-American'</td>\n",
       "      <td>'Latino/Hispanic American'</td>\n",
       "      <td>0</td>\n",
       "      <td>...</td>\n",
       "      <td>[0-3]</td>\n",
       "      <td>[3-5]</td>\n",
       "      <td>6</td>\n",
       "      <td>6</td>\n",
       "      <td>[6-8]</td>\n",
       "      <td>[5-6]</td>\n",
       "      <td>0</td>\n",
       "      <td>1</td>\n",
       "      <td>1</td>\n",
       "      <td>1</td>\n",
       "    </tr>\n",
       "  </tbody>\n",
       "</table>\n",
       "<p>5 rows × 123 columns</p>\n",
       "</div>"
      ],
      "text/plain": [
       "   has_null  wave  gender age age_o  d_age d_d_age  \\\n",
       "0         0     1  female  21    27      6   [4-6]   \n",
       "1         0     1  female  21    22      1   [0-1]   \n",
       "2         1     1  female  21    22      1   [0-1]   \n",
       "3         0     1  female  21    23      2   [2-3]   \n",
       "4         0     1  female  21    24      3   [2-3]   \n",
       "\n",
       "                                      race  \\\n",
       "0  'Asian/Pacific Islander/Asian-American'   \n",
       "1  'Asian/Pacific Islander/Asian-American'   \n",
       "2  'Asian/Pacific Islander/Asian-American'   \n",
       "3  'Asian/Pacific Islander/Asian-American'   \n",
       "4  'Asian/Pacific Islander/Asian-American'   \n",
       "\n",
       "                                    race_o  samerace  ...  \\\n",
       "0              European/Caucasian-American         0  ...   \n",
       "1              European/Caucasian-American         0  ...   \n",
       "2  'Asian/Pacific Islander/Asian-American'         1  ...   \n",
       "3              European/Caucasian-American         0  ...   \n",
       "4               'Latino/Hispanic American'         0  ...   \n",
       "\n",
       "  d_expected_num_interested_in_me d_expected_num_matches like  \\\n",
       "0                           [0-3]                  [3-5]    7   \n",
       "1                           [0-3]                  [3-5]    7   \n",
       "2                           [0-3]                  [3-5]    7   \n",
       "3                           [0-3]                  [3-5]    7   \n",
       "4                           [0-3]                  [3-5]    6   \n",
       "\n",
       "  guess_prob_liked d_like d_guess_prob_liked met decision decision_o match  \n",
       "0                6  [6-8]              [5-6]   0        1          0     0  \n",
       "1                5  [6-8]              [5-6]   1        1          0     0  \n",
       "2                ?  [6-8]              [0-4]   1        1          1     1  \n",
       "3                6  [6-8]              [5-6]   0        1          1     1  \n",
       "4                6  [6-8]              [5-6]   0        1          1     1  \n",
       "\n",
       "[5 rows x 123 columns]"
      ]
     },
     "execution_count": 7,
     "metadata": {},
     "output_type": "execute_result"
    }
   ],
   "source": [
    "dating.head()"
   ]
  },
  {
   "cell_type": "code",
   "execution_count": 8,
   "metadata": {},
   "outputs": [
    {
     "data": {
      "text/plain": [
       "<matplotlib.axes._subplots.AxesSubplot at 0x1d7466af550>"
      ]
     },
     "execution_count": 8,
     "metadata": {},
     "output_type": "execute_result"
    },
    {
     "data": {
      "image/png": "[encoded data removed]",
      "text/plain": [
       "<Figure size 432x288 with 2 Axes>"
      ]
     },
     "metadata": {
      "needs_background": "light"
     },
     "output_type": "display_data"
    }
   ],
   "source": [
    "#I evaluate if the columns in this dataset are strongly correlated\n",
    "\n",
    "corr = dating.corr()\n",
    "sns.heatmap(corr, cmap=\"Paired\")"
   ]
  },
  {
   "cell_type": "code",
   "execution_count": 9,
   "metadata": {
    "scrolled": true
   },
   "outputs": [
    {
     "data": {
      "text/plain": [
       "array(['has_null', 'wave', 'gender', 'age', 'age_o', 'd_age', 'd_d_age',\n",
       "       'race', 'race_o', 'samerace', 'importance_same_race',\n",
       "       'importance_same_religion', 'd_importance_same_race',\n",
       "       'd_importance_same_religion', 'field', 'pref_o_attractive',\n",
       "       'pref_o_sincere', 'pref_o_intelligence', 'pref_o_funny',\n",
       "       'pref_o_ambitious', 'pref_o_shared_interests',\n",
       "       'd_pref_o_attractive', 'd_pref_o_sincere', 'd_pref_o_intelligence',\n",
       "       'd_pref_o_funny', 'd_pref_o_ambitious',\n",
       "       'd_pref_o_shared_interests', 'attractive_o', 'sinsere_o',\n",
       "       'intelligence_o', 'funny_o', 'ambitous_o', 'shared_interests_o',\n",
       "       'd_attractive_o', 'd_sinsere_o', 'd_intelligence_o', 'd_funny_o',\n",
       "       'd_ambitous_o', 'd_shared_interests_o', 'attractive_important',\n",
       "       'sincere_important', 'intellicence_important', 'funny_important',\n",
       "       'ambtition_important', 'shared_interests_important',\n",
       "       'd_attractive_important', 'd_sincere_important',\n",
       "       'd_intellicence_important', 'd_funny_important',\n",
       "       'd_ambtition_important', 'd_shared_interests_important',\n",
       "       'attractive', 'sincere', 'intelligence', 'funny', 'ambition',\n",
       "       'd_attractive', 'd_sincere', 'd_intelligence', 'd_funny',\n",
       "       'd_ambition', 'attractive_partner', 'sincere_partner',\n",
       "       'intelligence_partner', 'funny_partner', 'ambition_partner',\n",
       "       'shared_interests_partner', 'd_attractive_partner',\n",
       "       'd_sincere_partner', 'd_intelligence_partner', 'd_funny_partner',\n",
       "       'd_ambition_partner', 'd_shared_interests_partner', 'sports',\n",
       "       'tvsports', 'exercise', 'dining', 'museums', 'art', 'hiking',\n",
       "       'gaming', 'clubbing', 'reading', 'tv', 'theater', 'movies',\n",
       "       'concerts', 'music', 'shopping', 'yoga', 'd_sports', 'd_tvsports',\n",
       "       'd_exercise', 'd_dining', 'd_museums', 'd_art', 'd_hiking',\n",
       "       'd_gaming', 'd_clubbing', 'd_reading', 'd_tv', 'd_theater',\n",
       "       'd_movies', 'd_concerts', 'd_music', 'd_shopping', 'd_yoga',\n",
       "       'interests_correlate', 'd_interests_correlate',\n",
       "       'expected_happy_with_sd_people', 'expected_num_interested_in_me',\n",
       "       'expected_num_matches', 'd_expected_happy_with_sd_people',\n",
       "       'd_expected_num_interested_in_me', 'd_expected_num_matches',\n",
       "       'like', 'guess_prob_liked', 'd_like', 'd_guess_prob_liked', 'met',\n",
       "       'decision', 'decision_o', 'match'], dtype=object)"
      ]
     },
     "execution_count": 9,
     "metadata": {},
     "output_type": "execute_result"
    }
   ],
   "source": [
    "# I look at the names of columns\n",
    "dating.columns.values"
   ]
  },
  {
   "cell_type": "code",
   "execution_count": 10,
   "metadata": {},
   "outputs": [],
   "source": [
    "#I drop all columns regarding the expectactions of the person in date\n",
    "dating.drop(columns = ['expected_happy_with_sd_people', 'expected_num_interested_in_me','expected_num_matches', \n",
    "                       'd_expected_happy_with_sd_people','d_expected_num_interested_in_me', 'd_expected_num_matches'], inplace = True)"
   ]
  },
  {
   "cell_type": "code",
   "execution_count": 11,
   "metadata": {},
   "outputs": [],
   "source": [
    "#I drop the columns about 'decision' as the machine will naturally base on to consider the prediction of matching\n",
    "dating.drop(columns = ['decision', 'decision_o'], inplace = True)"
   ]
  },
  {
   "cell_type": "code",
   "execution_count": 12,
   "metadata": {},
   "outputs": [],
   "source": [
    "#I drop the columns with duplicata and included information on main features (info reg. self rating and the other person's rates, guessing rates)\n",
    "dating.drop(columns = ['age_o','d_age','field', 'race', 'race_o','tvsports', 'exercise', 'museums','hiking', 'gaming', 'movies', \n",
    "                       'concerts', 'shopping', 'yoga', 'sports', 'dining', 'art', 'clubbing', 'reading', 'tv', 'theater', \n",
    "                       'music', 'interests_correlate','importance_same_race', 'importance_same_religion', 'pref_o_attractive', \n",
    "                       'pref_o_sincere', 'pref_o_intelligence', 'pref_o_funny', 'pref_o_ambitious', 'pref_o_shared_interests',\n",
    "                       'attractive_o', 'sinsere_o', 'intelligence_o', 'funny_o', 'ambitous_o', 'shared_interests_o', \n",
    "                       'attractive_important', 'sincere_important', 'intellicence_important', 'funny_important', \n",
    "                       'ambtition_important', 'shared_interests_important', 'attractive', 'sincere', 'intelligence', 'funny', \n",
    "                       'ambition', 'attractive_partner', 'sincere_partner', 'intelligence_partner', 'funny_partner', \n",
    "                       'ambition_partner', 'shared_interests_partner', 'guess_prob_liked', 'like'], inplace = True)"
   ]
  },
  {
   "cell_type": "code",
   "execution_count": 13,
   "metadata": {
    "scrolled": true
   },
   "outputs": [
    {
     "name": "stdout",
     "output_type": "stream",
     "text": [
      "['has_null', 'wave', 'gender', 'age', 'samerace', 'met', 'match']\n"
     ]
    }
   ],
   "source": [
    "# All columns started with 'd_' are rates classification \n",
    "# so I decide de look at those should be identified as not started by 'd_'\n",
    "no_d_colnames = []\n",
    "for col in dating.columns:\n",
    "    if not col.startswith('d_'):\n",
    "        no_d_colnames.append(col)\n",
    "print(no_d_colnames)# test a list comprehension"
   ]
  },
  {
   "cell_type": "code",
   "execution_count": 14,
   "metadata": {},
   "outputs": [
    {
     "data": {
      "text/plain": [
       "Index(['has_null', 'wave', 'gender', 'age', 'd_d_age', 'samerace',\n",
       "       'd_importance_same_race', 'd_importance_same_religion',\n",
       "       'd_pref_o_attractive', 'd_pref_o_sincere', 'd_pref_o_intelligence',\n",
       "       'd_pref_o_funny', 'd_pref_o_ambitious', 'd_pref_o_shared_interests',\n",
       "       'd_attractive_o', 'd_sinsere_o', 'd_intelligence_o', 'd_funny_o',\n",
       "       'd_ambitous_o', 'd_shared_interests_o', 'd_attractive_important',\n",
       "       'd_sincere_important', 'd_intellicence_important', 'd_funny_important',\n",
       "       'd_ambtition_important', 'd_shared_interests_important', 'd_attractive',\n",
       "       'd_sincere', 'd_intelligence', 'd_funny', 'd_ambition',\n",
       "       'd_attractive_partner', 'd_sincere_partner', 'd_intelligence_partner',\n",
       "       'd_funny_partner', 'd_ambition_partner', 'd_shared_interests_partner',\n",
       "       'd_sports', 'd_tvsports', 'd_exercise', 'd_dining', 'd_museums',\n",
       "       'd_art', 'd_hiking', 'd_gaming', 'd_clubbing', 'd_reading', 'd_tv',\n",
       "       'd_theater', 'd_movies', 'd_concerts', 'd_music', 'd_shopping',\n",
       "       'd_yoga', 'd_interests_correlate', 'd_like', 'd_guess_prob_liked',\n",
       "       'met', 'match'],\n",
       "      dtype='object')"
      ]
     },
     "execution_count": 14,
     "metadata": {},
     "output_type": "execute_result"
    }
   ],
   "source": [
    "dating.columns"
   ]
  },
  {
   "cell_type": "code",
   "execution_count": 15,
   "metadata": {},
   "outputs": [],
   "source": [
    "#I harmonize the values of the series with inverted commas and uppercase letter\n",
    "#dating['field'] = dating['field'].str.replace(\"'\", \"\").str.lower()"
   ]
  },
  {
   "cell_type": "code",
   "execution_count": 16,
   "metadata": {},
   "outputs": [],
   "source": [
    "#I consider that information regarding the other is not relevant in the dataset\n",
    "dating.drop(columns = ['d_pref_o_attractive', 'd_pref_o_sincere', 'd_pref_o_intelligence',\n",
    "       'd_pref_o_funny', 'd_pref_o_ambitious', 'd_pref_o_shared_interests',\n",
    "       'd_attractive_o', 'd_sinsere_o', 'd_intelligence_o', 'd_funny_o',\n",
    "       'd_ambitous_o', 'd_shared_interests_o', 'd_tvsports', 'd_exercise', 'd_museums',\n",
    "       'd_hiking', 'd_gaming', 'd_theater', 'd_movies', 'd_concerts', 'd_shopping',\n",
    "       'd_yoga', 'd_attractive', 'd_sincere', 'd_intelligence', 'd_funny', 'd_ambition', 'd_guess_prob_liked'], inplace = True)"
   ]
  },
  {
   "cell_type": "code",
   "execution_count": 17,
   "metadata": {},
   "outputs": [
    {
     "name": "stderr",
     "output_type": "stream",
     "text": [
      "C:\\Users\\Paul\\Anaconda3\\lib\\site-packages\\pandas\\core\\ops.py:1649: FutureWarning: elementwise comparison failed; returning scalar instead, but in the future will perform elementwise comparison\n",
      "  result = method(y)\n"
     ]
    },
    {
     "data": {
      "text/plain": [
       "has_null                          0\n",
       "wave                              0\n",
       "gender                            0\n",
       "age                              95\n",
       "d_d_age                           0\n",
       "samerace                          0\n",
       "d_importance_same_race            0\n",
       "d_importance_same_religion        0\n",
       "d_attractive_important            0\n",
       "d_sincere_important               0\n",
       "d_intellicence_important          0\n",
       "d_funny_important                 0\n",
       "d_ambtition_important             0\n",
       "d_shared_interests_important      0\n",
       "d_attractive_partner              0\n",
       "d_sincere_partner                 0\n",
       "d_intelligence_partner            0\n",
       "d_funny_partner                   0\n",
       "d_ambition_partner                0\n",
       "d_shared_interests_partner        0\n",
       "d_sports                          0\n",
       "d_dining                          0\n",
       "d_art                             0\n",
       "d_clubbing                        0\n",
       "d_reading                         0\n",
       "d_tv                              0\n",
       "d_music                           0\n",
       "d_interests_correlate             0\n",
       "d_like                            0\n",
       "met                             375\n",
       "match                             0\n",
       "dtype: int64"
      ]
     },
     "execution_count": 17,
     "metadata": {},
     "output_type": "execute_result"
    }
   ],
   "source": [
    "#I identify the '?' values number by feature\n",
    "dating.eq('?').sum()"
   ]
  },
  {
   "cell_type": "code",
   "execution_count": 18,
   "metadata": {
    "scrolled": true
   },
   "outputs": [],
   "source": [
    "# I drop the rows with the '?' values \n",
    "dating.drop(dating.index[dating['age']== '?'], inplace = True)  # dating = dating[dating.age != '?']\n",
    "dating.drop(dating.index[dating['met']== '?'], inplace = True)"
   ]
  },
  {
   "cell_type": "code",
   "execution_count": 19,
   "metadata": {},
   "outputs": [],
   "source": [
    "# I rename some columns names\n",
    "dating.rename(columns={'d_intellicence_important':'d_intelligence_important', 'd_ambtition_important': 'd_ambition_important', 'met':'already_met'},inplace=True)"
   ]
  },
  {
   "cell_type": "code",
   "execution_count": 20,
   "metadata": {
    "scrolled": true
   },
   "outputs": [
    {
     "data": {
      "text/plain": [
       "(7921, 31)"
      ]
     },
     "execution_count": 20,
     "metadata": {},
     "output_type": "execute_result"
    }
   ],
   "source": [
    "#I explore again the dataset after those changes\n",
    "dating.shape"
   ]
  },
  {
   "cell_type": "code",
   "execution_count": 21,
   "metadata": {
    "scrolled": true
   },
   "outputs": [
    {
     "data": {
      "text/html": [
       "<div>\n",
       "<style scoped>\n",
       "    .dataframe tbody tr th:only-of-type {\n",
       "        vertical-align: middle;\n",
       "    }\n",
       "\n",
       "    .dataframe tbody tr th {\n",
       "        vertical-align: top;\n",
       "    }\n",
       "\n",
       "    .dataframe thead th {\n",
       "        text-align: right;\n",
       "    }\n",
       "</style>\n",
       "<table border=\"1\" class=\"dataframe\">\n",
       "  <thead>\n",
       "    <tr style=\"text-align: right;\">\n",
       "      <th></th>\n",
       "      <th>has_null</th>\n",
       "      <th>wave</th>\n",
       "      <th>gender</th>\n",
       "      <th>age</th>\n",
       "      <th>d_d_age</th>\n",
       "      <th>samerace</th>\n",
       "      <th>d_importance_same_race</th>\n",
       "      <th>d_importance_same_religion</th>\n",
       "      <th>d_attractive_important</th>\n",
       "      <th>d_sincere_important</th>\n",
       "      <th>...</th>\n",
       "      <th>d_dining</th>\n",
       "      <th>d_art</th>\n",
       "      <th>d_clubbing</th>\n",
       "      <th>d_reading</th>\n",
       "      <th>d_tv</th>\n",
       "      <th>d_music</th>\n",
       "      <th>d_interests_correlate</th>\n",
       "      <th>d_like</th>\n",
       "      <th>already_met</th>\n",
       "      <th>match</th>\n",
       "    </tr>\n",
       "  </thead>\n",
       "  <tbody>\n",
       "    <tr>\n",
       "      <th>0</th>\n",
       "      <td>0</td>\n",
       "      <td>1</td>\n",
       "      <td>female</td>\n",
       "      <td>21</td>\n",
       "      <td>[4-6]</td>\n",
       "      <td>0</td>\n",
       "      <td>[2-5]</td>\n",
       "      <td>[2-5]</td>\n",
       "      <td>[0-15]</td>\n",
       "      <td>[16-20]</td>\n",
       "      <td>...</td>\n",
       "      <td>[9-10]</td>\n",
       "      <td>[0-5]</td>\n",
       "      <td>[0-5]</td>\n",
       "      <td>[6-8]</td>\n",
       "      <td>[9-10]</td>\n",
       "      <td>[9-10]</td>\n",
       "      <td>[0-0.33]</td>\n",
       "      <td>[6-8]</td>\n",
       "      <td>0</td>\n",
       "      <td>0</td>\n",
       "    </tr>\n",
       "    <tr>\n",
       "      <th>1</th>\n",
       "      <td>0</td>\n",
       "      <td>1</td>\n",
       "      <td>female</td>\n",
       "      <td>21</td>\n",
       "      <td>[0-1]</td>\n",
       "      <td>0</td>\n",
       "      <td>[2-5]</td>\n",
       "      <td>[2-5]</td>\n",
       "      <td>[0-15]</td>\n",
       "      <td>[16-20]</td>\n",
       "      <td>...</td>\n",
       "      <td>[9-10]</td>\n",
       "      <td>[0-5]</td>\n",
       "      <td>[0-5]</td>\n",
       "      <td>[6-8]</td>\n",
       "      <td>[9-10]</td>\n",
       "      <td>[9-10]</td>\n",
       "      <td>[0.33-1]</td>\n",
       "      <td>[6-8]</td>\n",
       "      <td>1</td>\n",
       "      <td>0</td>\n",
       "    </tr>\n",
       "    <tr>\n",
       "      <th>2</th>\n",
       "      <td>1</td>\n",
       "      <td>1</td>\n",
       "      <td>female</td>\n",
       "      <td>21</td>\n",
       "      <td>[0-1]</td>\n",
       "      <td>1</td>\n",
       "      <td>[2-5]</td>\n",
       "      <td>[2-5]</td>\n",
       "      <td>[0-15]</td>\n",
       "      <td>[16-20]</td>\n",
       "      <td>...</td>\n",
       "      <td>[9-10]</td>\n",
       "      <td>[0-5]</td>\n",
       "      <td>[0-5]</td>\n",
       "      <td>[6-8]</td>\n",
       "      <td>[9-10]</td>\n",
       "      <td>[9-10]</td>\n",
       "      <td>[0-0.33]</td>\n",
       "      <td>[6-8]</td>\n",
       "      <td>1</td>\n",
       "      <td>1</td>\n",
       "    </tr>\n",
       "    <tr>\n",
       "      <th>3</th>\n",
       "      <td>0</td>\n",
       "      <td>1</td>\n",
       "      <td>female</td>\n",
       "      <td>21</td>\n",
       "      <td>[2-3]</td>\n",
       "      <td>0</td>\n",
       "      <td>[2-5]</td>\n",
       "      <td>[2-5]</td>\n",
       "      <td>[0-15]</td>\n",
       "      <td>[16-20]</td>\n",
       "      <td>...</td>\n",
       "      <td>[9-10]</td>\n",
       "      <td>[0-5]</td>\n",
       "      <td>[0-5]</td>\n",
       "      <td>[6-8]</td>\n",
       "      <td>[9-10]</td>\n",
       "      <td>[9-10]</td>\n",
       "      <td>[0.33-1]</td>\n",
       "      <td>[6-8]</td>\n",
       "      <td>0</td>\n",
       "      <td>1</td>\n",
       "    </tr>\n",
       "    <tr>\n",
       "      <th>4</th>\n",
       "      <td>0</td>\n",
       "      <td>1</td>\n",
       "      <td>female</td>\n",
       "      <td>21</td>\n",
       "      <td>[2-3]</td>\n",
       "      <td>0</td>\n",
       "      <td>[2-5]</td>\n",
       "      <td>[2-5]</td>\n",
       "      <td>[0-15]</td>\n",
       "      <td>[16-20]</td>\n",
       "      <td>...</td>\n",
       "      <td>[9-10]</td>\n",
       "      <td>[0-5]</td>\n",
       "      <td>[0-5]</td>\n",
       "      <td>[6-8]</td>\n",
       "      <td>[9-10]</td>\n",
       "      <td>[9-10]</td>\n",
       "      <td>[0-0.33]</td>\n",
       "      <td>[6-8]</td>\n",
       "      <td>0</td>\n",
       "      <td>1</td>\n",
       "    </tr>\n",
       "  </tbody>\n",
       "</table>\n",
       "<p>5 rows × 31 columns</p>\n",
       "</div>"
      ],
      "text/plain": [
       "   has_null  wave  gender age d_d_age  samerace d_importance_same_race  \\\n",
       "0         0     1  female  21   [4-6]         0                  [2-5]   \n",
       "1         0     1  female  21   [0-1]         0                  [2-5]   \n",
       "2         1     1  female  21   [0-1]         1                  [2-5]   \n",
       "3         0     1  female  21   [2-3]         0                  [2-5]   \n",
       "4         0     1  female  21   [2-3]         0                  [2-5]   \n",
       "\n",
       "  d_importance_same_religion d_attractive_important d_sincere_important  ...  \\\n",
       "0                      [2-5]                 [0-15]             [16-20]  ...   \n",
       "1                      [2-5]                 [0-15]             [16-20]  ...   \n",
       "2                      [2-5]                 [0-15]             [16-20]  ...   \n",
       "3                      [2-5]                 [0-15]             [16-20]  ...   \n",
       "4                      [2-5]                 [0-15]             [16-20]  ...   \n",
       "\n",
       "  d_dining  d_art d_clubbing d_reading    d_tv d_music d_interests_correlate  \\\n",
       "0   [9-10]  [0-5]      [0-5]     [6-8]  [9-10]  [9-10]              [0-0.33]   \n",
       "1   [9-10]  [0-5]      [0-5]     [6-8]  [9-10]  [9-10]              [0.33-1]   \n",
       "2   [9-10]  [0-5]      [0-5]     [6-8]  [9-10]  [9-10]              [0-0.33]   \n",
       "3   [9-10]  [0-5]      [0-5]     [6-8]  [9-10]  [9-10]              [0.33-1]   \n",
       "4   [9-10]  [0-5]      [0-5]     [6-8]  [9-10]  [9-10]              [0-0.33]   \n",
       "\n",
       "  d_like already_met match  \n",
       "0  [6-8]           0     0  \n",
       "1  [6-8]           1     0  \n",
       "2  [6-8]           1     1  \n",
       "3  [6-8]           0     1  \n",
       "4  [6-8]           0     1  \n",
       "\n",
       "[5 rows x 31 columns]"
      ]
     },
     "execution_count": 21,
     "metadata": {},
     "output_type": "execute_result"
    }
   ],
   "source": [
    "dating.head() #dating.columns ou affichage columns in a whole"
   ]
  },
  {
   "cell_type": "code",
   "execution_count": 22,
   "metadata": {},
   "outputs": [
    {
     "name": "stdout",
     "output_type": "stream",
     "text": [
      "<class 'pandas.core.frame.DataFrame'>\n",
      "Int64Index: 7921 entries, 0 to 8377\n",
      "Data columns (total 31 columns):\n",
      "has_null                        7921 non-null int64\n",
      "wave                            7921 non-null int64\n",
      "gender                          7921 non-null object\n",
      "age                             7921 non-null object\n",
      "d_d_age                         7921 non-null object\n",
      "samerace                        7921 non-null int64\n",
      "d_importance_same_race          7921 non-null object\n",
      "d_importance_same_religion      7921 non-null object\n",
      "d_attractive_important          7921 non-null object\n",
      "d_sincere_important             7921 non-null object\n",
      "d_intelligence_important        7921 non-null object\n",
      "d_funny_important               7921 non-null object\n",
      "d_ambition_important            7921 non-null object\n",
      "d_shared_interests_important    7921 non-null object\n",
      "d_attractive_partner            7921 non-null object\n",
      "d_sincere_partner               7921 non-null object\n",
      "d_intelligence_partner          7921 non-null object\n",
      "d_funny_partner                 7921 non-null object\n",
      "d_ambition_partner              7921 non-null object\n",
      "d_shared_interests_partner      7921 non-null object\n",
      "d_sports                        7921 non-null object\n",
      "d_dining                        7921 non-null object\n",
      "d_art                           7921 non-null object\n",
      "d_clubbing                      7921 non-null object\n",
      "d_reading                       7921 non-null object\n",
      "d_tv                            7921 non-null object\n",
      "d_music                         7921 non-null object\n",
      "d_interests_correlate           7921 non-null object\n",
      "d_like                          7921 non-null object\n",
      "already_met                     7921 non-null object\n",
      "match                           7921 non-null int64\n",
      "dtypes: int64(4), object(27)\n",
      "memory usage: 1.9+ MB\n"
     ]
    }
   ],
   "source": [
    "dating.info()"
   ]
  },
  {
   "cell_type": "code",
   "execution_count": 23,
   "metadata": {
    "scrolled": true
   },
   "outputs": [
    {
     "data": {
      "text/plain": [
       "[0-0.33]    2916\n",
       "[0.33-1]    2783\n",
       "[-1-0]      2222\n",
       "Name: d_interests_correlate, dtype: int64"
      ]
     },
     "execution_count": 23,
     "metadata": {},
     "output_type": "execute_result"
    }
   ],
   "source": [
    "dating.d_interests_correlate.value_counts()"
   ]
  },
  {
   "cell_type": "code",
   "execution_count": 24,
   "metadata": {},
   "outputs": [
    {
     "data": {
      "text/plain": [
       "[2-3]     2301\n",
       "[4-6]     2210\n",
       "[0-1]     2137\n",
       "[7-37]    1273\n",
       "Name: d_d_age, dtype: int64"
      ]
     },
     "execution_count": 24,
     "metadata": {},
     "output_type": "execute_result"
    }
   ],
   "source": [
    "dating.d_d_age.value_counts()"
   ]
  },
  {
   "cell_type": "code",
   "execution_count": 25,
   "metadata": {},
   "outputs": [
    {
     "data": {
      "text/plain": [
       "[6-8]     4682\n",
       "[0-5]     2655\n",
       "[9-10]     584\n",
       "Name: d_like, dtype: int64"
      ]
     },
     "execution_count": 25,
     "metadata": {},
     "output_type": "execute_result"
    }
   ],
   "source": [
    "dating.d_like.value_counts()"
   ]
  },
  {
   "cell_type": "code",
   "execution_count": 26,
   "metadata": {
    "scrolled": true
   },
   "outputs": [
    {
     "data": {
      "text/plain": [
       "[6-8]     4388\n",
       "[0-5]     2692\n",
       "[9-10]     841\n",
       "Name: d_attractive_partner, dtype: int64"
      ]
     },
     "execution_count": 26,
     "metadata": {},
     "output_type": "execute_result"
    }
   ],
   "source": [
    "dating.d_attractive_partner.value_counts()"
   ]
  },
  {
   "cell_type": "code",
   "execution_count": 27,
   "metadata": {},
   "outputs": [
    {
     "data": {
      "text/plain": [
       "[6-8]     4513\n",
       "[0-5]     2459\n",
       "[9-10]     949\n",
       "Name: d_funny_partner, dtype: int64"
      ]
     },
     "execution_count": 27,
     "metadata": {},
     "output_type": "execute_result"
    }
   ],
   "source": [
    "dating.d_funny_partner.value_counts()"
   ]
  },
  {
   "cell_type": "code",
   "execution_count": 28,
   "metadata": {},
   "outputs": [
    {
     "data": {
      "text/plain": [
       "dtype('int64')"
      ]
     },
     "execution_count": 28,
     "metadata": {},
     "output_type": "execute_result"
    }
   ],
   "source": [
    "dating['age']=pd.to_numeric(dating['age'])\n",
    "dating.age.dtypes"
   ]
  },
  {
   "cell_type": "code",
   "execution_count": 29,
   "metadata": {},
   "outputs": [
    {
     "data": {
      "text/plain": [
       "<matplotlib.axes._subplots.AxesSubplot at 0x1d7466f0ac8>"
      ]
     },
     "execution_count": 29,
     "metadata": {},
     "output_type": "execute_result"
    },
    {
     "data": {
      "image/png": "[encoded data removed]",
      "text/plain": [
       "<Figure size 432x288 with 1 Axes>"
      ]
     },
     "metadata": {
      "needs_background": "light"
     },
     "output_type": "display_data"
    }
   ],
   "source": [
    "dating['age'].hist(bins=30, color = 'y')"
   ]
  },
  {
   "cell_type": "code",
   "execution_count": 30,
   "metadata": {},
   "outputs": [
    {
     "data": {
      "text/plain": [
       "dtype('int64')"
      ]
     },
     "execution_count": 30,
     "metadata": {},
     "output_type": "execute_result"
    }
   ],
   "source": [
    "dating['already_met']=pd.to_numeric(dating['already_met'])\n",
    "dating.already_met.dtypes"
   ]
  },
  {
   "cell_type": "code",
   "execution_count": 31,
   "metadata": {},
   "outputs": [],
   "source": [
    "# I decide to label values in order to normalize the ranking values, convert to integer, on a scale of 10"
   ]
  },
  {
   "cell_type": "code",
   "execution_count": 32,
   "metadata": {},
   "outputs": [],
   "source": [
    "age_scale = {'[0-1]': int(0), '[2-3]': int(2), '[4-6]': int(5), '[7-37]': 7} #d_d_age column"
   ]
  },
  {
   "cell_type": "code",
   "execution_count": 33,
   "metadata": {},
   "outputs": [],
   "source": [
    "importance = {'[0-1]': int(0), '[2-5]': int(5), '[6-10]': int(10)} #d_importance_same_race, d_importance_same_religion\n",
    "dating['d_importance_same_race'] = dating['d_importance_same_race'].map(importance)\n",
    "dating['d_importance_same_religion'] = dating['d_importance_same_religion'].map(importance)"
   ]
  },
  {
   "cell_type": "code",
   "execution_count": 34,
   "metadata": {},
   "outputs": [],
   "source": [
    "rate = {'[0-5]': 3, '[6-8]' : 7, '[9-10]': 10}\n",
    "rating_cols = ['d_like', 'd_attractive_partner', 'd_sincere_partner', 'd_intelligence_partner', 'd_funny_partner', 'd_ambition_partner', 'd_shared_interests_partner', 'd_sports', 'd_dining', 'd_art', 'd_clubbing', 'd_reading', 'd_tv', 'd_music']\n",
    "for col in rating_cols:\n",
    "        dating[col] = dating[col].map(rate)"
   ]
  },
  {
   "cell_type": "code",
   "execution_count": 35,
   "metadata": {},
   "outputs": [],
   "source": [
    "criteria ={'[0-15]':0, '[16-20]': 2, '[21-100]': 8}       \n",
    "crit_cols = ['d_attractive_important', 'd_sincere_important', 'd_intelligence_important', 'd_funny_important', 'd_ambition_important', 'd_shared_interests_important']\n",
    "for col in crit_cols:\n",
    "        dating[col] = dating[col].map(criteria)"
   ]
  },
  {
   "cell_type": "code",
   "execution_count": 36,
   "metadata": {},
   "outputs": [],
   "source": [
    "correlate ={'[-1-0]':int(0), '[0-0.33]':int(3), '[0.33-1]':int(8)} #d_interests_correlate\n",
    "dating['d_interests_correlate'] = dating['d_interests_correlate'].map(correlate)   "
   ]
  },
  {
   "cell_type": "code",
   "execution_count": null,
   "metadata": {
    "scrolled": true
   },
   "outputs": [],
   "source": []
  },
  {
   "cell_type": "code",
   "execution_count": null,
   "metadata": {},
   "outputs": [],
   "source": []
  },
  {
   "cell_type": "code",
   "execution_count": 37,
   "metadata": {
    "scrolled": false
   },
   "outputs": [
    {
     "data": {
      "text/plain": [
       "has_null                         int64\n",
       "wave                             int64\n",
       "gender                          object\n",
       "age                              int64\n",
       "d_d_age                         object\n",
       "samerace                         int64\n",
       "d_importance_same_race           int64\n",
       "d_importance_same_religion       int64\n",
       "d_attractive_important           int64\n",
       "d_sincere_important              int64\n",
       "d_intelligence_important         int64\n",
       "d_funny_important                int64\n",
       "d_ambition_important             int64\n",
       "d_shared_interests_important     int64\n",
       "d_attractive_partner             int64\n",
       "d_sincere_partner                int64\n",
       "d_intelligence_partner           int64\n",
       "d_funny_partner                  int64\n",
       "d_ambition_partner               int64\n",
       "d_shared_interests_partner       int64\n",
       "d_sports                         int64\n",
       "d_dining                         int64\n",
       "d_art                            int64\n",
       "d_clubbing                       int64\n",
       "d_reading                        int64\n",
       "d_tv                             int64\n",
       "d_music                          int64\n",
       "d_interests_correlate            int64\n",
       "d_like                           int64\n",
       "already_met                      int64\n",
       "match                            int64\n",
       "dtype: object"
      ]
     },
     "execution_count": 37,
     "metadata": {},
     "output_type": "execute_result"
    }
   ],
   "source": [
    "dating.dtypes"
   ]
  },
  {
   "cell_type": "raw",
   "metadata": {},
   "source": [
    "# Preparing the Data"
   ]
  },
  {
   "cell_type": "code",
   "execution_count": 38,
   "metadata": {},
   "outputs": [],
   "source": [
    "x_columns = [col for col in dating.columns.values if col != \"match\"]\n",
    "dating_variables = dating[x_columns]\n",
    "dating_y = dating[\"match\"]#target"
   ]
  },
  {
   "cell_type": "code",
   "execution_count": 78,
   "metadata": {
    "scrolled": true
   },
   "outputs": [
    {
     "data": {
      "text/html": [
       "<div>\n",
       "<style scoped>\n",
       "    .dataframe tbody tr th:only-of-type {\n",
       "        vertical-align: middle;\n",
       "    }\n",
       "\n",
       "    .dataframe tbody tr th {\n",
       "        vertical-align: top;\n",
       "    }\n",
       "\n",
       "    .dataframe thead th {\n",
       "        text-align: right;\n",
       "    }\n",
       "</style>\n",
       "<table border=\"1\" class=\"dataframe\">\n",
       "  <thead>\n",
       "    <tr style=\"text-align: right;\">\n",
       "      <th></th>\n",
       "      <th>has_null</th>\n",
       "      <th>wave</th>\n",
       "      <th>age</th>\n",
       "      <th>samerace</th>\n",
       "      <th>d_importance_same_race</th>\n",
       "      <th>d_importance_same_religion</th>\n",
       "      <th>d_attractive_important</th>\n",
       "      <th>d_sincere_important</th>\n",
       "      <th>d_intelligence_important</th>\n",
       "      <th>d_funny_important</th>\n",
       "      <th>...</th>\n",
       "      <th>d_reading</th>\n",
       "      <th>d_tv</th>\n",
       "      <th>d_music</th>\n",
       "      <th>d_interests_correlate</th>\n",
       "      <th>d_like</th>\n",
       "      <th>already_met</th>\n",
       "      <th>gender_male</th>\n",
       "      <th>d_d_age_[2-3]</th>\n",
       "      <th>d_d_age_[4-6]</th>\n",
       "      <th>d_d_age_[7-37]</th>\n",
       "    </tr>\n",
       "  </thead>\n",
       "  <tbody>\n",
       "    <tr>\n",
       "      <th>0</th>\n",
       "      <td>0</td>\n",
       "      <td>1</td>\n",
       "      <td>21</td>\n",
       "      <td>0</td>\n",
       "      <td>5</td>\n",
       "      <td>5</td>\n",
       "      <td>0</td>\n",
       "      <td>2</td>\n",
       "      <td>2</td>\n",
       "      <td>0</td>\n",
       "      <td>...</td>\n",
       "      <td>7</td>\n",
       "      <td>10</td>\n",
       "      <td>10</td>\n",
       "      <td>3</td>\n",
       "      <td>7</td>\n",
       "      <td>0</td>\n",
       "      <td>0</td>\n",
       "      <td>0</td>\n",
       "      <td>1</td>\n",
       "      <td>0</td>\n",
       "    </tr>\n",
       "    <tr>\n",
       "      <th>1</th>\n",
       "      <td>0</td>\n",
       "      <td>1</td>\n",
       "      <td>21</td>\n",
       "      <td>0</td>\n",
       "      <td>5</td>\n",
       "      <td>5</td>\n",
       "      <td>0</td>\n",
       "      <td>2</td>\n",
       "      <td>2</td>\n",
       "      <td>0</td>\n",
       "      <td>...</td>\n",
       "      <td>7</td>\n",
       "      <td>10</td>\n",
       "      <td>10</td>\n",
       "      <td>8</td>\n",
       "      <td>7</td>\n",
       "      <td>1</td>\n",
       "      <td>0</td>\n",
       "      <td>0</td>\n",
       "      <td>0</td>\n",
       "      <td>0</td>\n",
       "    </tr>\n",
       "    <tr>\n",
       "      <th>2</th>\n",
       "      <td>1</td>\n",
       "      <td>1</td>\n",
       "      <td>21</td>\n",
       "      <td>1</td>\n",
       "      <td>5</td>\n",
       "      <td>5</td>\n",
       "      <td>0</td>\n",
       "      <td>2</td>\n",
       "      <td>2</td>\n",
       "      <td>0</td>\n",
       "      <td>...</td>\n",
       "      <td>7</td>\n",
       "      <td>10</td>\n",
       "      <td>10</td>\n",
       "      <td>3</td>\n",
       "      <td>7</td>\n",
       "      <td>1</td>\n",
       "      <td>0</td>\n",
       "      <td>0</td>\n",
       "      <td>0</td>\n",
       "      <td>0</td>\n",
       "    </tr>\n",
       "    <tr>\n",
       "      <th>3</th>\n",
       "      <td>0</td>\n",
       "      <td>1</td>\n",
       "      <td>21</td>\n",
       "      <td>0</td>\n",
       "      <td>5</td>\n",
       "      <td>5</td>\n",
       "      <td>0</td>\n",
       "      <td>2</td>\n",
       "      <td>2</td>\n",
       "      <td>0</td>\n",
       "      <td>...</td>\n",
       "      <td>7</td>\n",
       "      <td>10</td>\n",
       "      <td>10</td>\n",
       "      <td>8</td>\n",
       "      <td>7</td>\n",
       "      <td>0</td>\n",
       "      <td>0</td>\n",
       "      <td>1</td>\n",
       "      <td>0</td>\n",
       "      <td>0</td>\n",
       "    </tr>\n",
       "    <tr>\n",
       "      <th>4</th>\n",
       "      <td>0</td>\n",
       "      <td>1</td>\n",
       "      <td>21</td>\n",
       "      <td>0</td>\n",
       "      <td>5</td>\n",
       "      <td>5</td>\n",
       "      <td>0</td>\n",
       "      <td>2</td>\n",
       "      <td>2</td>\n",
       "      <td>0</td>\n",
       "      <td>...</td>\n",
       "      <td>7</td>\n",
       "      <td>10</td>\n",
       "      <td>10</td>\n",
       "      <td>3</td>\n",
       "      <td>7</td>\n",
       "      <td>0</td>\n",
       "      <td>0</td>\n",
       "      <td>1</td>\n",
       "      <td>0</td>\n",
       "      <td>0</td>\n",
       "    </tr>\n",
       "  </tbody>\n",
       "</table>\n",
       "<p>5 rows × 32 columns</p>\n",
       "</div>"
      ],
      "text/plain": [
       "   has_null  wave  age  samerace  d_importance_same_race  \\\n",
       "0         0     1   21         0                       5   \n",
       "1         0     1   21         0                       5   \n",
       "2         1     1   21         1                       5   \n",
       "3         0     1   21         0                       5   \n",
       "4         0     1   21         0                       5   \n",
       "\n",
       "   d_importance_same_religion  d_attractive_important  d_sincere_important  \\\n",
       "0                           5                       0                    2   \n",
       "1                           5                       0                    2   \n",
       "2                           5                       0                    2   \n",
       "3                           5                       0                    2   \n",
       "4                           5                       0                    2   \n",
       "\n",
       "   d_intelligence_important  d_funny_important  ...  d_reading  d_tv  d_music  \\\n",
       "0                         2                  0  ...          7    10       10   \n",
       "1                         2                  0  ...          7    10       10   \n",
       "2                         2                  0  ...          7    10       10   \n",
       "3                         2                  0  ...          7    10       10   \n",
       "4                         2                  0  ...          7    10       10   \n",
       "\n",
       "   d_interests_correlate  d_like  already_met  gender_male  d_d_age_[2-3]  \\\n",
       "0                      3       7            0            0              0   \n",
       "1                      8       7            1            0              0   \n",
       "2                      3       7            1            0              0   \n",
       "3                      8       7            0            0              1   \n",
       "4                      3       7            0            0              1   \n",
       "\n",
       "   d_d_age_[4-6]  d_d_age_[7-37]  \n",
       "0              1               0  \n",
       "1              0               0  \n",
       "2              0               0  \n",
       "3              0               0  \n",
       "4              0               0  \n",
       "\n",
       "[5 rows x 32 columns]"
      ]
     },
     "execution_count": 78,
     "metadata": {},
     "output_type": "execute_result"
    }
   ],
   "source": [
    "dating_x = pd.get_dummies(data=dating_variables, columns=['gender', 'd_d_age'], drop_first= True)\n",
    "dating_x.head()"
   ]
  },
  {
   "cell_type": "code",
   "execution_count": 79,
   "metadata": {},
   "outputs": [
    {
     "data": {
      "text/plain": [
       "1    3974\n",
       "0    3947\n",
       "Name: gender_male, dtype: int64"
      ]
     },
     "execution_count": 79,
     "metadata": {},
     "output_type": "execute_result"
    }
   ],
   "source": [
    "dating_x.gender_male.value_counts()"
   ]
  },
  {
   "cell_type": "code",
   "execution_count": null,
   "metadata": {},
   "outputs": [],
   "source": []
  },
  {
   "cell_type": "markdown",
   "metadata": {},
   "source": [
    "# 2. Performing Supervised Learning on the Dataset¶"
   ]
  },
  {
   "cell_type": "code",
   "execution_count": 40,
   "metadata": {},
   "outputs": [],
   "source": [
    "# On the target feature, there are two classes (match or not)"
   ]
  },
  {
   "cell_type": "code",
   "execution_count": 41,
   "metadata": {},
   "outputs": [],
   "source": [
    "# Correlate the features that seem naturally influence the match decision : \n",
    "# age difference, correlate interests, rates of attractiveness, fun and like"
   ]
  },
  {
   "cell_type": "code",
   "execution_count": 42,
   "metadata": {},
   "outputs": [],
   "source": [
    "# verify the correlation\n",
    "# test on different model if it is confirmed"
   ]
  },
  {
   "cell_type": "code",
   "execution_count": 43,
   "metadata": {},
   "outputs": [],
   "source": [
    "from sklearn.model_selection import train_test_split\n",
    "\n",
    "X_train, X_test, y_train, y_test = train_test_split(dating_x, dating_y, test_size=0.2)"
   ]
  },
  {
   "cell_type": "code",
   "execution_count": 44,
   "metadata": {
    "scrolled": false
   },
   "outputs": [
    {
     "name": "stderr",
     "output_type": "stream",
     "text": [
      "C:\\Users\\Paul\\Anaconda3\\lib\\site-packages\\sklearn\\linear_model\\logistic.py:433: FutureWarning: Default solver will be changed to 'lbfgs' in 0.22. Specify a solver to silence this warning.\n",
      "  FutureWarning)\n"
     ]
    }
   ],
   "source": [
    "#The logistic regression is the appropriate model to fit naturally\n",
    "\n",
    "from sklearn.linear_model import LogisticRegression\n",
    "\n",
    "dating_log = LogisticRegression().fit(X_train, y_train)"
   ]
  },
  {
   "cell_type": "code",
   "execution_count": 45,
   "metadata": {},
   "outputs": [
    {
     "name": "stderr",
     "output_type": "stream",
     "text": [
      "C:\\Users\\Paul\\Anaconda3\\lib\\site-packages\\sklearn\\linear_model\\logistic.py:433: FutureWarning: Default solver will be changed to 'lbfgs' in 0.22. Specify a solver to silence this warning.\n",
      "  FutureWarning)\n"
     ]
    },
    {
     "data": {
      "text/plain": [
       "LogisticRegression(C=1.0, class_weight=None, dual=False, fit_intercept=True,\n",
       "          intercept_scaling=1, max_iter=100, multi_class='warn',\n",
       "          n_jobs=None, penalty='l2', random_state=None, solver='warn',\n",
       "          tol=0.0001, verbose=0, warm_start=False)"
      ]
     },
     "execution_count": 45,
     "metadata": {},
     "output_type": "execute_result"
    }
   ],
   "source": [
    "dating_log.fit(dating_x, dating_y)"
   ]
  },
  {
   "cell_type": "code",
   "execution_count": 80,
   "metadata": {},
   "outputs": [
    {
     "data": {
      "text/plain": [
       "array([-3.77472371])"
      ]
     },
     "execution_count": 80,
     "metadata": {},
     "output_type": "execute_result"
    }
   ],
   "source": [
    "dating_log.intercept_"
   ]
  },
  {
   "cell_type": "code",
   "execution_count": 123,
   "metadata": {},
   "outputs": [
    {
     "name": "stdout",
     "output_type": "stream",
     "text": [
      "has_null 0.010741243314502252\n",
      "wave 0.002888871875724701\n",
      "gender -0.03454161029915961\n",
      "age -0.012970415617770592\n",
      "d_d_age -0.034875908607003514\n",
      "samerace 0.0077310332831191835\n",
      "d_importance_same_race -0.02042583373451833\n",
      "d_importance_same_religion -0.053112489053946825\n",
      "d_attractive_important 0.039727419937796514\n",
      "d_sincere_important 0.0087912183109914\n",
      "d_intelligence_important -0.01256089683157551\n",
      "d_funny_important -0.03272750878691934\n",
      "d_ambition_important 0.10979011068198066\n",
      "d_shared_interests_important -0.005300470167001824\n",
      "d_attractive_partner 0.02506050922747711\n",
      "d_sincere_partner 0.1389733699395986\n",
      "d_intelligence_partner -0.0556454006231962\n",
      "d_funny_partner 0.09977297293745942\n",
      "d_ambition_partner 0.004249637469636309\n",
      "d_shared_interests_partner -0.018041313624919352\n",
      "d_sports 0.028887406987251465\n",
      "d_dining 0.04179196176067434\n",
      "d_art -0.024956541191704824\n",
      "d_clubbing -0.03138306763732233\n",
      "d_reading 0.003659354919978409\n",
      "d_tv 0.009453022838881133\n",
      "d_music 0.21942753352840214\n",
      "d_interests_correlate 0.3323585750920256\n",
      "d_like -0.12891965107660525\n",
      "already_met -0.053690975644052154\n"
     ]
    }
   ],
   "source": [
    "columns = dating.drop(\"match\",axis=1).columns.tolist()\n",
    "\n",
    "\n",
    "for col, coef_ in zip(columns, dating_log.coef_[0]):\n",
    "    print(col, coef_)"
   ]
  },
  {
   "cell_type": "code",
   "execution_count": 122,
   "metadata": {},
   "outputs": [
    {
     "data": {
      "text/plain": [
       "array([[ 0.01074124,  0.00288887, -0.03454161, -0.01297042, -0.03487591,\n",
       "         0.00773103, -0.02042583, -0.05311249,  0.03972742,  0.00879122,\n",
       "        -0.0125609 , -0.03272751,  0.10979011, -0.00530047,  0.02506051,\n",
       "         0.13897337, -0.0556454 ,  0.09977297,  0.00424964, -0.01804131,\n",
       "         0.02888741,  0.04179196, -0.02495654, -0.03138307,  0.00365935,\n",
       "         0.00945302,  0.21942753,  0.33235858, -0.12891965, -0.05369098,\n",
       "        -0.18685684, -0.357283  ]])"
      ]
     },
     "execution_count": 122,
     "metadata": {},
     "output_type": "execute_result"
    }
   ],
   "source": [
    "dating_log.coef_"
   ]
  },
  {
   "cell_type": "code",
   "execution_count": 82,
   "metadata": {},
   "outputs": [
    {
     "name": "stdout",
     "output_type": "stream",
     "text": [
      "Our model predicts the variation in the data at 83.01982072970584 %\n"
     ]
    }
   ],
   "source": [
    "#score returns the coefficient of determination or r squared. \n",
    "#This number tells us what proportion of the variation in the data is explained by the model\n",
    "score = dating_log.score(dating_x, dating_y)\n",
    "print('Our model predicts the variation in the data at', (score)*100, '%')"
   ]
  },
  {
   "cell_type": "markdown",
   "metadata": {},
   "source": [
    "# Testing & obtaining quality metrics"
   ]
  },
  {
   "cell_type": "raw",
   "metadata": {},
   "source": [
    "# Testing on logistic regression model & obtaining quality metrics"
   ]
  },
  {
   "cell_type": "code",
   "execution_count": 49,
   "metadata": {},
   "outputs": [],
   "source": [
    "from sklearn import metrics"
   ]
  },
  {
   "cell_type": "code",
   "execution_count": 50,
   "metadata": {},
   "outputs": [
    {
     "data": {
      "text/plain": [
       "array([[1294,   35],\n",
       "       [ 238,   18]], dtype=int64)"
      ]
     },
     "execution_count": 50,
     "metadata": {},
     "output_type": "execute_result"
    }
   ],
   "source": [
    "from sklearn.metrics import confusion_matrix\n",
    "\n",
    "y_pred_test = dating_log.predict(X_test)\n",
    "confusion_matrix(y_test, y_pred_test) # display a heatmap with seaborn"
   ]
  },
  {
   "cell_type": "code",
   "execution_count": 51,
   "metadata": {},
   "outputs": [],
   "source": [
    "#The first entry in our matrix is the number of observations correctly classified as 0 (or failure). \n",
    "#The second entry in the matrix are all entries incorrectly classified as 1 (or success). \n",
    "#These observations are actually zeros but our algorithm classified them as 1. \n",
    "#The third entry contains the count of all observations incorrectly classified as zero (or failure). \n",
    "#The last entry contains the count of observations correctly classified as 1. \n",
    "#Our goal is to maximize the first and last entries (the correctly classified observations) and minimize the incorrectly classified information. \n",
    "#As we can see, out of 1585 observations, 1329 (or 83,8%) are correctly classified."
   ]
  },
  {
   "cell_type": "code",
   "execution_count": 52,
   "metadata": {},
   "outputs": [
    {
     "data": {
      "text/plain": [
       "[<matplotlib.lines.Line2D at 0x1d747c999e8>]"
      ]
     },
     "execution_count": 52,
     "metadata": {},
     "output_type": "execute_result"
    },
    {
     "data": {
      "image/png": "[encoded data removed]",
      "text/plain": [
       "<Figure size 432x288 with 1 Axes>"
      ]
     },
     "metadata": {
      "needs_background": "light"
     },
     "output_type": "display_data"
    }
   ],
   "source": [
    "y_pred_proba = dating_log.predict_proba(dating_x)[::,1]\n",
    "fpr, tpr, _ = metrics.roc_curve(dating_y,  y_pred_proba)\n",
    "auc = metrics.roc_auc_score(dating_y, y_pred_proba)\n",
    "plt.plot(fpr,tpr)"
   ]
  },
  {
   "cell_type": "code",
   "execution_count": 53,
   "metadata": {
    "scrolled": true
   },
   "outputs": [
    {
     "name": "stdout",
     "output_type": "stream",
     "text": [
      "The Area Under The Curve is 0.7667895273002715\n"
     ]
    }
   ],
   "source": [
    "print('The Area Under The Curve is', auc)"
   ]
  },
  {
   "cell_type": "code",
   "execution_count": 54,
   "metadata": {},
   "outputs": [],
   "source": [
    "#We can see that the area under the curve is larger than the x = y diagonal. In fact, we have computed it to be over 0.76"
   ]
  },
  {
   "cell_type": "code",
   "execution_count": 55,
   "metadata": {},
   "outputs": [
    {
     "name": "stdout",
     "output_type": "stream",
     "text": [
      "The model accurary score is 0.8277602523659306\n"
     ]
    }
   ],
   "source": [
    "#Accuracy Score: The simplest classification metric simply calculates the ratio of correct to incorrect predictions.\n",
    "from sklearn.metrics import accuracy_score\n",
    "\n",
    "y_pred_test = dating_log.predict(X_test)\n",
    "score = accuracy_score(y_test, y_pred_test)\n",
    "print('The model accurary score is', score)"
   ]
  },
  {
   "cell_type": "code",
   "execution_count": 113,
   "metadata": {},
   "outputs": [
    {
     "name": "stderr",
     "output_type": "stream",
     "text": [
      "C:\\Users\\Paul\\Anaconda3\\lib\\site-packages\\sklearn\\ensemble\\forest.py:246: FutureWarning: The default value of n_estimators will change from 10 in version 0.20 to 100 in 0.22.\n",
      "  \"10 in version 0.20 to 100 in 0.22.\", FutureWarning)\n"
     ]
    },
    {
     "name": "stdout",
     "output_type": "stream",
     "text": [
      "Stats sur le train\n",
      "(array([0.97201112, 0.98087141]), array([0.99657925, 0.8594041 ]), array([0.98414188, 0.91612903]), array([5262, 1074], dtype=int64))\n",
      "[[5244   18]\n",
      " [ 151  923]]\n",
      "Stats sur le test\n",
      "(array([0.86054422, 0.44347826]), array([0.95184349, 0.19921875]), array([0.90389425, 0.27493261]), array([1329,  256], dtype=int64))\n"
     ]
    },
    {
     "data": {
      "text/plain": [
       "array([[1265,   64],\n",
       "       [ 205,   51]], dtype=int64)"
      ]
     },
     "execution_count": 113,
     "metadata": {},
     "output_type": "execute_result"
    }
   ],
   "source": [
    "#The random forest classifier is one other model to try\n",
    "\n",
    "from sklearn.ensemble import RandomForestClassifier\n",
    "\n",
    "# Init\n",
    "dating_rf = RandomForestClassifier()\n",
    "\n",
    "# On entraine\n",
    "dating_rf = dating_rf.fit(X_train, y_train)\n",
    "\n",
    "# On prédit sur le train\n",
    "y_pred_train = dating_rf.predict(X_train)\n",
    "# On regarde les métriques sur le train\n",
    "print(\"Stats sur le train\")\n",
    "print(precision_recall_fscore_support(y_train, y_pred_train, beta=1.0, \n",
    "                                 labels=None, pos_label=1, average=None, \n",
    "                                 warn_for=(\"precision\", \"recall\", \"f-score\"), sample_weight=None))\n",
    "\n",
    "print(confusion_matrix(y_train, y_pred_train))\n",
    "# On prédit sur le test\n",
    "y_pred_test = dating_rf.predict(X_test)\n",
    "# On regarde les métriques sur le test\n",
    "print(\"Stats sur le test\")\n",
    "print(precision_recall_fscore_support(y_test, y_pred_test, beta=1.0, \n",
    "                                 labels=None, pos_label=1, average=None, \n",
    "                                 warn_for=(\"precision\", \"recall\", \"f-score\"), sample_weight=None))\n",
    "confusion_matrix(y_test, y_pred_test)"
   ]
  },
  {
   "cell_type": "code",
   "execution_count": 57,
   "metadata": {},
   "outputs": [
    {
     "data": {
      "text/plain": [
       "array([[1270,   59],\n",
       "       [ 211,   45]], dtype=int64)"
      ]
     },
     "execution_count": 57,
     "metadata": {},
     "output_type": "execute_result"
    }
   ],
   "source": [
    "y_pred_test_rf = dating_rf.predict(X_test)\n",
    "confusion_matrix(y_test, y_pred_test_rf)"
   ]
  },
  {
   "cell_type": "code",
   "execution_count": 58,
   "metadata": {},
   "outputs": [],
   "source": [
    "#As we can see, out of 1585 observations, 1310 (or 82,6 %) are correctly classified."
   ]
  },
  {
   "cell_type": "code",
   "execution_count": 59,
   "metadata": {},
   "outputs": [
    {
     "data": {
      "text/plain": [
       "[<matplotlib.lines.Line2D at 0x1d747e059e8>]"
      ]
     },
     "execution_count": 59,
     "metadata": {},
     "output_type": "execute_result"
    },
    {
     "data": {
      "image/png": "[encoded data removed]",
      "text/plain": [
       "<Figure size 432x288 with 1 Axes>"
      ]
     },
     "metadata": {
      "needs_background": "light"
     },
     "output_type": "display_data"
    }
   ],
   "source": [
    "y_pred_proba_rf = dating_rf.predict_proba(X_test)[::,1]\n",
    "fpr, tpr, _ = metrics.roc_curve(y_test,  y_pred_proba_rf)\n",
    "auc = metrics.roc_auc_score(y_test, y_pred_proba_rf)\n",
    "\n",
    "plt.plot(fpr,tpr)"
   ]
  },
  {
   "cell_type": "code",
   "execution_count": 60,
   "metadata": {},
   "outputs": [
    {
     "name": "stdout",
     "output_type": "stream",
     "text": [
      "The Area Under The Curve is 0.7181386380737396\n"
     ]
    }
   ],
   "source": [
    "print('The Area Under The Curve is', auc)"
   ]
  },
  {
   "cell_type": "code",
   "execution_count": 61,
   "metadata": {},
   "outputs": [],
   "source": [
    "#We can see that the area under the curve is larger than the x = y diagonal. In fact, we have computed it to be over 0.69. \n",
    "#The log regression model obtained more qualitative metrics."
   ]
  },
  {
   "cell_type": "code",
   "execution_count": 107,
   "metadata": {},
   "outputs": [
    {
     "data": {
      "text/plain": [
       "KNeighborsClassifier(algorithm='auto', leaf_size=30, metric='minkowski',\n",
       "           metric_params=None, n_jobs=None, n_neighbors=5, p=2,\n",
       "           weights='uniform')"
      ]
     },
     "execution_count": 107,
     "metadata": {},
     "output_type": "execute_result"
    }
   ],
   "source": [
    "from sklearn.neighbors import KNeighborsClassifier\n",
    "\n",
    "neighbor_model = KNeighborsClassifier(n_neighbors=5) \n",
    "neighbor_model.fit(dating_x, dating_y) "
   ]
  },
  {
   "cell_type": "code",
   "execution_count": 108,
   "metadata": {},
   "outputs": [
    {
     "data": {
      "text/plain": [
       "(array([0.88718876, 0.70901639]),\n",
       " array([0.9676832 , 0.39022556]),\n",
       " array([0.9256894 , 0.50339476]),\n",
       " array([6591, 1330], dtype=int64))"
      ]
     },
     "execution_count": 108,
     "metadata": {},
     "output_type": "execute_result"
    }
   ],
   "source": [
    "pred_ = neighbor_model.predict(dating_x)\n",
    "\n",
    "precision_recall_fscore_support(dating_y, pred_, beta=1.0, \n",
    "                                 labels=None, pos_label=1, average=None, \n",
    "                                 warn_for=(\"precision\", \"recall\", \"f-score\"), sample_weight=None)"
   ]
  },
  {
   "cell_type": "code",
   "execution_count": 63,
   "metadata": {},
   "outputs": [],
   "source": [
    "#obs = np.array([[0.5, 0.3, 0.05, 0.6, 0.2, 0.1, 0.1, 8]])\n",
    "#print(neighbor_model.predict(obs))"
   ]
  },
  {
   "cell_type": "markdown",
   "metadata": {},
   "source": [
    "# 3. Deploying the model on the train set"
   ]
  },
  {
   "cell_type": "code",
   "execution_count": 90,
   "metadata": {},
   "outputs": [
    {
     "name": "stderr",
     "output_type": "stream",
     "text": [
      "C:\\Users\\Paul\\Anaconda3\\lib\\site-packages\\sklearn\\linear_model\\logistic.py:433: FutureWarning: Default solver will be changed to 'lbfgs' in 0.22. Specify a solver to silence this warning.\n",
      "  FutureWarning)\n"
     ]
    },
    {
     "name": "stdout",
     "output_type": "stream",
     "text": [
      "Model performance on training set: 0.8306502525252525\n",
      "Model performance on testing set: 0.828391167192429\n"
     ]
    }
   ],
   "source": [
    "dating_log.fit(X_train, y_train)\n",
    "\n",
    "print(\"Model performance on training set: {}\".format(dating_log.score(X_train, y_train)))\n",
    "print(\"Model performance on testing set: {}\".format(dating_log.score(X_test, y_test)))\n"
   ]
  },
  {
   "cell_type": "markdown",
   "metadata": {},
   "source": [
    "Evaluating Classification Model"
   ]
  },
  {
   "cell_type": "code",
   "execution_count": 91,
   "metadata": {},
   "outputs": [],
   "source": [
    "y_pred = dating_log.predict(X_test)\n",
    "\n",
    "y_pred_train = dating_log.predict(X_train)"
   ]
  },
  {
   "cell_type": "code",
   "execution_count": 92,
   "metadata": {},
   "outputs": [
    {
     "name": "stdout",
     "output_type": "stream",
     "text": [
      "The model R-squared score is -0.2029837625730171\n"
     ]
    }
   ],
   "source": [
    "from sklearn.metrics import r2_score\n",
    "\n",
    "score = r2_score(y_train, y_pred_train)\n",
    "print('The model R-squared score is', score)"
   ]
  },
  {
   "cell_type": "code",
   "execution_count": 99,
   "metadata": {},
   "outputs": [
    {
     "data": {
      "text/plain": [
       "array([[5139,  123],\n",
       "       [ 950,  124]], dtype=int64)"
      ]
     },
     "execution_count": 99,
     "metadata": {},
     "output_type": "execute_result"
    }
   ],
   "source": [
    "confusion_matrix(y_train, y_pred_train) # display a heatmap with seaborn"
   ]
  },
  {
   "cell_type": "code",
   "execution_count": 100,
   "metadata": {},
   "outputs": [
    {
     "data": {
      "text/plain": [
       "(array([0.84398095, 0.50202429]),\n",
       " array([0.97662486, 0.11545624]),\n",
       " array([0.90547088, 0.18773656]),\n",
       " array([5262, 1074], dtype=int64))"
      ]
     },
     "execution_count": 100,
     "metadata": {},
     "output_type": "execute_result"
    }
   ],
   "source": [
    "from sklearn.metrics import precision_recall_fscore_support\n",
    "\n",
    "\n",
    "precision_recall_fscore_support(y_train, y_pred_train, beta=1.0, \n",
    "                                 labels=None, pos_label=1, average=None, \n",
    "                                 warn_for=(\"precision\", \"recall\", \"f-score\"), sample_weight=None)"
   ]
  },
  {
   "cell_type": "code",
   "execution_count": 94,
   "metadata": {},
   "outputs": [
    {
     "name": "stdout",
     "output_type": "stream",
     "text": [
      "The model accurary score is 0.8306502525252525\n"
     ]
    }
   ],
   "source": [
    "from sklearn.metrics import accuracy_score\n",
    "\n",
    "score = accuracy_score(y_train, y_pred_train)\n",
    "print('The model accurary score is', score)"
   ]
  },
  {
   "cell_type": "code",
   "execution_count": 95,
   "metadata": {},
   "outputs": [
    {
     "name": "stdout",
     "output_type": "stream",
     "text": [
      "The model balanced accurary score is 0.5460405479149547\n"
     ]
    }
   ],
   "source": [
    "from sklearn.metrics import balanced_accuracy_score\n",
    "\n",
    "score = balanced_accuracy_score(y_train, y_pred_train)\n",
    "print('The model balanced accurary score is', score)"
   ]
  },
  {
   "cell_type": "code",
   "execution_count": 96,
   "metadata": {},
   "outputs": [
    {
     "name": "stdout",
     "output_type": "stream",
     "text": [
      "The model precision score is 0.5020242914979757\n",
      "The model recall score is 0.1154562383612663\n",
      "The model f1 score is 0.18773656320968965\n"
     ]
    }
   ],
   "source": [
    "from sklearn.metrics import precision_score, recall_score, f1_score\n",
    "\n",
    "precision = precision_score(y_train, y_pred_train)\n",
    "recall = recall_score(y_train, y_pred_train)\n",
    "f1_score = f1_score(y_train, y_pred_train)\n",
    "print('The model precision score is', precision)\n",
    "print('The model recall score is', recall)\n",
    "print('The model f1 score is', f1_score)"
   ]
  },
  {
   "cell_type": "code",
   "execution_count": 70,
   "metadata": {},
   "outputs": [],
   "source": [
    "#from sklearn.metrics import roc_curve, roc_auc_score\n",
    "\n",
    "#fpr, tpr, thresholds = roc_curve(y, scores)\n",
    "#roc_auc_score(y_true, y_scores)"
   ]
  },
  {
   "cell_type": "code",
   "execution_count": 71,
   "metadata": {},
   "outputs": [],
   "source": [
    "#Interprete the metrics precision, recall, f1 scores"
   ]
  },
  {
   "cell_type": "code",
   "execution_count": null,
   "metadata": {},
   "outputs": [],
   "source": []
  }
 ],
 "metadata": {
  "kernelspec": {
   "display_name": "Python 3",
   "language": "python",
   "name": "python3"
  },
  "language_info": {
   "codemirror_mode": {
    "name": "ipython",
    "version": 3
   },
   "file_extension": ".py",
   "mimetype": "text/x-python",
   "name": "python",
   "nbconvert_exporter": "python",
   "pygments_lexer": "ipython3",
   "version": "3.7.4"
  }
 },
 "nbformat": 4,
 "nbformat_minor": 2
}
